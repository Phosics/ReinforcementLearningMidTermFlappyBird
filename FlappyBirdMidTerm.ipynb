{
  "nbformat": 4,
  "nbformat_minor": 0,
  "metadata": {
    "colab": {
      "provenance": [],
      "collapsed_sections": [
        "9PsfB8bB6EVL",
        "-4Z_jvJErVsQ"
      ],
      "include_colab_link": true
    },
    "kernelspec": {
      "name": "python3",
      "display_name": "Python 3"
    },
    "language_info": {
      "name": "python"
    }
  },
  "cells": [
    {
      "cell_type": "markdown",
      "metadata": {
        "id": "view-in-github",
        "colab_type": "text"
      },
      "source": [
        "<a href=\"https://colab.research.google.com/github/Phosics/ReinforcementLearningMidTermFlappyBird/blob/main/FlappyBirdMidTerm.ipynb\" target=\"_parent\"><img src=\"https://colab.research.google.com/assets/colab-badge.svg\" alt=\"Open In Colab\"/></a>"
      ]
    },
    {
      "cell_type": "markdown",
      "source": [
        "## Installs"
      ],
      "metadata": {
        "id": "LzEyrrIkyiik"
      }
    },
    {
      "cell_type": "markdown",
      "source": [
        "## Imports"
      ],
      "metadata": {
        "id": "s5hzkeZvyYk1"
      }
    },
    {
      "cell_type": "code",
      "source": [
        "!git clone https://github.com/ntasfi/PyGame-Learning-Environment\n",
        "!pip install gym_ple\n",
        "!pip install -e ./PyGame-Learning-Environment\n",
        "!pip install pyvirtualdisplay\n",
        "!sudo apt-get install -y xvfb ffmpeg freeglut3-dev"
      ],
      "metadata": {
        "id": "7vj5IGwnxwZ1",
        "colab": {
          "base_uri": "https://localhost:8080/"
        },
        "outputId": "b8484571-3da5-41f5-eb47-687cadf734ba"
      },
      "execution_count": 52,
      "outputs": [
        {
          "output_type": "stream",
          "name": "stdout",
          "text": [
            "fatal: destination path 'PyGame-Learning-Environment' already exists and is not an empty directory.\n",
            "Requirement already satisfied: gym_ple in /usr/local/lib/python3.10/dist-packages (0.3)\n",
            "Obtaining file:///content/PyGame-Learning-Environment\n",
            "  Preparing metadata (setup.py) ... \u001b[?25l\u001b[?25hdone\n",
            "Requirement already satisfied: numpy in /usr/local/lib/python3.10/dist-packages (from ple==0.0.1) (1.26.4)\n",
            "Requirement already satisfied: Pillow in /usr/local/lib/python3.10/dist-packages (from ple==0.0.1) (11.0.0)\n",
            "Installing collected packages: ple\n",
            "  Attempting uninstall: ple\n",
            "    Found existing installation: ple 0.0.1\n",
            "    Uninstalling ple-0.0.1:\n",
            "      Successfully uninstalled ple-0.0.1\n",
            "  Running setup.py develop for ple\n",
            "Successfully installed ple-0.0.1\n",
            "Requirement already satisfied: pyvirtualdisplay in /usr/local/lib/python3.10/dist-packages (3.0)\n",
            "Reading package lists... Done\n",
            "Building dependency tree... Done\n",
            "Reading state information... Done\n",
            "freeglut3-dev is already the newest version (2.8.1-6).\n",
            "ffmpeg is already the newest version (7:4.4.2-0ubuntu0.22.04.1).\n",
            "xvfb is already the newest version (2:21.1.4-2ubuntu1.7~22.04.12).\n",
            "0 upgraded, 0 newly installed, 0 to remove and 49 not upgraded.\n"
          ]
        }
      ]
    },
    {
      "cell_type": "code",
      "source": [
        "import sys\n",
        "sys.path.append('/content/PyGame-Learning-Environment')\n",
        "from ple.games.flappybird import FlappyBird\n",
        "from ple import PLE\n",
        "from gym import spaces\n",
        "import IPython\n",
        "import numpy as np\n",
        "import gym\n",
        "import os\n",
        "import pyvirtualdisplay\n",
        "import base64\n",
        "import warnings\n",
        "import imageio\n",
        "from abc import ABC, abstractmethod\n",
        "warnings.filterwarnings(\"ignore\")\n",
        "import matplotlib.pyplot as plt\n"
      ],
      "metadata": {
        "id": "gyVRgQEU4_M_"
      },
      "execution_count": 53,
      "outputs": []
    },
    {
      "cell_type": "markdown",
      "source": [
        "## Utility function to display episode"
      ],
      "metadata": {
        "id": "9PsfB8bB6EVL"
      }
    },
    {
      "cell_type": "code",
      "source": [
        "def embed_mp4(filename):\n",
        "  \"\"\"Embeds an mp4 file in the notebook.\"\"\"\n",
        "  video = open(filename,'rb').read()\n",
        "  b64 = base64.b64encode(video)\n",
        "  tag = '''\n",
        "  <video width=\"640\" height=\"480\" controls>\n",
        "    <source src=\"data:video/mp4;base64,{0}\" type=\"video/mp4\">\n",
        "  Your browser does not support the video tag.\n",
        "  </video>'''.format(b64.decode())\n",
        "\n",
        "  return IPython.display.HTML(tag)\n",
        "display = pyvirtualdisplay.Display(visible=0, size=(1400, 900)).start()"
      ],
      "metadata": {
        "id": "h-jaUHEU6Dau"
      },
      "execution_count": 54,
      "outputs": []
    },
    {
      "cell_type": "markdown",
      "source": [
        "## Environment"
      ],
      "metadata": {
        "id": "9mx2jFonhEun"
      }
    },
    {
      "cell_type": "markdown",
      "source": [
        "### Environment Summary\n",
        "\n",
        "This environment simulates the *Flappy Bird* game, where the agent controls the bird’s vertical position to navigate through gaps in pipes. Built on OpenAI’s `gym.Env` class, the environment allows interaction through standard functions like `step`, `reset`, and `render`.\n",
        "\n",
        "**Key Components**\n",
        "\n",
        "- **Observation Space**: The observation space includes 8 integer values, each representing a different aspect of the game state. These include:\n",
        "  - `\"player_y\"`: The bird's vertical position.\n",
        "  - `\"player_vel\"`: The bird's vertical velocity.\n",
        "  - `\"next_pipe_dist_to_player\"`: Horizontal distance to the next pipe.\n",
        "  - Additional features: Positions of the top and bottom of the next two pipes, enabling the agent to anticipate upcoming gaps.\n",
        "\n",
        "- **Action Space**: This is a discrete space with two actions:\n",
        "  - `0`: No flap (bird falls due to gravity).\n",
        "  - `1`: Flap (bird moves upward).\n",
        "- **Using the Environment**\n",
        "\n",
        "  - **Step:**\n",
        "    The `step` function returns four parameters: `obs`, `reward`, `done`, and `info`.\n",
        "\n",
        "    - **`obs`**: The new observation after applying the action.\n",
        "    - **`reward`**: The reward received for the action.\n",
        "    - **`done`**: A boolean indicating whether the episode has ended.\n",
        "    - **`info`**: A dictionary containing additional information. In this environment, the `info` dictionary includes a `\"score\"` entry that indicates how many pipes the bird has passed since the beginning of the episode.\n",
        "  - **Reset**\n",
        "    The `reset` function restores the environment to its initial state and returns the observation of that state.\n",
        "\n",
        "  - **Render**\n",
        "    The `render` function returns an image of the current state as a NumPy array (`np.array`).\n",
        "\n",
        "  See the `Running the environment` section below for an example of how to use it.\n",
        "\n",
        "- **Customizable Parameters**:\n",
        "  - **`pipe_gap`**: This controls the vertical gap between pipes. The default is set to `80`, providing a moderate challenge.\n",
        "  - **`custom_obs`** and **`custome_observation_map`**: Setting `custom_obs=True` instructs the environment to use a custom `observation_map` specified by the user, rather than the default map. When using a custom observation map, the user must also provide a `preprocess` function compatible with the custom observation map to ensure the observations are correctly processed for the agent.\n",
        "\n",
        "  - **`preprocess`** and **`reward_shaping`**: Optional functions that allow the user to customize how observations and rewards are modified. The `preprocess` function transforms the raw observations according to the specified `observation_map`, while `reward_shaping` allows for custom adjustments to the reward structure, helping to align the environment with the agent’s learning goals.\n",
        "\n",
        "  See the `Custom observation and reward shaping example of usage` section below for an example of usage.\n",
        "\n",
        "\n",
        "\n",
        "\n"
      ],
      "metadata": {
        "id": "odWvOUz5r-Y3"
      }
    },
    {
      "cell_type": "code",
      "source": [
        "# to disable the python game window popup\n",
        "os.environ[\"SDL_VIDEODRIVER\"] = \"dummy\"\n",
        "\n",
        "OBSERVATION_MAP = {0: 'player_y',\n",
        "                   1: \"player_vel\",\n",
        "                   2: \"next_pipe_dist_to_player\",\n",
        "                   3: \"next_pipe_top_y\",\n",
        "                   4: \"next_pipe_bottom_y\",\n",
        "                   5: \"next_next_pipe_dist_to_player\",\n",
        "                   6: \"next_next_pipe_top_y\",\n",
        "                   7: \"next_next_pipe_bottom_y\",\n",
        "}\n",
        "\n",
        "class Game(gym.Env):\n",
        "    def __init__(self, display_screen=False,\n",
        "                 force_fps=True,\n",
        "                 custom_obs=False,\n",
        "                 pipe_gap=80,\n",
        "                 custome_observation_map={},\n",
        "                 preprocess=lambda x: x,\n",
        "                 reward_shaping=lambda x, y, z: x):\n",
        "\n",
        "        os.environ[\"SDL_VIDEODRIVER\"] = \"dummy\"\n",
        "        game = FlappyBird(pipe_gap=pipe_gap)  # define and initiate the environment\n",
        "        self.env = PLE(game, fps=30, display_screen=display_screen,\n",
        "                       force_fps=force_fps)\n",
        "        self.env.init()\n",
        "        # list of actions in the environment\n",
        "        self.actions = self.env.getActionSet()\n",
        "        # length of actions\n",
        "        self.action_space = spaces.Discrete(len(self.actions))\n",
        "        self.custom_obs = custom_obs\n",
        "        self._observation_map = custome_observation_map if custom_obs else OBSERVATION_MAP\n",
        "        self.preprocess = preprocess\n",
        "        self.reward_shaping = reward_shaping\n",
        "        self.score = 0\n",
        "\n",
        "    @property\n",
        "    def observation_space(self):\n",
        "        return spaces.Box(low=0, high=512, shape=(len(self._observation_map),), dtype=int)\n",
        "\n",
        "    def _get_rgb(self):\n",
        "        return self.env.getScreenRGB().transpose(1, 0, 2)\n",
        "\n",
        "    @property\n",
        "    def observation_map(self):\n",
        "        return self._observation_map\n",
        "\n",
        "    def step(self, action):\n",
        "        \"\"\"Take the action chosen and update the reward\"\"\"\n",
        "        reward = self.env.act(self.actions[action])\n",
        "        if reward < 0:\n",
        "          reward = -1\n",
        "\n",
        "        if reward > 0:\n",
        "          self.score += 1\n",
        "        state = self.env.getGameState()\n",
        "        terminal = self.env.game_over()\n",
        "        reward = self.reward_shaping(reward, terminal, env)\n",
        "        info = {'score':self.score}\n",
        "        return self.preprocess(np.array(list(state.values())).astype(int)), reward, terminal, info\n",
        "\n",
        "    def getGameState(self):\n",
        "        '''\n",
        "        PLEenv return gamestate as a dictionary. Returns a modified form\n",
        "        of the gamestate only with the required information to define the state\n",
        "        '''\n",
        "        state = self.env.getGameState()\n",
        "        h_dist = state['next_pipe_dist_to_player']\n",
        "        v_dist = state['next_pipe_bottom_y'] - state['player_y']\n",
        "        vel = state['player_vel']\n",
        "\n",
        "        return ' '.join([str(vel), str(h_dist), str(v_dist)])\n",
        "\n",
        "    def reset(self):\n",
        "        \"\"\"Resets the game to start a new game\"\"\"\n",
        "        self.env.reset_game()\n",
        "        state = self.env.getGameState()\n",
        "        self.score = 0\n",
        "        return self.preprocess(np.array(list(state.values())).astype(int))\n",
        "\n",
        "    def render(self, mode='human'):\n",
        "        \"\"\"Render the game\"\"\"\n",
        "        return self._get_rgb()\n",
        "\n",
        "    def seed(self, seed):\n",
        "        rng = np.random.RandomState(seed)\n",
        "        self.env.rng = rng\n",
        "        self.env.game.rng = self.env.rng\n",
        "\n",
        "        self.env.init()"
      ],
      "metadata": {
        "id": "hEXHvbNYyd8L"
      },
      "execution_count": 55,
      "outputs": []
    },
    {
      "cell_type": "code",
      "source": [
        "env = Game(custom_obs=False)"
      ],
      "metadata": {
        "id": "kvGaOUG3ht8r"
      },
      "execution_count": null,
      "outputs": []
    },
    {
      "cell_type": "markdown",
      "source": [
        "### Observation space"
      ],
      "metadata": {
        "id": "64PvA8g5_PV1"
      }
    },
    {
      "cell_type": "code",
      "source": [
        "print(f\"observation space: {env.observation_space}\")\n",
        "for feaure, des in env.observation_map.items():\n",
        "  print(f\"feaure: {feaure} -> {des}\")"
      ],
      "metadata": {
        "colab": {
          "base_uri": "https://localhost:8080/"
        },
        "id": "bVz0zDuP_mI6",
        "outputId": "72a7ae5a-d621-423d-b32c-6bb1884a674b"
      },
      "execution_count": null,
      "outputs": [
        {
          "output_type": "stream",
          "name": "stdout",
          "text": [
            "observation space: Box(0, 512, (8,), int64)\n",
            "feaure: 0 -> player_y\n",
            "feaure: 1 -> player_vel\n",
            "feaure: 2 -> next_pipe_dist_to_player\n",
            "feaure: 3 -> next_pipe_top_y\n",
            "feaure: 4 -> next_pipe_bottom_y\n",
            "feaure: 5 -> next_next_pipe_dist_to_player\n",
            "feaure: 6 -> next_next_pipe_top_y\n",
            "feaure: 7 -> next_next_pipe_bottom_y\n"
          ]
        }
      ]
    },
    {
      "cell_type": "markdown",
      "source": [
        "In this *Flappy Bird* environment, the `Box` type represents a `Discrete` observation space in OpenAI's Gym, providing the agent with a range of values in each dimension of the environment. Here’s what each part means:\n",
        "\n",
        "* **Box**: This type of space is used to define a `Discrete`  range of values for each observation dimension. Here, it represents an 8-dimensional vector.\n",
        "* **(0, 512)**: Each dimension within this space can take values from 0 to 512, which corresponds to the pixel boundaries of the game.\n",
        "* **(8,)**: This shape indicates that there are 8 distinct variables in the observation vector, each capturing a critical feature of the environment.\n",
        "* **int64**: Each value in the vector is an integer of 64-bit precision.\n",
        "\n",
        "In summary, `Box(0, 512, (8,), int64)` represents an 8-dimensional vector space where each element is an integer from 0 to 512. Each dimension corresponds to a specific aspect of the *Flappy Bird* environment:\n",
        "\n",
        "1. **Player Y Position**: The vertical position of the bird, representing its height on the screen.\n",
        "2. **Player Velocity**: The bird’s current velocity, which impacts its movement and helps determine when to flap.\n",
        "3. **Distance to Next Pipe**: The horizontal distance between the bird and the next pipe, crucial for timing flaps.\n",
        "4. **Next Pipe Top Y Position**: The vertical position of the top of the next pipe, helping the bird gauge the gap.\n",
        "5. **Next Pipe Bottom Y Position**: The vertical position of the bottom of the next pipe, providing further data for navigating the gap.\n",
        "6. **Distance to Next-Next Pipe**: The horizontal distance to the pipe after the next one, giving the bird foresight into upcoming obstacles.\n",
        "7. **Next-Next Pipe Top Y Position**: The vertical position of the top of the pipe after the next one, extending the bird's view of upcoming gaps.\n",
        "8. **Next-Next Pipe Bottom Y Position**: The vertical position of the bottom of the pipe after the next one, for additional planning.\n",
        "\n",
        "Together, these dimensions offer the agent a detailed snapshot of the environment, helping it make decisions based on its position, velocity, and the layout of both current and upcoming obstacles.\n"
      ],
      "metadata": {
        "id": "bQsBJauryXVC"
      }
    },
    {
      "cell_type": "markdown",
      "source": [
        "### Action space"
      ],
      "metadata": {
        "id": "TLuIANMX0JRC"
      }
    },
    {
      "cell_type": "code",
      "source": [
        "env.action_space"
      ],
      "metadata": {
        "colab": {
          "base_uri": "https://localhost:8080/"
        },
        "id": "siDgIRASziZD",
        "outputId": "82939ff6-ccaa-4311-ff6d-f5b6513b76ff"
      },
      "execution_count": null,
      "outputs": [
        {
          "output_type": "execute_result",
          "data": {
            "text/plain": [
              "Discrete(2)"
            ]
          },
          "metadata": {},
          "execution_count": 8
        }
      ]
    },
    {
      "cell_type": "markdown",
      "source": [
        "In this *Flappy Bird* environment, the `Discrete(2)` action space defines the possible actions the agent can take, using a finite set of discrete values:\n",
        "\n",
        "* **Discrete**: This type of space is used when there are a limited number of distinct actions.\n",
        "* **2**: The number of actions available, represented by values 0 and 1.\n",
        "\n",
        "For *Flappy Bird*, these actions correspond to:\n",
        "  * **0**: Do nothing (the bird continues to fall due to gravity).\n",
        "  * **1**: Flap (the bird moves upward briefly).\n",
        "\n",
        "In summary, `Discrete(2)` defines an action space with two possible actions: allowing the bird to either continue falling or flap to move upward, which is essential for navigating the gaps between pipes.\n"
      ],
      "metadata": {
        "id": "tdPOZw630TUx"
      }
    },
    {
      "cell_type": "markdown",
      "source": [
        "### Rewards\n",
        "\n",
        "*Reward Structure:*\n",
        "\n",
        "\n",
        "\n",
        "*   **Positive Reward**: For each pipe successfully passed, the agent receives a reward of **+1**.\n",
        "*   **Negative Reward**: Upon reaching any terminal state, the agent receives a penalty of **-1**.\n",
        "*   **Zero Reward**: Any other senario the reward is **0**\n",
        "\n",
        "\n"
      ],
      "metadata": {
        "id": "oA95yg2--eXX"
      }
    },
    {
      "cell_type": "markdown",
      "source": [
        "### Running the environmen"
      ],
      "metadata": {
        "id": "sTbzOYOG33sE"
      }
    },
    {
      "cell_type": "code",
      "source": [
        "env = Game()\n",
        "env.seed(42)\n",
        "obs = env.reset()\n",
        "video_filename = '/content/vid.mp4'\n",
        "max_steps = 100\n",
        "# Evaluation\n",
        "with imageio.get_writer(video_filename, fps=24) as video:\n",
        "  obs = env.reset()\n",
        "  done = False\n",
        "  total_reward = 0\n",
        "  for step in range(max_steps):\n",
        "      action = env.action_space.sample()\n",
        "      obs, reward, done, info = env.step(action)\n",
        "      next_obs = obs  # Get agent's position directly from the environment\n",
        "      total_reward += reward\n",
        "      re = env.render()\n",
        "      video.append_data(re)\n",
        "      if done:\n",
        "        score = info['score']\n",
        "        print(\"Sum of rewards =\", total_reward, \", Number of steps=\", step, \"score: \", score)\n",
        "        break\n",
        "embed_mp4(video_filename)"
      ],
      "metadata": {
        "colab": {
          "base_uri": "https://localhost:8080/",
          "height": 519
        },
        "id": "OKOTC3dh38AP",
        "outputId": "3b8e046e-e9c0-4888-cb32-42d092101b93"
      },
      "execution_count": null,
      "outputs": [
        {
          "output_type": "stream",
          "name": "stdout",
          "text": [
            "Sum of rewards = -1.0 , Number of steps= 64 score:  0\n"
          ]
        },
        {
          "output_type": "execute_result",
          "data": {
            "text/plain": [
              "<IPython.core.display.HTML object>"
            ],
            "text/html": [
              "\n",
              "  <video width=\"640\" height=\"480\" controls>\n",
              "    <source src=\"data:video/mp4;base64,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\" type=\"video/mp4\">\n",
              "  Your browser does not support the video tag.\n",
              "  </video>"
            ]
          },
          "metadata": {},
          "execution_count": 9
        }
      ]
    },
    {
      "cell_type": "markdown",
      "source": [
        "### Custom observation and reward shaping example of usage"
      ],
      "metadata": {
        "id": "FA6SrS10_pGo"
      }
    },
    {
      "cell_type": "code",
      "source": [
        "custom_obs_mapping = {0: \"average\",\n",
        "                      1: 'sum'}\n",
        "\n",
        "# meaningless preprocess method that average and sums all of the original features\n",
        "preprocess = lambda x: np.array([np.mean(x), np.sum(x)])\n",
        "\n",
        "# meaningless reward shaping method that added 1 to each original reward\n",
        "reward_shaping = lambda x, y, z: x+1\n",
        "\n",
        "env = Game(custom_obs=True,\n",
        "           custome_observation_map=custom_obs_mapping,\n",
        "           preprocess=preprocess,\n",
        "           reward_shaping=reward_shaping)\n",
        "env.seed(42)\n",
        "obs = env.reset()\n",
        "\n",
        "print(f\"observation space: {env.observation_space}\")\n",
        "for feaure, des in env.observation_map.items():\n",
        "  print(f\"feaure: {feaure} -> {des}\")\n",
        "\n",
        "print(f\"reset: {obs}\")\n",
        "print(\"#\"*100, end=\"\\n\\n\")\n",
        "video_filename = '/content/vid.mp4'\n",
        "max_steps = 100\n",
        "# Evaluation\n",
        "with imageio.get_writer(video_filename, fps=24) as video:\n",
        "  obs = env.reset()\n",
        "  done = False\n",
        "  total_reward = 0\n",
        "  for step in range(max_steps):\n",
        "      action = env.action_space.sample()\n",
        "      obs, reward, done, info = env.step(action)\n",
        "      next_obs = obs  # Get agent's position directly from the environment\n",
        "      total_reward += reward\n",
        "      re = env.render()\n",
        "      video.append_data(re)\n",
        "      if done:\n",
        "        score = info['score']\n",
        "        print(\"Sum of rewards =\", total_reward, \", Number of steps=\", step, \"score: \", score)\n",
        "        break\n",
        "embed_mp4(video_filename)"
      ],
      "metadata": {
        "colab": {
          "base_uri": "https://localhost:8080/",
          "height": 623
        },
        "id": "3ejzOhgJAAcV",
        "outputId": "9f450913-6e5d-4e2a-a91f-0a272a64c668"
      },
      "execution_count": null,
      "outputs": [
        {
          "output_type": "stream",
          "name": "stdout",
          "text": [
            "observation space: Box(0, 512, (2,), int64)\n",
            "feaure: 0 -> average\n",
            "feaure: 1 -> sum\n",
            "reset: [ 197.5 1580. ]\n",
            "####################################################################################################\n",
            "\n",
            "Sum of rewards = 54.0 , Number of steps= 54 score:  0\n"
          ]
        },
        {
          "output_type": "execute_result",
          "data": {
            "text/plain": [
              "<IPython.core.display.HTML object>"
            ],
            "text/html": [
              "\n",
              "  <video width=\"640\" height=\"480\" controls>\n",
              "    <source src=\"data:video/mp4;base64,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\" type=\"video/mp4\">\n",
              "  Your browser does not support the video tag.\n",
              "  </video>"
            ]
          },
          "metadata": {},
          "execution_count": 10
        }
      ]
    },
    {
      "cell_type": "markdown",
      "source": [
        "# Your Work begins here"
      ],
      "metadata": {
        "id": "BSzUW-ufhISi"
      }
    },
    {
      "cell_type": "markdown",
      "source": [
        "## Preprocess"
      ],
      "metadata": {
        "id": "NV8nQ-G379Ek"
      }
    },
    {
      "cell_type": "markdown",
      "source": [
        "**Define the `preprocess` Method**\n",
        "\n",
        "- Create a function called `preprocess` that takes an observation as input.\n",
        "- The purpose of this function is to transform the raw observation into a format that optimizes learning for the agent. Use your creativity to design an effective preprocessing strategy for this task.\n",
        "\n",
        "**Suggested Approaches:**\n",
        "- **Normalization or Scaling**: Adjust observation values to a common range, such as $0$ to $1$ or $0$ to $N$, to improve stability in the learning process.\n",
        "- **Feature Extraction**: Emphasize key features in the observation that are crucial for achieving the environment's goals.\n",
        "- **Dimensionality Reduction**: Simplify the observation by removing or combining less significant parts to streamline learning and reduce complexity.\n",
        "\n",
        "**Compression and Q-Table Size**\n",
        "- Reducing the complexity of the observation, through techniques like scaling, normalization, or removing redundant features, effectively compresses the data. This compression simplifies the agent’s perception of the environment, helping it focus on the most relevant information.\n",
        "- In discrete environments, reducing observation dimensionality directly impacts the size of the Q-table. By compressing the observation space, you decrease the number of possible states, which makes the Q-table smaller and easier to manage. This reduction in Q-table size not only conserves memory but can also enhance learning efficiency.\n",
        "  \n",
        "Use these ideas to explain how your preprocessing strategy compresses the observation space and helps the agent handle the environment more effectively.\n",
        "\n",
        "**Rationalize Your Preprocessing Choices**\n",
        "\n",
        "- Include a brief explanation of your preprocessing choices. Explain why you believe this approach will improve the agent's learning efficiency and performance.\n",
        "- Discuss how these adjustments make the observations more interpretable or manageable for the learning algorithm.\n",
        "\n",
        "**Important**\n",
        "- The maximum value on the **Vertical** axis is **512**.\n",
        "- The maximum value on the **Horizontal** axis is **288**.\n"
      ],
      "metadata": {
        "id": "34GXgJztd6QZ"
      }
    },
    {
      "cell_type": "code",
      "source": [
        "custome_observation_map = {\n",
        "    0: 'player_y_norm',\n",
        "    1: 'player_vel_norm',\n",
        "    2: \"next_pipe_dist_to_player_norm\",\n",
        "    4: \"next_pipe_top_y_norm\",\n",
        "    5: \"next_pipe_bottom_y_norm\",\n",
        "}\n",
        "\n",
        "def preprocess(obs):\n",
        "  normalized_obs = []\n",
        "\n",
        "  player_y = obs[0]\n",
        "  player_velocity = obs[1]\n",
        "  next_pipe_dist = obs[2]\n",
        "  next_pipe_top = obs[3]\n",
        "  next_pipe_bottom = obs[4]\n",
        "  next_next_pipe_dist = obs[5]\n",
        "  next_next_pipe_top = obs[6]\n",
        "  next_next_pipe_bottom = obs[7]\n",
        "\n",
        "  normalized_obs.append(player_y / 512)\n",
        "  normalized_obs.append((player_velocity + 16) / 32)\n",
        "  normalized_obs.append(next_pipe_dist / 512)\n",
        "  normalized_obs.append(next_pipe_top / 512)\n",
        "  normalized_obs.append(next_pipe_bottom / 512)\n",
        "\n",
        "  return normalized_obs"
      ],
      "metadata": {
        "id": "LPHpNwt_8AAx"
      },
      "execution_count": 80,
      "outputs": []
    },
    {
      "cell_type": "markdown",
      "source": [
        "## Reward shaping"
      ],
      "metadata": {
        "id": "562OuNkIeumH"
      }
    },
    {
      "cell_type": "markdown",
      "source": [
        "### Define a Reward Shaping Strategy\n",
        "\n",
        "**Reward shaping** means adjusting the rewards given to the agent to encourage desired actions and help it learn faster. In *Flappy Bird*, the goal is to create rewards that guide the bird to survive longer and avoid hitting pipes.\n",
        "\n",
        "**Steps for Reward Shaping:**\n",
        "\n",
        "1. **Identify Desired Behaviors**:\n",
        "   - Decide which behaviors you want to encourage. For example, flapping at the right time to pass through pipes or avoiding unnecessary flaps could be rewarded.\n",
        "\n",
        "2. **Design Rewards**:\n",
        "   - Use rewards that motivate the bird to take helpful actions without distracting from the main goal (staying alive). Here are some ideas:\n",
        "     - **Survival Reward**: Give a small reward for each step the bird survives.\n",
        "     - **Penalty for Hitting Pipes**: Apply a negative reward (penalty) when the bird crashes into a pipe.\n",
        "    - **Passing Through Pipes**: Provide a positive reward each time the bird successfully passes through a pipe.\n",
        "\n",
        "\n",
        "3. **Explain Your Reward Choices**:\n",
        "   - Add an explanation for your reward design. Why did you decide to reward certain actions or apply penalties?\n",
        "   - Describe how your rewards help the bird focus on staying alive and navigating pipes effectively.\n",
        "   - Provide an example demonstrating the impact of your reward shaping logic, ideally by comparing performance graphs with and without reward shaping.\n",
        "\n",
        "4. **Avoid Over-Shaping**:\n",
        "   - Avoid giving too many rewards for minor actions, as it could lead the bird to focus on short-term rewards instead of the main goal. Aim for a balance where the bird gets enough guidance without relying on intermediate rewards.\n",
        "\n",
        "**Q-Learning and Value Convergence**:\n",
        "   - Remember, shaping rewards impacts **Q-values** (the expected value of actions). When rewards are well-designed, the bird’s Q-values will better reflect valuable actions, helping it make smarter choices over time.\n",
        "\n",
        "Use these tips to develop a reward strategy that encourages the bird to navigate through pipes effectively while improving its learning.\n"
      ],
      "metadata": {
        "id": "zOnXqApDe7tg"
      }
    },
    {
      "cell_type": "code",
      "source": [
        "REWARD_PER_STEP               = 0.1\n",
        "REWARD_PER_SCORE              = 10\n",
        "REWARD_PER_FALIURE            = -100\n",
        "\n",
        "previous_score = 0\n",
        "\n",
        "def reward_shaping(reward, terminal, env):\n",
        "  global previous_score\n",
        "\n",
        "  gameState = env.env.getGameState()\n",
        "  player_y_norm = gameState['player_y'] / 512\n",
        "  pipe_top_norm = gameState['next_pipe_top_y'] / 512\n",
        "  pipe_bottom_norm = gameState['next_pipe_bottom_y'] / 512\n",
        "  pipe_center_norm = (pipe_top_norm + pipe_bottom_norm) / 2\n",
        "\n",
        "  if not terminal:\n",
        "    # Calculating the distance (normallized) of the player from the center\n",
        "    # We want the bird to stay in the center because it's eazier from that location to reach all other locations.\n",
        "    distance_from_pipe_center = np.abs(0.5 - player_y_norm)\n",
        "\n",
        "    # Getting better reward each step for staying near the center of the pipe\n",
        "    reward = REWARD_PER_STEP * (1 - distance_from_pipe_center)\n",
        "\n",
        "    # Gain big reward for each increase in score\n",
        "    if env.score != previous_score:\n",
        "      reward += REWARD_PER_SCORE * env.score\n",
        "      previous_score = env.score\n",
        "  else:\n",
        "    dist_to_center = player_y_norm - pipe_center_norm\n",
        "\n",
        "    # Gives negative reward for failing\n",
        "    reward = REWARD_PER_FALIURE\n",
        "\n",
        "    # Give another  negative reward if it fails further from the center of the gap\n",
        "    reward += REWARD_PER_FALIURE * dist_to_center\n",
        "\n",
        "    previous_score = 0\n",
        "\n",
        "  return reward"
      ],
      "metadata": {
        "id": "bbGZVsX3f0m5"
      },
      "execution_count": 57,
      "outputs": []
    },
    {
      "cell_type": "markdown",
      "source": [
        "## Implementation of Learning Agents"
      ],
      "metadata": {
        "id": "uRLgerJnhmXA"
      }
    },
    {
      "cell_type": "markdown",
      "source": [
        "Abstract Class for Implementing an On-Policy Agent\n",
        "\n",
        "Below is an abstract class to serve as a foundation for implementing an on-policy agent. Derive your agent from this class and implement the specific logic for your agent. Note that different agents may require additional parameters or functions to support their unique features and learning mechanisms.\n"
      ],
      "metadata": {
        "id": "Yev0iBqsjZVs"
      }
    },
    {
      "cell_type": "code",
      "source": [
        "from abc import ABC, abstractmethod\n",
        "\n",
        "class OnPolicyAgent(ABC):\n",
        "    def __init__(self, action_space, observation_space, gamma, learning_rate):\n",
        "        \"\"\"\n",
        "        Initializes the on-policy RL agent.\n",
        "        You can add more parameters\n",
        "        Parameters:\n",
        "        - action_space: The action space of the environment\n",
        "        - observation_space: The observation space of the environment\n",
        "        - gamma: Discount factor for future rewards\n",
        "        - learning_rate: Learning rate for policy updates\n",
        "        \"\"\"\n",
        "        self.action_space = action_space\n",
        "        self.observation_space = observation_space\n",
        "        self.gamma = gamma\n",
        "        self.learning_rate = learning_rate\n",
        "        self.policy = None  # Placeholder for policy (to be implemented in subclasses)\n",
        "\n",
        "    @abstractmethod\n",
        "    def select_action(self, observation, deterministic=False):\n",
        "        \"\"\"\n",
        "        Select an action based on the current policy.\n",
        "\n",
        "        Parameters:\n",
        "        - observation: Current state observation from the environment\n",
        "        -deterministic: Flag indicating whether to use a deterministic policy (default is False)\n",
        "        Returns:\n",
        "        - action: Chosen action based on the policy\n",
        "        \"\"\"\n",
        "        pass\n",
        "\n",
        "    @abstractmethod\n",
        "    def update_policy(self, transition):\n",
        "        \"\"\"\n",
        "        Update the policy based on the current transition.\n",
        "\n",
        "        Parameters:\n",
        "        - transition: Data collected from interactions with the environment (tuple of zero or more values such as acion, reward etc...)\n",
        "        \"\"\"\n",
        "        pass\n",
        "\n",
        "    @abstractmethod\n",
        "    def train(self, env, num_episodes, log_every):\n",
        "        \"\"\"\n",
        "        Train the agent over a specified number of episodes.\n",
        "\n",
        "        Parameters:\n",
        "        - env: The environment to train in\n",
        "        - num_episodes: Number of training episodes\n",
        "        \"\"\"\n",
        "        pass\n",
        "\n",
        "    @abstractmethod\n",
        "    def save_policy(self, file_path):\n",
        "        \"\"\"\n",
        "        Save the current policy to a file.\n",
        "\n",
        "        Parameters:\n",
        "        - file_path: Path to the file where the policy should be saved\n",
        "        \"\"\"\n",
        "        pass\n",
        "\n",
        "    @abstractmethod\n",
        "    def load_policy(self, file_path):\n",
        "        \"\"\"\n",
        "        Load a policy from a file.\n",
        "\n",
        "        Parameters:\n",
        "        - file_path: Path to the file from which the policy should be loaded\n",
        "        \"\"\"\n",
        "        pass\n",
        "\n",
        "    @abstractmethod\n",
        "    def run_policy(self, env):\n",
        "        \"\"\"\n",
        "        Run the loaded policy in the environment for one episode.\n",
        "\n",
        "        Parameters:\n",
        "        - env: The environment in which to run the policy\n",
        "\n",
        "        Returns:\n",
        "        - total_reward: Total reward accumulated in the episode\n",
        "        \"\"\"\n",
        "        pass\n"
      ],
      "metadata": {
        "id": "bq3JtejTh57r"
      },
      "execution_count": 58,
      "outputs": []
    },
    {
      "cell_type": "code",
      "source": [
        "class QAgent(OnPolicyAgent):\n",
        "    def __init__(self, action_space, observation_space, buckets, video_filename, gamma, learning_rate, initial_q_values, epsilon, epsilon_decay, epsilon_min):\n",
        "      super().__init__(action_space, observation_space, gamma, learning_rate)\n",
        "\n",
        "      self.epsilon = epsilon\n",
        "      self.epsilon_decay = epsilon_decay\n",
        "      self.epsilon_min = epsilon_min\n",
        "      self.video_filename = video_filename\n",
        "      self.buckets = buckets\n",
        "\n",
        "      # Create the Q - Table\n",
        "      self.policy = np.full((*buckets, action_space.n), initial_q_values)\n",
        "\n",
        "    # Calculate the indexes in the Q - Table given state\n",
        "    def calc_discrete_state(self, state):\n",
        "      discrete_state = (state * self.buckets).astype(int)\n",
        "      discrete_state = np.clip(discrete_state, 0, self.buckets - 1)\n",
        "\n",
        "      return tuple(discrete_state)\n",
        "\n",
        "    # Get the best action for given state\n",
        "    def get_best_action(self, state):\n",
        "      return np.argmax(self.policy[self.calc_discrete_state(state)])\n",
        "\n",
        "    # Get a value from the Q - Table\n",
        "    def get_value(self, state, action=None):\n",
        "      value = self.policy[self.calc_discrete_state(state)]\n",
        "\n",
        "      if action is not None:\n",
        "        value = value[action]\n",
        "\n",
        "      return value\n",
        "\n",
        "    # Update a value in the Q - Table\n",
        "    def set_value(self, state, action, value):\n",
        "      self.policy[self.calc_discrete_state(state)][action] = value\n",
        "\n",
        "    def select_action(self, observation, deterministic=False):\n",
        "      \"\"\"Select an action using epsilon-greedy policy or the best action if deterministic.\"\"\"\n",
        "      if deterministic or np.random.rand() > self.epsilon:\n",
        "          # Exploitation: choose the best action\n",
        "          return self.get_best_action(observation)\n",
        "      else:\n",
        "          # Exploration: choose a random action\n",
        "          return self.action_space.sample()\n",
        "\n",
        "    def train(self, env, num_episodes, log_every=100):\n",
        "        \"\"\"\n",
        "        Train the agent for the given number of episodes.\n",
        "        \"\"\"\n",
        "        rewards = []\n",
        "        scores = []\n",
        "        lengths = []\n",
        "\n",
        "        best_reward = 0\n",
        "        best_score = float('-inf')\n",
        "        best_length = 0\n",
        "\n",
        "        avg_rewards = []\n",
        "        avg_scores = []\n",
        "        avg_lengths = []\n",
        "\n",
        "        show_video_every = int(num_episodes * 0.1)\n",
        "        video_number = 1\n",
        "\n",
        "        for episode in range(1, num_episodes + 1):\n",
        "            state = env.reset()\n",
        "            done = False\n",
        "            total_reward = 0\n",
        "            length = 0\n",
        "            action = self.select_action(state)\n",
        "\n",
        "            while not done:\n",
        "                next_state, reward, done, info = env.step(action)\n",
        "\n",
        "                # Update Q-table\n",
        "                next_action = self.select_action(next_state)\n",
        "                self.update_policy((state, action, reward, next_state, next_action))\n",
        "\n",
        "                # Move to the next state\n",
        "                state = next_state\n",
        "                total_reward += reward\n",
        "                length += 1\n",
        "                action = next_action\n",
        "\n",
        "            # Decay epsilon\n",
        "            if self.epsilon > self.epsilon_min:\n",
        "                self.epsilon *= self.epsilon_decay\n",
        "\n",
        "            score = info['score']\n",
        "\n",
        "            rewards.append(total_reward)\n",
        "            scores.append(score)\n",
        "            lengths.append(length)\n",
        "\n",
        "            if score > best_score:\n",
        "                best_score = score\n",
        "            if total_reward > best_reward:\n",
        "                best_reward = total_reward\n",
        "            if length > best_length:\n",
        "                best_length = length\n",
        "\n",
        "            # Logging results\n",
        "            if episode % log_every == 0:\n",
        "                avg_reward = np.mean(rewards)\n",
        "                avg_score = np.mean(scores)\n",
        "                avg_length = np.mean(lengths)\n",
        "\n",
        "                # Print metrics\n",
        "                print(f\"Episode {episode}/{num_episodes}, Epsilon: {self.epsilon:.2f}\")\n",
        "\n",
        "                metrics = [\n",
        "                    (\"Reward\", avg_reward, rewards, best_reward),\n",
        "                     (\"Score\", avg_score, scores, best_score),\n",
        "                      (\"Game Length\", avg_length, lengths, best_length),\n",
        "                    ]\n",
        "\n",
        "                for label, avg, data, best in metrics:\n",
        "                    print(f\"  {label:<12} ::   Average: {avg:<10.2f}  Variance: {np.var(data):<10.2f}  {label:<6}: {best:<10.2f}\")\n",
        "\n",
        "                rewards.clear()\n",
        "                scores.clear()\n",
        "                lengths.clear()\n",
        "\n",
        "                avg_rewards.append(avg_reward)\n",
        "                avg_scores.append(avg_score)\n",
        "                avg_lengths.append(avg_length)\n",
        "\n",
        "            # Creating a video file for the run\n",
        "            if episode % show_video_every == 0:\n",
        "              file_name = f\"{self.video_filename}_{video_number}.mp4\"\n",
        "              print(\" Video created: \" + file_name)\n",
        "              self.run_policy(env, file_name)\n",
        "              video_number += 1\n",
        "\n",
        "        return avg_rewards, avg_scores, avg_lengths\n",
        "\n",
        "    def save_policy(self, file_path):\n",
        "        \"\"\"Save Q-table to file (NumPy format).\"\"\"\n",
        "        np.save(file_path, self.policy)\n",
        "\n",
        "    def load_policy(self, file_path):\n",
        "        \"\"\"Load Q-table from file (NumPy format).\"\"\"\n",
        "        self.policy = np.load(file_path)\n",
        "\n",
        "    def run_policy(self, env, video_filename, max_steps=2000):\n",
        "        \"\"\"\n",
        "        Run the current policy (without exploration) for one episode and return the total reward.\n",
        "        \"\"\"\n",
        "        state = env.reset()\n",
        "        done = False\n",
        "        total_reward = 0\n",
        "        steps = 0\n",
        "\n",
        "        with imageio.get_writer(video_filename, fps=24) as video:\n",
        "\n",
        "          while not done:\n",
        "              action = self.select_action(state, deterministic=True)\n",
        "              next_state, reward, done, info = env.step(action)\n",
        "              total_reward += reward\n",
        "              state = next_state\n",
        "\n",
        "              video.append_data(env.render())\n",
        "\n",
        "              steps+=1\n",
        "\n",
        "              if steps > max_steps:\n",
        "                break\n",
        "\n",
        "        return total_reward"
      ],
      "metadata": {
        "id": "_VlnfONCxTb-"
      },
      "execution_count": 88,
      "outputs": []
    },
    {
      "cell_type": "code",
      "source": [
        "class QLearningAgent(QAgent):\n",
        "    def update_policy(self, transition):\n",
        "        \"\"\"\n",
        "        Update Q-value based on the given transition.\n",
        "        transition: (state, action, reward, next_state, next_action)\n",
        "        \"\"\"\n",
        "        state, action, reward, next_state, _ = transition\n",
        "\n",
        "        # Extract the current Q-value\n",
        "        current_q_value = self.get_value(state, action)\n",
        "\n",
        "        # Extract the best future Q-value\n",
        "        max_future_q = self.get_value(next_state, self.get_best_action(next_state))\n",
        "\n",
        "        # Update the Q-value\n",
        "        new_q_value = (1 - self.learning_rate) * current_q_value + self.learning_rate * (reward + self.gamma * max_future_q)\n",
        "        self.set_value(state, action, new_q_value)"
      ],
      "metadata": {
        "id": "7hqLSIHC2aII"
      },
      "execution_count": 89,
      "outputs": []
    },
    {
      "cell_type": "code",
      "source": [
        "class SarsaAgent(QAgent):\n",
        "    def update_policy(self, transition):\n",
        "        \"\"\"\n",
        "        Update Q-values using SARSA update rule\n",
        "        transition: (state, action, reward, next_state, next_action)\n",
        "        \"\"\"\n",
        "        state, action, reward, next_state, next_action = transition\n",
        "\n",
        "        # SARSA update rule\n",
        "        current_q = self.get_value(state, action)\n",
        "        next_q = self.get_value(next_state, next_action)\n",
        "\n",
        "        # Q(s,a) = Q(s,a) + α[r + γQ(s',a') - Q(s,a)]\n",
        "        new_q = (1 - self.learning_rate) * current_q + self.learning_rate * (reward + self.gamma * next_q)\n",
        "        self.set_value(state, action, new_q)"
      ],
      "metadata": {
        "id": "BsYjGW0Ly9q6"
      },
      "execution_count": 91,
      "outputs": []
    },
    {
      "cell_type": "markdown",
      "source": [
        "## Training"
      ],
      "metadata": {
        "id": "L4nG1NT6kLzQ"
      }
    },
    {
      "cell_type": "markdown",
      "source": [
        "#### Experimentation Instructions\n",
        "\n",
        "In this section, you will conduct a series of experiments to solve the environment using your on-policy agent. Follow these guidelines for a clear and comprehensive presentation of your work:\n",
        "\n",
        "1. **Design and Run Experiments**:\n",
        "   - Perform at least **5 distinct experiments** with your agent, including:\n",
        "     - **2 unsuccessful experiments** where the agent fails to learn the environment (reaching a score below the target).\n",
        "     - **1 successful experiment** where the agent achieves a score of **10** or higher. (Remember the score is define by the amount of pipes the agent has passed)\n",
        "\n",
        "   - *Note*: In practice, you are expected to try many configurations to observe various outcomes, even beyond these 3 experiments.\n",
        "\n",
        "2. **Provide Detailed Summaries**:\n",
        "   - For each experiment, include:\n",
        "     - **Graphs** that illustrate the training process, such as reward progression, steps, score, and  any other relevant metrics (there is many more metrics that we can learn from).\n",
        "     - **Explanations of Hyperparameters**: Clearly describe the configuration of hyperparameters chosen for each experiment, and the reasoning behind these choices.\n",
        "     - **Preprocessing and Reward Shaping**: Explain any data preprocessing or reward shaping techniques applied, along with the motivation for these techniques.\n",
        "\n",
        "3. **Analyze and Reflect**:\n",
        "   - **Result Analysis**: Analyze each experiment's outcome, focusing on why the agent may have succeeded or failed based on your configurations.\n",
        "   - **Insights and Deductions**: Draw insights from each experiment, noting what worked and what didn’t. Use these insights to refine your understanding of the environment and agent performance.\n",
        "\n",
        "4. **Final Report**:\n",
        "   - **Synthesize Findings**: Compile all observations, insights, and analysis from your experiments into a final report. This report should showcase your learnings and demonstrate a deep understanding of the experimentation process.\n",
        "   - **Emphasis on Analysis**: The analysis of your results and the conclusions drawn are the most critical aspects of this exercise. Dedicate ample attention to this section, as it will reflect your ability to interpret and understand the agent’s learning process.\n",
        "\n",
        "**Remember**: The goal of this exercise is to experiment, learn, and iterate. Document your process thoroughly, as this will form the foundation of your report.\n"
      ],
      "metadata": {
        "id": "c7SCgp8wkkQ5"
      }
    },
    {
      "cell_type": "code",
      "source": [
        "env = Game(custom_obs=True, preprocess=preprocess, reward_shaping=reward_shaping, custome_observation_map=custome_observation_map)\n",
        "\n",
        "def plot_result(log_every, rewards, scores, lengths):\n",
        "  # Plot rewards and score\n",
        "  fig, axs = plt.subplots(3, 1, figsize=(8, 6))\n",
        "\n",
        "  # Generate X-axis values (e.g., for every 100 episodes)\n",
        "  episodes = np.arange(log_every, log_every + len(rewards) * log_every, log_every)\n",
        "\n",
        "  # Plot rewards\n",
        "  axs[0].plot(episodes, rewards, label='Average Rewards')\n",
        "  axs[0].set_xlabel('Episodes')\n",
        "  axs[0].set_ylabel('Average Reward')\n",
        "  axs[0].set_title('Average Rewards Over Time')\n",
        "  axs[0].legend()\n",
        "\n",
        "  #Plot scores\n",
        "  axs[1].plot(episodes, scores, label='Average Score', color='orange')\n",
        "  axs[1].set_xlabel('Episodes')\n",
        "  axs[1].set_ylabel('Average Score')\n",
        "  axs[1].set_title('Score Over Time')\n",
        "  axs[1].legend()\n",
        "\n",
        "  #Plot episode lengths\n",
        "  axs[2].plot(episodes, lengths, label='Average Episode Length', color='pink')\n",
        "  axs[2].set_xlabel('Episodes')\n",
        "  axs[2].set_ylabel('Average Episode Length')\n",
        "  axs[2].set_title('Average Episode Length Over Time')\n",
        "  axs[2].legend()\n",
        "\n",
        "  plt.tight_layout()\n",
        "  plt.show()"
      ],
      "metadata": {
        "id": "PsFcCUsBPCth"
      },
      "execution_count": 92,
      "outputs": []
    },
    {
      "cell_type": "markdown",
      "source": [
        "Q - Learning"
      ],
      "metadata": {
        "id": "A8x4FJw8YeqQ"
      }
    },
    {
      "cell_type": "markdown",
      "source": [
        "Successful Experiment"
      ],
      "metadata": {
        "id": "QELEbSaYYinO"
      }
    },
    {
      "cell_type": "code",
      "source": [
        "# Hyper Parameters\n",
        "GAMMA             = 0.99\n",
        "LEARNING_RATE     = 0.65\n",
        "INITIAL_Q_VALUES  = 0.1\n",
        "EPSILON           = 1\n",
        "EPSILON_DECAY     = 0.9995\n",
        "MIN_EPSILON       = 0.01\n",
        "BUCKETS           = np.array([30, 25, 30, 30, 30])\n",
        "\n",
        "LOG_EVERY = 1000\n",
        "NUMBER_OF_EPISODES = 30000\n",
        "\n",
        "VIDEO_FILE_NAME = '/content/qlearningsuccess'\n",
        "POLICY_FILE_NAME = '/content/qlearningpolicysuccess'"
      ],
      "metadata": {
        "id": "Y9XzqtaiJFGW"
      },
      "execution_count": null,
      "outputs": []
    },
    {
      "cell_type": "code",
      "source": [
        "# Creating the policy agent\n",
        "policy_agent = QLearningAgent(env.action_space, env.observation_space, BUCKETS, VIDEO_FILE_NAME, GAMMA, LEARNING_RATE, INITIAL_Q_VALUES, EPSILON, EPSILON_DECAY, MIN_EPSILON)\n",
        "\n",
        "# Training\n",
        "rewards, scores, lengths = policy_agent.train(env, NUMBER_OF_EPISODES, LOG_EVERY)\n",
        "\n",
        "# Saving the policy\n",
        "policy_agent.save_policy(POLICY_FILE_NAME)\n",
        "\n",
        "# Plot the results\n",
        "plot_result(LOG_EVERY, rewards, scores, lengths)"
      ],
      "metadata": {
        "id": "PHfYUscjkThj",
        "colab": {
          "base_uri": "https://localhost:8080/",
          "height": 1000
        },
        "outputId": "465d3ed3-90f1-4a20-aeb3-adceb0aa6857"
      },
      "execution_count": null,
      "outputs": [
        {
          "output_type": "stream",
          "name": "stdout",
          "text": [
            "Episode 1000/30000, Average Reward: -66.29, Epsilon: 0.61, Average Score: 0.00, Average Game Length: 52.39\n",
            "Episode 2000/30000, Average Reward: -65.80, Epsilon: 0.37, Average Score: 0.00, Average Game Length: 54.40\n",
            "Episode 3000/30000, Average Reward: -67.30, Epsilon: 0.22, Average Score: 0.01, Average Game Length: 57.64\n",
            "Video created: /content/qlearningsuccess_1.mp4\n",
            "Episode 4000/30000, Average Reward: -69.40, Epsilon: 0.14, Average Score: 0.04, Average Game Length: 60.68\n",
            "Episode 5000/30000, Average Reward: -70.94, Epsilon: 0.08, Average Score: 0.08, Average Game Length: 62.76\n",
            "Episode 6000/30000, Average Reward: -69.59, Epsilon: 0.05, Average Score: 0.19, Average Game Length: 66.21\n",
            "Video created: /content/qlearningsuccess_2.mp4\n",
            "Episode 7000/30000, Average Reward: -67.60, Epsilon: 0.03, Average Score: 0.28, Average Game Length: 70.31\n",
            "Episode 8000/30000, Average Reward: -66.57, Epsilon: 0.02, Average Score: 0.36, Average Game Length: 72.99\n",
            "Episode 9000/30000, Average Reward: -63.87, Epsilon: 0.01, Average Score: 0.57, Average Game Length: 79.70\n",
            "Video created: /content/qlearningsuccess_3.mp4\n",
            "Episode 10000/30000, Average Reward: -59.23, Epsilon: 0.01, Average Score: 0.85, Average Game Length: 90.17\n",
            "Episode 11000/30000, Average Reward: -55.71, Epsilon: 0.01, Average Score: 1.05, Average Game Length: 97.33\n",
            "Episode 12000/30000, Average Reward: -46.24, Epsilon: 0.01, Average Score: 1.30, Average Game Length: 106.90\n",
            "Video created: /content/qlearningsuccess_4.mp4\n",
            "Episode 13000/30000, Average Reward: -41.58, Epsilon: 0.01, Average Score: 1.37, Average Game Length: 110.15\n",
            "Episode 14000/30000, Average Reward: -36.99, Epsilon: 0.01, Average Score: 1.45, Average Game Length: 113.17\n",
            "Episode 15000/30000, Average Reward: -30.03, Epsilon: 0.01, Average Score: 1.61, Average Game Length: 119.30\n",
            "Video created: /content/qlearningsuccess_5.mp4\n",
            "Episode 16000/30000, Average Reward: -26.26, Epsilon: 0.01, Average Score: 1.79, Average Game Length: 124.29\n",
            "Episode 17000/30000, Average Reward: 13.45, Epsilon: 0.01, Average Score: 2.58, Average Game Length: 155.07\n",
            "Episode 18000/30000, Average Reward: 27.74, Epsilon: 0.01, Average Score: 2.84, Average Game Length: 161.96\n",
            "Video created: /content/qlearningsuccess_6.mp4\n",
            "Episode 19000/30000, Average Reward: 69.56, Epsilon: 0.01, Average Score: 3.43, Average Game Length: 185.45\n",
            "Episode 20000/30000, Average Reward: 115.94, Epsilon: 0.01, Average Score: 4.17, Average Game Length: 210.70\n",
            "Episode 21000/30000, Average Reward: 286.27, Epsilon: 0.01, Average Score: 5.60, Average Game Length: 265.78\n",
            "Video created: /content/qlearningsuccess_7.mp4\n",
            "Episode 22000/30000, Average Reward: 694.04, Epsilon: 0.01, Average Score: 8.13, Average Game Length: 362.61\n",
            "Episode 23000/30000, Average Reward: 1031.82, Epsilon: 0.01, Average Score: 10.18, Average Game Length: 438.97\n",
            "Episode 24000/30000, Average Reward: 1326.66, Epsilon: 0.01, Average Score: 11.42, Average Game Length: 485.81\n",
            "Video created: /content/qlearningsuccess_8.mp4\n",
            "Episode 25000/30000, Average Reward: 1766.68, Epsilon: 0.01, Average Score: 12.69, Average Game Length: 532.71\n",
            "Episode 26000/30000, Average Reward: 1787.58, Epsilon: 0.01, Average Score: 12.79, Average Game Length: 536.41\n",
            "Episode 27000/30000, Average Reward: 2606.43, Epsilon: 0.01, Average Score: 14.74, Average Game Length: 607.02\n",
            "Video created: /content/qlearningsuccess_9.mp4\n",
            "Episode 28000/30000, Average Reward: 1641.24, Epsilon: 0.01, Average Score: 12.55, Average Game Length: 522.71\n",
            "Episode 29000/30000, Average Reward: 1553.10, Epsilon: 0.01, Average Score: 12.32, Average Game Length: 515.31\n",
            "Episode 30000/30000, Average Reward: 1624.99, Epsilon: 0.01, Average Score: 12.89, Average Game Length: 536.55\n",
            "Video created: /content/qlearningsuccess_10.mp4\n"
          ]
        },
        {
          "output_type": "display_data",
          "data": {
            "text/plain": [
              "<Figure size 800x600 with 3 Axes>"
            ],
            "image/png": "[encoded data removed]"
          },
          "metadata": {}
        }
      ]
    },
    {
      "cell_type": "markdown",
      "source": [
        "Failed Experiment #1"
      ],
      "metadata": {
        "id": "gx765hKxYm6S"
      }
    },
    {
      "cell_type": "code",
      "source": [
        "# Hyper Parameters\n",
        "GAMMA             = 0.99\n",
        "LEARNING_RATE     = 0.65\n",
        "INITIAL_Q_VALUES  = 0.1\n",
        "EPSILON           = 1\n",
        "EPSILON_DECAY     = 0.9995\n",
        "MIN_EPSILON       = 0.01\n",
        "BUCKETS           = np.array([10, 10, 10, 10, 10])\n",
        "\n",
        "LOG_EVERY = 1000\n",
        "NUMBER_OF_EPISODES = 30000\n",
        "\n",
        "VIDEO_FILE_NAME = '/content/qlearningfailed01'\n",
        "POLICY_FILE_NAME = '/content/qlearningpolicyfailed01'"
      ],
      "metadata": {
        "id": "IoasZE4pYqw5"
      },
      "execution_count": null,
      "outputs": []
    },
    {
      "cell_type": "code",
      "source": [
        "# Creating the policy agent\n",
        "policy_agent = QLearningAgent(env.action_space, env.observation_space, BUCKETS, VIDEO_FILE_NAME, GAMMA, LEARNING_RATE, INITIAL_Q_VALUES, EPSILON, EPSILON_DECAY, MIN_EPSILON)\n",
        "\n",
        "# Training\n",
        "rewards, scores, lengths = policy_agent.train(env, NUMBER_OF_EPISODES, LOG_EVERY)\n",
        "\n",
        "# Saving the policy\n",
        "policy_agent.save_policy(POLICY_FILE_NAME)\n",
        "\n",
        "# Plot the results\n",
        "plot_result(LOG_EVERY, rewards, scores, lengths)"
      ],
      "metadata": {
        "colab": {
          "base_uri": "https://localhost:8080/",
          "height": 1000
        },
        "id": "01yx7TeJYxgS",
        "outputId": "4ab36228-d374-46c0-95a7-c19d4dc30c3c"
      },
      "execution_count": null,
      "outputs": [
        {
          "output_type": "stream",
          "name": "stdout",
          "text": [
            "Episode 1000/30000, Average Reward: -67.24, Epsilon: 0.61, Average Score: 0.03, Average Game Length: 55.84\n",
            "Episode 2000/30000, Average Reward: -71.79, Epsilon: 0.37, Average Score: 0.11, Average Game Length: 60.91\n",
            "Episode 3000/30000, Average Reward: -76.16, Epsilon: 0.22, Average Score: 0.30, Average Game Length: 67.70\n",
            "Video created: /content/qlearningfailed01_1.mp4\n",
            "Episode 4000/30000, Average Reward: -84.56, Epsilon: 0.14, Average Score: 0.32, Average Game Length: 68.89\n",
            "Episode 5000/30000, Average Reward: -91.41, Epsilon: 0.08, Average Score: 0.38, Average Game Length: 70.84\n",
            "Episode 6000/30000, Average Reward: -95.05, Epsilon: 0.05, Average Score: 0.38, Average Game Length: 71.19\n",
            "Video created: /content/qlearningfailed01_2.mp4\n",
            "Episode 7000/30000, Average Reward: -91.03, Epsilon: 0.03, Average Score: 0.49, Average Game Length: 74.22\n",
            "Episode 8000/30000, Average Reward: -86.32, Epsilon: 0.02, Average Score: 0.55, Average Game Length: 75.35\n",
            "Episode 9000/30000, Average Reward: -82.97, Epsilon: 0.01, Average Score: 0.58, Average Game Length: 76.53\n",
            "Video created: /content/qlearningfailed01_3.mp4\n",
            "Episode 10000/30000, Average Reward: -73.14, Epsilon: 0.01, Average Score: 0.95, Average Game Length: 90.49\n",
            "Episode 11000/30000, Average Reward: -71.56, Epsilon: 0.01, Average Score: 0.99, Average Game Length: 91.47\n",
            "Episode 12000/30000, Average Reward: -69.75, Epsilon: 0.01, Average Score: 1.07, Average Game Length: 95.34\n",
            "Video created: /content/qlearningfailed01_4.mp4\n",
            "Episode 13000/30000, Average Reward: -61.35, Epsilon: 0.01, Average Score: 1.23, Average Game Length: 101.60\n",
            "Episode 14000/30000, Average Reward: -33.34, Epsilon: 0.01, Average Score: 1.93, Average Game Length: 124.25\n",
            "Episode 15000/30000, Average Reward: -36.34, Epsilon: 0.01, Average Score: 1.80, Average Game Length: 121.14\n",
            "Video created: /content/qlearningfailed01_5.mp4\n",
            "Episode 16000/30000, Average Reward: -51.62, Epsilon: 0.01, Average Score: 1.51, Average Game Length: 111.52\n",
            "Episode 17000/30000, Average Reward: -65.27, Epsilon: 0.01, Average Score: 1.17, Average Game Length: 98.45\n",
            "Episode 18000/30000, Average Reward: -58.40, Epsilon: 0.01, Average Score: 1.29, Average Game Length: 102.76\n",
            "Video created: /content/qlearningfailed01_6.mp4\n",
            "Episode 19000/30000, Average Reward: -71.00, Epsilon: 0.01, Average Score: 0.92, Average Game Length: 90.07\n",
            "Episode 20000/30000, Average Reward: -73.67, Epsilon: 0.01, Average Score: 0.82, Average Game Length: 85.21\n",
            "Episode 21000/30000, Average Reward: -65.91, Epsilon: 0.01, Average Score: 1.13, Average Game Length: 96.33\n",
            "Video created: /content/qlearningfailed01_7.mp4\n",
            "Episode 22000/30000, Average Reward: -52.57, Epsilon: 0.01, Average Score: 1.43, Average Game Length: 107.55\n",
            "Episode 23000/30000, Average Reward: -64.47, Epsilon: 0.01, Average Score: 1.28, Average Game Length: 100.43\n",
            "Episode 24000/30000, Average Reward: -54.03, Epsilon: 0.01, Average Score: 1.46, Average Game Length: 106.74\n",
            "Video created: /content/qlearningfailed01_8.mp4\n",
            "Episode 25000/30000, Average Reward: -47.61, Epsilon: 0.01, Average Score: 1.62, Average Game Length: 111.84\n",
            "Episode 26000/30000, Average Reward: -34.77, Epsilon: 0.01, Average Score: 1.94, Average Game Length: 122.52\n",
            "Episode 27000/30000, Average Reward: -33.92, Epsilon: 0.01, Average Score: 1.88, Average Game Length: 121.98\n",
            "Video created: /content/qlearningfailed01_9.mp4\n",
            "Episode 28000/30000, Average Reward: -28.79, Epsilon: 0.01, Average Score: 2.04, Average Game Length: 127.58\n",
            "Episode 29000/30000, Average Reward: -25.12, Epsilon: 0.01, Average Score: 2.03, Average Game Length: 128.06\n",
            "Episode 30000/30000, Average Reward: -15.93, Epsilon: 0.01, Average Score: 2.24, Average Game Length: 133.68\n",
            "Video created: /content/qlearningfailed01_10.mp4\n"
          ]
        },
        {
          "output_type": "display_data",
          "data": {
            "text/plain": [
              "<Figure size 800x600 with 3 Axes>"
            ],
            "image/png": "[encoded data removed]"
          },
          "metadata": {}
        }
      ]
    },
    {
      "cell_type": "markdown",
      "source": [
        "Failed Experiment #2"
      ],
      "metadata": {
        "id": "FZtl2SvNeC3C"
      }
    },
    {
      "cell_type": "code",
      "source": [
        "# Hyper Parameters\n",
        "GAMMA             = 0.99\n",
        "LEARNING_RATE     = 0.8\n",
        "INITIAL_Q_VALUES  = 1\n",
        "EPSILON           = 1\n",
        "EPSILON_DECAY     = 0.9999\n",
        "MIN_EPSILON       = 0.01\n",
        "BUCKETS           = np.array([30, 25, 30, 30, 30])\n",
        "\n",
        "LOG_EVERY = 1000\n",
        "NUMBER_OF_EPISODES = 30000\n",
        "\n",
        "VIDEO_FILE_NAME = '/content/qlearningfailed02'\n",
        "POLICY_FILE_NAME = '/content/qlearningpolicyfailed02'"
      ],
      "metadata": {
        "id": "8ky_Mj5EeFG7"
      },
      "execution_count": 85,
      "outputs": []
    },
    {
      "cell_type": "code",
      "source": [
        "# Creating the policy agent\n",
        "policy_agent = QLearningAgent(env.action_space, env.observation_space, BUCKETS, VIDEO_FILE_NAME, GAMMA, LEARNING_RATE, INITIAL_Q_VALUES, EPSILON, EPSILON_DECAY, MIN_EPSILON)\n",
        "\n",
        "# Training\n",
        "rewards, scores, lengths = policy_agent.train(env, NUMBER_OF_EPISODES, LOG_EVERY)\n",
        "\n",
        "# Saving the policy\n",
        "policy_agent.save_policy(POLICY_FILE_NAME)\n",
        "\n",
        "# Plot the results\n",
        "plot_result(LOG_EVERY, rewards, scores, lengths)"
      ],
      "metadata": {
        "colab": {
          "base_uri": "https://localhost:8080/",
          "height": 842
        },
        "id": "O-n6Mgi9eGpb",
        "outputId": "764fb624-3225-4e44-bcae-53134804a581"
      },
      "execution_count": 84,
      "outputs": [
        {
          "output_type": "stream",
          "name": "stdout",
          "text": [
            "Episode 10/30000, Epsilon: 1.00\n",
            "  Reward       ::   Average: -68.78      Variance: 114.38      Reward: 0.00      \n",
            "  Score        ::   Average: 0.00        Variance: 0.00        Score : 0.00      \n",
            "  Game Length  ::   Average: 53.20       Variance: 51.16       Game Length: 62.00     \n",
            "Episode 20/30000, Epsilon: 0.99\n",
            "  Reward       ::   Average: -66.59      Variance: 132.44      Reward: 0.00      \n",
            "  Score        ::   Average: 0.00        Variance: 0.00        Score : 0.00      \n",
            "  Game Length  ::   Average: 50.90       Variance: 51.49       Game Length: 62.00     \n",
            "Episode 30/30000, Epsilon: 0.99\n",
            "  Reward       ::   Average: -62.55      Variance: 44.53       Reward: 0.00      \n",
            "  Score        ::   Average: 0.00        Variance: 0.00        Score : 0.00      \n",
            "  Game Length  ::   Average: 53.60       Variance: 56.04       Game Length: 62.00     \n",
            "Episode 40/30000, Epsilon: 0.98\n",
            "  Reward       ::   Average: -61.20      Variance: 120.76      Reward: 0.00      \n",
            "  Score        ::   Average: 0.00        Variance: 0.00        Score : 0.00      \n",
            "  Game Length  ::   Average: 52.60       Variance: 32.64       Game Length: 62.00     \n",
            "Episode 50/30000, Epsilon: 0.98\n",
            "  Reward       ::   Average: -64.05      Variance: 87.54       Reward: 0.00      \n",
            "  Score        ::   Average: 0.00        Variance: 0.00        Score : 0.00      \n",
            "  Game Length  ::   Average: 55.30       Variance: 31.21       Game Length: 62.00     \n",
            "Episode 60/30000, Epsilon: 0.97\n",
            "  Reward       ::   Average: -56.15      Variance: 21.09       Reward: 0.00      \n",
            "  Score        ::   Average: 0.00        Variance: 0.00        Score : 0.00      \n",
            "  Game Length  ::   Average: 49.10       Variance: 69.89       Game Length: 62.00     \n",
            "Episode 70/30000, Epsilon: 0.97\n",
            "  Reward       ::   Average: -68.23      Variance: 81.81       Reward: 0.00      \n",
            "  Score        ::   Average: 0.00        Variance: 0.00        Score : 0.00      \n",
            "  Game Length  ::   Average: 53.30       Variance: 63.21       Game Length: 65.00     \n"
          ]
        },
        {
          "output_type": "error",
          "ename": "KeyboardInterrupt",
          "evalue": "",
          "traceback": [
            "\u001b[0;31m---------------------------------------------------------------------------\u001b[0m",
            "\u001b[0;31mKeyboardInterrupt\u001b[0m                         Traceback (most recent call last)",
            "\u001b[0;32m<ipython-input-84-866ab42b57c1>\u001b[0m in \u001b[0;36m<cell line: 5>\u001b[0;34m()\u001b[0m\n\u001b[1;32m      3\u001b[0m \u001b[0;34m\u001b[0m\u001b[0m\n\u001b[1;32m      4\u001b[0m \u001b[0;31m# Training\u001b[0m\u001b[0;34m\u001b[0m\u001b[0;34m\u001b[0m\u001b[0m\n\u001b[0;32m----> 5\u001b[0;31m \u001b[0mrewards\u001b[0m\u001b[0;34m,\u001b[0m \u001b[0mscores\u001b[0m\u001b[0;34m,\u001b[0m \u001b[0mlengths\u001b[0m \u001b[0;34m=\u001b[0m \u001b[0mpolicy_agent\u001b[0m\u001b[0;34m.\u001b[0m\u001b[0mtrain\u001b[0m\u001b[0;34m(\u001b[0m\u001b[0menv\u001b[0m\u001b[0;34m,\u001b[0m \u001b[0mNUMBER_OF_EPISODES\u001b[0m\u001b[0;34m,\u001b[0m \u001b[0mLOG_EVERY\u001b[0m\u001b[0;34m)\u001b[0m\u001b[0;34m\u001b[0m\u001b[0;34m\u001b[0m\u001b[0m\n\u001b[0m\u001b[1;32m      6\u001b[0m \u001b[0;34m\u001b[0m\u001b[0m\n\u001b[1;32m      7\u001b[0m \u001b[0;31m# Saving the policy\u001b[0m\u001b[0;34m\u001b[0m\u001b[0;34m\u001b[0m\u001b[0m\n",
            "\u001b[0;32m<ipython-input-61-8ae2e5699dcf>\u001b[0m in \u001b[0;36mtrain\u001b[0;34m(self, env, num_episodes, log_every)\u001b[0m\n\u001b[1;32m     72\u001b[0m             \u001b[0;32mwhile\u001b[0m \u001b[0;32mnot\u001b[0m \u001b[0mdone\u001b[0m\u001b[0;34m:\u001b[0m\u001b[0;34m\u001b[0m\u001b[0;34m\u001b[0m\u001b[0m\n\u001b[1;32m     73\u001b[0m                 \u001b[0maction\u001b[0m \u001b[0;34m=\u001b[0m \u001b[0mself\u001b[0m\u001b[0;34m.\u001b[0m\u001b[0mselect_action\u001b[0m\u001b[0;34m(\u001b[0m\u001b[0mstate\u001b[0m\u001b[0;34m)\u001b[0m\u001b[0;34m\u001b[0m\u001b[0;34m\u001b[0m\u001b[0m\n\u001b[0;32m---> 74\u001b[0;31m                 \u001b[0mnext_state\u001b[0m\u001b[0;34m,\u001b[0m \u001b[0mreward\u001b[0m\u001b[0;34m,\u001b[0m \u001b[0mdone\u001b[0m\u001b[0;34m,\u001b[0m \u001b[0minfo\u001b[0m \u001b[0;34m=\u001b[0m \u001b[0menv\u001b[0m\u001b[0;34m.\u001b[0m\u001b[0mstep\u001b[0m\u001b[0;34m(\u001b[0m\u001b[0maction\u001b[0m\u001b[0;34m)\u001b[0m\u001b[0;34m\u001b[0m\u001b[0;34m\u001b[0m\u001b[0m\n\u001b[0m\u001b[1;32m     75\u001b[0m \u001b[0;34m\u001b[0m\u001b[0m\n\u001b[1;32m     76\u001b[0m                 \u001b[0;31m# Update Q-table\u001b[0m\u001b[0;34m\u001b[0m\u001b[0;34m\u001b[0m\u001b[0m\n",
            "\u001b[0;32m<ipython-input-55-9fe380c3a274>\u001b[0m in \u001b[0;36mstep\u001b[0;34m(self, action)\u001b[0m\n\u001b[1;32m     49\u001b[0m     \u001b[0;32mdef\u001b[0m \u001b[0mstep\u001b[0m\u001b[0;34m(\u001b[0m\u001b[0mself\u001b[0m\u001b[0;34m,\u001b[0m \u001b[0maction\u001b[0m\u001b[0;34m)\u001b[0m\u001b[0;34m:\u001b[0m\u001b[0;34m\u001b[0m\u001b[0;34m\u001b[0m\u001b[0m\n\u001b[1;32m     50\u001b[0m         \u001b[0;34m\"\"\"Take the action chosen and update the reward\"\"\"\u001b[0m\u001b[0;34m\u001b[0m\u001b[0;34m\u001b[0m\u001b[0m\n\u001b[0;32m---> 51\u001b[0;31m         \u001b[0mreward\u001b[0m \u001b[0;34m=\u001b[0m \u001b[0mself\u001b[0m\u001b[0;34m.\u001b[0m\u001b[0menv\u001b[0m\u001b[0;34m.\u001b[0m\u001b[0mact\u001b[0m\u001b[0;34m(\u001b[0m\u001b[0mself\u001b[0m\u001b[0;34m.\u001b[0m\u001b[0mactions\u001b[0m\u001b[0;34m[\u001b[0m\u001b[0maction\u001b[0m\u001b[0;34m]\u001b[0m\u001b[0;34m)\u001b[0m\u001b[0;34m\u001b[0m\u001b[0;34m\u001b[0m\u001b[0m\n\u001b[0m\u001b[1;32m     52\u001b[0m         \u001b[0;32mif\u001b[0m \u001b[0mreward\u001b[0m \u001b[0;34m<\u001b[0m \u001b[0;36m0\u001b[0m\u001b[0;34m:\u001b[0m\u001b[0;34m\u001b[0m\u001b[0;34m\u001b[0m\u001b[0m\n\u001b[1;32m     53\u001b[0m           \u001b[0mreward\u001b[0m \u001b[0;34m=\u001b[0m \u001b[0;34m-\u001b[0m\u001b[0;36m1\u001b[0m\u001b[0;34m\u001b[0m\u001b[0;34m\u001b[0m\u001b[0m\n",
            "\u001b[0;32m/content/PyGame-Learning-Environment/ple/ple.py\u001b[0m in \u001b[0;36mact\u001b[0;34m(self, action)\u001b[0m\n\u001b[1;32m    374\u001b[0m \u001b[0;34m\u001b[0m\u001b[0m\n\u001b[1;32m    375\u001b[0m         \"\"\"\n\u001b[0;32m--> 376\u001b[0;31m         \u001b[0;32mreturn\u001b[0m \u001b[0msum\u001b[0m\u001b[0;34m(\u001b[0m\u001b[0mself\u001b[0m\u001b[0;34m.\u001b[0m\u001b[0m_oneStepAct\u001b[0m\u001b[0;34m(\u001b[0m\u001b[0maction\u001b[0m\u001b[0;34m)\u001b[0m \u001b[0;32mfor\u001b[0m \u001b[0mi\u001b[0m \u001b[0;32min\u001b[0m \u001b[0mrange\u001b[0m\u001b[0;34m(\u001b[0m\u001b[0mself\u001b[0m\u001b[0;34m.\u001b[0m\u001b[0mframe_skip\u001b[0m\u001b[0;34m)\u001b[0m\u001b[0;34m)\u001b[0m\u001b[0;34m\u001b[0m\u001b[0;34m\u001b[0m\u001b[0m\n\u001b[0m\u001b[1;32m    377\u001b[0m \u001b[0;34m\u001b[0m\u001b[0m\n\u001b[1;32m    378\u001b[0m     \u001b[0;32mdef\u001b[0m \u001b[0m_draw_frame\u001b[0m\u001b[0;34m(\u001b[0m\u001b[0mself\u001b[0m\u001b[0;34m)\u001b[0m\u001b[0;34m:\u001b[0m\u001b[0;34m\u001b[0m\u001b[0;34m\u001b[0m\u001b[0m\n",
            "\u001b[0;32m/content/PyGame-Learning-Environment/ple/ple.py\u001b[0m in \u001b[0;36m<genexpr>\u001b[0;34m(.0)\u001b[0m\n\u001b[1;32m    374\u001b[0m \u001b[0;34m\u001b[0m\u001b[0m\n\u001b[1;32m    375\u001b[0m         \"\"\"\n\u001b[0;32m--> 376\u001b[0;31m         \u001b[0;32mreturn\u001b[0m \u001b[0msum\u001b[0m\u001b[0;34m(\u001b[0m\u001b[0mself\u001b[0m\u001b[0;34m.\u001b[0m\u001b[0m_oneStepAct\u001b[0m\u001b[0;34m(\u001b[0m\u001b[0maction\u001b[0m\u001b[0;34m)\u001b[0m \u001b[0;32mfor\u001b[0m \u001b[0mi\u001b[0m \u001b[0;32min\u001b[0m \u001b[0mrange\u001b[0m\u001b[0;34m(\u001b[0m\u001b[0mself\u001b[0m\u001b[0;34m.\u001b[0m\u001b[0mframe_skip\u001b[0m\u001b[0;34m)\u001b[0m\u001b[0;34m)\u001b[0m\u001b[0;34m\u001b[0m\u001b[0;34m\u001b[0m\u001b[0m\n\u001b[0m\u001b[1;32m    377\u001b[0m \u001b[0;34m\u001b[0m\u001b[0m\n\u001b[1;32m    378\u001b[0m     \u001b[0;32mdef\u001b[0m \u001b[0m_draw_frame\u001b[0m\u001b[0;34m(\u001b[0m\u001b[0mself\u001b[0m\u001b[0;34m)\u001b[0m\u001b[0;34m:\u001b[0m\u001b[0;34m\u001b[0m\u001b[0;34m\u001b[0m\u001b[0m\n",
            "\u001b[0;32m/content/PyGame-Learning-Environment/ple/ple.py\u001b[0m in \u001b[0;36m_oneStepAct\u001b[0;34m(self, action)\u001b[0m\n\u001b[1;32m    390\u001b[0m             \u001b[0;32mreturn\u001b[0m \u001b[0;36m0.0\u001b[0m\u001b[0;34m\u001b[0m\u001b[0;34m\u001b[0m\u001b[0m\n\u001b[1;32m    391\u001b[0m \u001b[0;34m\u001b[0m\u001b[0m\n\u001b[0;32m--> 392\u001b[0;31m         \u001b[0;32mif\u001b[0m \u001b[0maction\u001b[0m \u001b[0;32mnot\u001b[0m \u001b[0;32min\u001b[0m \u001b[0mself\u001b[0m\u001b[0;34m.\u001b[0m\u001b[0mgetActionSet\u001b[0m\u001b[0;34m(\u001b[0m\u001b[0;34m)\u001b[0m\u001b[0;34m:\u001b[0m\u001b[0;34m\u001b[0m\u001b[0;34m\u001b[0m\u001b[0m\n\u001b[0m\u001b[1;32m    393\u001b[0m             \u001b[0maction\u001b[0m \u001b[0;34m=\u001b[0m \u001b[0mself\u001b[0m\u001b[0;34m.\u001b[0m\u001b[0mNOOP\u001b[0m\u001b[0;34m\u001b[0m\u001b[0;34m\u001b[0m\u001b[0m\n\u001b[1;32m    394\u001b[0m \u001b[0;34m\u001b[0m\u001b[0m\n",
            "\u001b[0;31mKeyboardInterrupt\u001b[0m: "
          ]
        }
      ]
    },
    {
      "cell_type": "markdown",
      "source": [
        "Sarsa"
      ],
      "metadata": {
        "id": "y_dCEtNez3LX"
      }
    },
    {
      "cell_type": "markdown",
      "source": [
        "Successful Experiment"
      ],
      "metadata": {
        "id": "OYoHCjU2z6wj"
      }
    },
    {
      "cell_type": "code",
      "source": [
        "# Hyper Parameters\n",
        "GAMMA             = 0.99\n",
        "LEARNING_RATE     = 0.65\n",
        "INITIAL_Q_VALUES  = 0.1\n",
        "EPSILON           = 1\n",
        "EPSILON_DECAY     = 0.9995\n",
        "MIN_EPSILON       = 0.01\n",
        "BUCKETS           = np.array([30, 25, 30, 30, 30])\n",
        "\n",
        "LOG_EVERY = 1000\n",
        "NUMBER_OF_EPISODES = 30000\n",
        "\n",
        "VIDEO_FILE_NAME = '/content/sarsa_success'\n",
        "POLICY_FILE_NAME = '/content/sarsa_policy_success'"
      ],
      "metadata": {
        "id": "QXRQRAPmz7l7"
      },
      "execution_count": 95,
      "outputs": []
    },
    {
      "cell_type": "code",
      "source": [
        "# Creating the policy agent\n",
        "policy_agent = SarsaAgent(env.action_space, env.observation_space, BUCKETS, VIDEO_FILE_NAME, GAMMA, LEARNING_RATE, INITIAL_Q_VALUES, EPSILON, EPSILON_DECAY, MIN_EPSILON)\n",
        "\n",
        "# Training\n",
        "rewards, scores, lengths = policy_agent.train(env, NUMBER_OF_EPISODES, LOG_EVERY)\n",
        "\n",
        "# Saving the policy\n",
        "policy_agent.save_policy(POLICY_FILE_NAME)\n",
        "\n",
        "# Plot the results\n",
        "plot_result(LOG_EVERY, rewards, scores, lengths)"
      ],
      "metadata": {
        "id": "Sf43wkYJz-H6",
        "outputId": "edae3b12-5690-4a6e-af38-9611d5fdee0f",
        "colab": {
          "base_uri": "https://localhost:8080/",
          "height": 1000
        }
      },
      "execution_count": 96,
      "outputs": [
        {
          "output_type": "stream",
          "name": "stdout",
          "text": [
            "Episode 1000/30000, Epsilon: 0.61\n",
            "  Reward       ::   Average: -65.91      Variance: 114.87      Reward: 0.00      \n",
            "  Score        ::   Average: 0.00        Variance: 0.00        Score : 1.00      \n",
            "  Game Length  ::   Average: 52.74       Variance: 48.93       Game Length: 72.00     \n",
            "Episode 2000/30000, Epsilon: 0.37\n",
            "  Reward       ::   Average: -66.30      Variance: 116.46      Reward: 0.00      \n",
            "  Score        ::   Average: 0.01        Variance: 0.01        Score : 1.00      \n",
            "  Game Length  ::   Average: 55.35       Variance: 51.76       Game Length: 72.00     \n",
            "Episode 3000/30000, Epsilon: 0.22\n",
            "  Reward       ::   Average: -68.78      Variance: 106.60      Reward: 0.00      \n",
            "  Score        ::   Average: 0.06        Variance: 0.05        Score : 1.00      \n",
            "  Game Length  ::   Average: 59.91       Variance: 53.50       Game Length: 98.00     \n",
            " Video created: /content/sarsa_success_1.mp4\n",
            "Episode 4000/30000, Epsilon: 0.14\n",
            "  Reward       ::   Average: -70.48      Variance: 125.07      Reward: 0.00      \n",
            "  Score        ::   Average: 0.09        Variance: 0.09        Score : 2.00      \n",
            "  Game Length  ::   Average: 63.19       Variance: 91.67       Game Length: 134.00    \n",
            "Episode 5000/30000, Epsilon: 0.08\n",
            "  Reward       ::   Average: -72.50      Variance: 137.95      Reward: 0.00      \n",
            "  Score        ::   Average: 0.22        Variance: 0.21        Score : 3.00      \n",
            "  Game Length  ::   Average: 66.05       Variance: 159.62      Game Length: 139.00    \n",
            "Episode 6000/30000, Epsilon: 0.05\n",
            "  Reward       ::   Average: -72.96      Variance: 192.96      Reward: 13.69     \n",
            "  Score        ::   Average: 0.32        Variance: 0.32        Score : 3.00      \n",
            "  Game Length  ::   Average: 69.57       Variance: 283.82      Game Length: 177.00    \n",
            " Video created: /content/sarsa_success_2.mp4\n",
            "Episode 7000/30000, Epsilon: 0.03\n",
            "  Reward       ::   Average: -72.94      Variance: 318.94      Reward: 136.01    \n",
            "  Score        ::   Average: 0.38        Variance: 0.45        Score : 6.00      \n",
            "  Game Length  ::   Average: 72.60       Variance: 463.36      Game Length: 258.00    \n",
            "Episode 8000/30000, Epsilon: 0.02\n",
            "  Reward       ::   Average: -67.17      Variance: 687.85      Reward: 164.07    \n",
            "  Score        ::   Average: 0.68        Variance: 0.89        Score : 6.00      \n",
            "  Game Length  ::   Average: 82.89       Variance: 1085.48     Game Length: 288.00    \n",
            "Episode 9000/30000, Epsilon: 0.01\n",
            "  Reward       ::   Average: -55.57      Variance: 1894.24     Reward: 302.83    \n",
            "  Score        ::   Average: 1.11        Variance: 1.65        Score : 8.00      \n",
            "  Game Length  ::   Average: 99.50       Variance: 2196.22     Game Length: 360.00    \n",
            " Video created: /content/sarsa_success_3.mp4\n",
            "Episode 10000/30000, Epsilon: 0.01\n",
            "  Reward       ::   Average: -43.21      Variance: 5270.83     Reward: 862.91    \n",
            "  Score        ::   Average: 1.47        Variance: 2.66        Score : 13.00     \n",
            "  Game Length  ::   Average: 112.47      Variance: 3620.46     Game Length: 550.00    \n",
            "Episode 11000/30000, Epsilon: 0.01\n",
            "  Reward       ::   Average: -5.71       Variance: 21615.76    Reward: 1898.10   \n",
            "  Score        ::   Average: 2.28        Variance: 5.82        Score : 19.00     \n",
            "  Game Length  ::   Average: 143.04      Variance: 8114.50     Game Length: 776.00    \n"
          ]
        },
        {
          "output_type": "error",
          "ename": "KeyboardInterrupt",
          "evalue": "",
          "traceback": [
            "\u001b[0;31m---------------------------------------------------------------------------\u001b[0m",
            "\u001b[0;31mKeyboardInterrupt\u001b[0m                         Traceback (most recent call last)",
            "\u001b[0;32m<ipython-input-96-4ec86623de95>\u001b[0m in \u001b[0;36m<cell line: 5>\u001b[0;34m()\u001b[0m\n\u001b[1;32m      3\u001b[0m \u001b[0;34m\u001b[0m\u001b[0m\n\u001b[1;32m      4\u001b[0m \u001b[0;31m# Training\u001b[0m\u001b[0;34m\u001b[0m\u001b[0;34m\u001b[0m\u001b[0m\n\u001b[0;32m----> 5\u001b[0;31m \u001b[0mrewards\u001b[0m\u001b[0;34m,\u001b[0m \u001b[0mscores\u001b[0m\u001b[0;34m,\u001b[0m \u001b[0mlengths\u001b[0m \u001b[0;34m=\u001b[0m \u001b[0mpolicy_agent\u001b[0m\u001b[0;34m.\u001b[0m\u001b[0mtrain\u001b[0m\u001b[0;34m(\u001b[0m\u001b[0menv\u001b[0m\u001b[0;34m,\u001b[0m \u001b[0mNUMBER_OF_EPISODES\u001b[0m\u001b[0;34m,\u001b[0m \u001b[0mLOG_EVERY\u001b[0m\u001b[0;34m)\u001b[0m\u001b[0;34m\u001b[0m\u001b[0;34m\u001b[0m\u001b[0m\n\u001b[0m\u001b[1;32m      6\u001b[0m \u001b[0;34m\u001b[0m\u001b[0m\n\u001b[1;32m      7\u001b[0m \u001b[0;31m# Saving the policy\u001b[0m\u001b[0;34m\u001b[0m\u001b[0;34m\u001b[0m\u001b[0m\n",
            "\u001b[0;32m<ipython-input-88-27721f9fac08>\u001b[0m in \u001b[0;36mtrain\u001b[0;34m(self, env, num_episodes, log_every)\u001b[0m\n\u001b[1;32m     76\u001b[0m                 \u001b[0;31m# Update Q-table\u001b[0m\u001b[0;34m\u001b[0m\u001b[0;34m\u001b[0m\u001b[0m\n\u001b[1;32m     77\u001b[0m                 \u001b[0mnext_action\u001b[0m \u001b[0;34m=\u001b[0m \u001b[0mself\u001b[0m\u001b[0;34m.\u001b[0m\u001b[0mselect_action\u001b[0m\u001b[0;34m(\u001b[0m\u001b[0mnext_state\u001b[0m\u001b[0;34m)\u001b[0m\u001b[0;34m\u001b[0m\u001b[0;34m\u001b[0m\u001b[0m\n\u001b[0;32m---> 78\u001b[0;31m                 \u001b[0mself\u001b[0m\u001b[0;34m.\u001b[0m\u001b[0mupdate_policy\u001b[0m\u001b[0;34m(\u001b[0m\u001b[0;34m(\u001b[0m\u001b[0mstate\u001b[0m\u001b[0;34m,\u001b[0m \u001b[0maction\u001b[0m\u001b[0;34m,\u001b[0m \u001b[0mreward\u001b[0m\u001b[0;34m,\u001b[0m \u001b[0mnext_state\u001b[0m\u001b[0;34m,\u001b[0m \u001b[0mnext_action\u001b[0m\u001b[0;34m)\u001b[0m\u001b[0;34m)\u001b[0m\u001b[0;34m\u001b[0m\u001b[0;34m\u001b[0m\u001b[0m\n\u001b[0m\u001b[1;32m     79\u001b[0m \u001b[0;34m\u001b[0m\u001b[0m\n\u001b[1;32m     80\u001b[0m                 \u001b[0;31m# Move to the next state\u001b[0m\u001b[0;34m\u001b[0m\u001b[0;34m\u001b[0m\u001b[0m\n",
            "\u001b[0;32m<ipython-input-91-33a6fbe888f7>\u001b[0m in \u001b[0;36mupdate_policy\u001b[0;34m(self, transition)\u001b[0m\n\u001b[1;32m      9\u001b[0m         \u001b[0;31m# SARSA update rule\u001b[0m\u001b[0;34m\u001b[0m\u001b[0;34m\u001b[0m\u001b[0m\n\u001b[1;32m     10\u001b[0m         \u001b[0mcurrent_q\u001b[0m \u001b[0;34m=\u001b[0m \u001b[0mself\u001b[0m\u001b[0;34m.\u001b[0m\u001b[0mget_value\u001b[0m\u001b[0;34m(\u001b[0m\u001b[0mstate\u001b[0m\u001b[0;34m,\u001b[0m \u001b[0maction\u001b[0m\u001b[0;34m)\u001b[0m\u001b[0;34m\u001b[0m\u001b[0;34m\u001b[0m\u001b[0m\n\u001b[0;32m---> 11\u001b[0;31m         \u001b[0mnext_q\u001b[0m \u001b[0;34m=\u001b[0m \u001b[0mself\u001b[0m\u001b[0;34m.\u001b[0m\u001b[0mget_value\u001b[0m\u001b[0;34m(\u001b[0m\u001b[0mnext_state\u001b[0m\u001b[0;34m,\u001b[0m \u001b[0mnext_action\u001b[0m\u001b[0;34m)\u001b[0m\u001b[0;34m\u001b[0m\u001b[0;34m\u001b[0m\u001b[0m\n\u001b[0m\u001b[1;32m     12\u001b[0m \u001b[0;34m\u001b[0m\u001b[0m\n\u001b[1;32m     13\u001b[0m         \u001b[0;31m# Q(s,a) = Q(s,a) + α[r + γQ(s',a') - Q(s,a)]\u001b[0m\u001b[0;34m\u001b[0m\u001b[0;34m\u001b[0m\u001b[0m\n",
            "\u001b[0;32m<ipython-input-88-27721f9fac08>\u001b[0m in \u001b[0;36mget_value\u001b[0;34m(self, state, action)\u001b[0m\n\u001b[1;32m     25\u001b[0m     \u001b[0;31m# Get a value from the Q - Table\u001b[0m\u001b[0;34m\u001b[0m\u001b[0;34m\u001b[0m\u001b[0m\n\u001b[1;32m     26\u001b[0m     \u001b[0;32mdef\u001b[0m \u001b[0mget_value\u001b[0m\u001b[0;34m(\u001b[0m\u001b[0mself\u001b[0m\u001b[0;34m,\u001b[0m \u001b[0mstate\u001b[0m\u001b[0;34m,\u001b[0m \u001b[0maction\u001b[0m\u001b[0;34m=\u001b[0m\u001b[0;32mNone\u001b[0m\u001b[0;34m)\u001b[0m\u001b[0;34m:\u001b[0m\u001b[0;34m\u001b[0m\u001b[0;34m\u001b[0m\u001b[0m\n\u001b[0;32m---> 27\u001b[0;31m       \u001b[0mvalue\u001b[0m \u001b[0;34m=\u001b[0m \u001b[0mself\u001b[0m\u001b[0;34m.\u001b[0m\u001b[0mpolicy\u001b[0m\u001b[0;34m[\u001b[0m\u001b[0mself\u001b[0m\u001b[0;34m.\u001b[0m\u001b[0mcalc_discrete_state\u001b[0m\u001b[0;34m(\u001b[0m\u001b[0mstate\u001b[0m\u001b[0;34m)\u001b[0m\u001b[0;34m]\u001b[0m\u001b[0;34m\u001b[0m\u001b[0;34m\u001b[0m\u001b[0m\n\u001b[0m\u001b[1;32m     28\u001b[0m \u001b[0;34m\u001b[0m\u001b[0m\n\u001b[1;32m     29\u001b[0m       \u001b[0;32mif\u001b[0m \u001b[0maction\u001b[0m \u001b[0;32mis\u001b[0m \u001b[0;32mnot\u001b[0m \u001b[0;32mNone\u001b[0m\u001b[0;34m:\u001b[0m\u001b[0;34m\u001b[0m\u001b[0;34m\u001b[0m\u001b[0m\n",
            "\u001b[0;32m<ipython-input-88-27721f9fac08>\u001b[0m in \u001b[0;36mcalc_discrete_state\u001b[0;34m(self, state)\u001b[0m\n\u001b[1;32m     15\u001b[0m     \u001b[0;32mdef\u001b[0m \u001b[0mcalc_discrete_state\u001b[0m\u001b[0;34m(\u001b[0m\u001b[0mself\u001b[0m\u001b[0;34m,\u001b[0m \u001b[0mstate\u001b[0m\u001b[0;34m)\u001b[0m\u001b[0;34m:\u001b[0m\u001b[0;34m\u001b[0m\u001b[0;34m\u001b[0m\u001b[0m\n\u001b[1;32m     16\u001b[0m       \u001b[0mdiscrete_state\u001b[0m \u001b[0;34m=\u001b[0m \u001b[0;34m(\u001b[0m\u001b[0mstate\u001b[0m \u001b[0;34m*\u001b[0m \u001b[0mself\u001b[0m\u001b[0;34m.\u001b[0m\u001b[0mbuckets\u001b[0m\u001b[0;34m)\u001b[0m\u001b[0;34m.\u001b[0m\u001b[0mastype\u001b[0m\u001b[0;34m(\u001b[0m\u001b[0mint\u001b[0m\u001b[0;34m)\u001b[0m\u001b[0;34m\u001b[0m\u001b[0;34m\u001b[0m\u001b[0m\n\u001b[0;32m---> 17\u001b[0;31m       \u001b[0mdiscrete_state\u001b[0m \u001b[0;34m=\u001b[0m \u001b[0mnp\u001b[0m\u001b[0;34m.\u001b[0m\u001b[0mclip\u001b[0m\u001b[0;34m(\u001b[0m\u001b[0mdiscrete_state\u001b[0m\u001b[0;34m,\u001b[0m \u001b[0;36m0\u001b[0m\u001b[0;34m,\u001b[0m \u001b[0mself\u001b[0m\u001b[0;34m.\u001b[0m\u001b[0mbuckets\u001b[0m \u001b[0;34m-\u001b[0m \u001b[0;36m1\u001b[0m\u001b[0;34m)\u001b[0m\u001b[0;34m\u001b[0m\u001b[0;34m\u001b[0m\u001b[0m\n\u001b[0m\u001b[1;32m     18\u001b[0m \u001b[0;34m\u001b[0m\u001b[0m\n\u001b[1;32m     19\u001b[0m       \u001b[0;32mreturn\u001b[0m \u001b[0mtuple\u001b[0m\u001b[0;34m(\u001b[0m\u001b[0mdiscrete_state\u001b[0m\u001b[0;34m)\u001b[0m\u001b[0;34m\u001b[0m\u001b[0;34m\u001b[0m\u001b[0m\n",
            "\u001b[0;31mKeyboardInterrupt\u001b[0m: "
          ]
        }
      ]
    }
  ]
}