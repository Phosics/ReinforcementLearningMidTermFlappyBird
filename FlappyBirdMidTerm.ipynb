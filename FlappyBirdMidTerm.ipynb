{
  "nbformat": 4,
  "nbformat_minor": 0,
  "metadata": {
    "colab": {
      "provenance": [],
      "collapsed_sections": [
        "9PsfB8bB6EVL",
        "-4Z_jvJErVsQ"
      ],
      "include_colab_link": true
    },
    "kernelspec": {
      "name": "python3",
      "display_name": "Python 3"
    },
    "language_info": {
      "name": "python"
    }
  },
  "cells": [
    {
      "cell_type": "markdown",
      "metadata": {
        "id": "view-in-github",
        "colab_type": "text"
      },
      "source": [
        "<a href=\"https://colab.research.google.com/github/Phosics/ReinforcementLearningMidTermFlappyBird/blob/main/FlappyBirdMidTerm.ipynb\" target=\"_parent\"><img src=\"https://colab.research.google.com/assets/colab-badge.svg\" alt=\"Open In Colab\"/></a>"
      ]
    },
    {
      "cell_type": "markdown",
      "source": [
        "## Installs"
      ],
      "metadata": {
        "id": "LzEyrrIkyiik"
      }
    },
    {
      "cell_type": "markdown",
      "source": [
        "## Imports"
      ],
      "metadata": {
        "id": "s5hzkeZvyYk1"
      }
    },
    {
      "cell_type": "code",
      "source": [
        "!git clone https://github.com/ntasfi/PyGame-Learning-Environment\n",
        "!pip install gym_ple\n",
        "!pip install -e ./PyGame-Learning-Environment\n",
        "!pip install pyvirtualdisplay\n",
        "!sudo apt-get install -y xvfb ffmpeg freeglut3-dev"
      ],
      "metadata": {
        "id": "7vj5IGwnxwZ1",
        "colab": {
          "base_uri": "https://localhost:8080/"
        },
        "outputId": "0fe49737-42e0-444d-a10e-cecf08edf198"
      },
      "execution_count": 15,
      "outputs": [
        {
          "output_type": "stream",
          "name": "stdout",
          "text": [
            "fatal: destination path 'PyGame-Learning-Environment' already exists and is not an empty directory.\n",
            "Requirement already satisfied: gym_ple in /usr/local/lib/python3.10/dist-packages (0.3)\n",
            "Obtaining file:///content/PyGame-Learning-Environment\n",
            "  Preparing metadata (setup.py) ... \u001b[?25l\u001b[?25hdone\n",
            "Requirement already satisfied: numpy in /usr/local/lib/python3.10/dist-packages (from ple==0.0.1) (1.26.4)\n",
            "Requirement already satisfied: Pillow in /usr/local/lib/python3.10/dist-packages (from ple==0.0.1) (11.0.0)\n",
            "Installing collected packages: ple\n",
            "  Attempting uninstall: ple\n",
            "    Found existing installation: ple 0.0.1\n",
            "    Uninstalling ple-0.0.1:\n",
            "      Successfully uninstalled ple-0.0.1\n",
            "  Running setup.py develop for ple\n",
            "Successfully installed ple-0.0.1\n",
            "Requirement already satisfied: pyvirtualdisplay in /usr/local/lib/python3.10/dist-packages (3.0)\n",
            "Reading package lists... Done\n",
            "Building dependency tree... Done\n",
            "Reading state information... Done\n",
            "freeglut3-dev is already the newest version (2.8.1-6).\n",
            "ffmpeg is already the newest version (7:4.4.2-0ubuntu0.22.04.1).\n",
            "xvfb is already the newest version (2:21.1.4-2ubuntu1.7~22.04.12).\n",
            "0 upgraded, 0 newly installed, 0 to remove and 49 not upgraded.\n"
          ]
        }
      ]
    },
    {
      "cell_type": "code",
      "source": [
        "import sys\n",
        "sys.path.append('/content/PyGame-Learning-Environment')\n",
        "from ple.games.flappybird import FlappyBird\n",
        "from ple import PLE\n",
        "from gym import spaces\n",
        "import IPython\n",
        "import numpy as np\n",
        "import gym\n",
        "import os\n",
        "import pyvirtualdisplay\n",
        "import base64\n",
        "import warnings\n",
        "import imageio\n",
        "from abc import ABC, abstractmethod\n",
        "warnings.filterwarnings(\"ignore\")\n"
      ],
      "metadata": {
        "id": "gyVRgQEU4_M_",
        "outputId": "4719706f-59eb-4029-ea15-fb4690779154",
        "colab": {
          "base_uri": "https://localhost:8080/"
        }
      },
      "execution_count": null,
      "outputs": [
        {
          "output_type": "stream",
          "name": "stdout",
          "text": [
            "pygame 2.6.1 (SDL 2.28.4, Python 3.10.12)\n",
            "Hello from the pygame community. https://www.pygame.org/contribute.html\n",
            "couldn't import doomish\n",
            "Couldn't import doom\n"
          ]
        }
      ]
    },
    {
      "cell_type": "markdown",
      "source": [
        "## Utility function to display episode"
      ],
      "metadata": {
        "id": "9PsfB8bB6EVL"
      }
    },
    {
      "cell_type": "code",
      "source": [
        "def embed_mp4(filename):\n",
        "  \"\"\"Embeds an mp4 file in the notebook.\"\"\"\n",
        "  video = open(filename,'rb').read()\n",
        "  b64 = base64.b64encode(video)\n",
        "  tag = '''\n",
        "  <video width=\"640\" height=\"480\" controls>\n",
        "    <source src=\"data:video/mp4;base64,{0}\" type=\"video/mp4\">\n",
        "  Your browser does not support the video tag.\n",
        "  </video>'''.format(b64.decode())\n",
        "\n",
        "  return IPython.display.HTML(tag)\n",
        "display = pyvirtualdisplay.Display(visible=0, size=(1400, 900)).start()"
      ],
      "metadata": {
        "id": "h-jaUHEU6Dau"
      },
      "execution_count": null,
      "outputs": []
    },
    {
      "cell_type": "markdown",
      "source": [
        "## Environment"
      ],
      "metadata": {
        "id": "9mx2jFonhEun"
      }
    },
    {
      "cell_type": "markdown",
      "source": [
        "### Environment Summary\n",
        "\n",
        "This environment simulates the *Flappy Bird* game, where the agent controls the bird’s vertical position to navigate through gaps in pipes. Built on OpenAI’s `gym.Env` class, the environment allows interaction through standard functions like `step`, `reset`, and `render`.\n",
        "\n",
        "**Key Components**\n",
        "\n",
        "- **Observation Space**: The observation space includes 8 integer values, each representing a different aspect of the game state. These include:\n",
        "  - `\"player_y\"`: The bird's vertical position.\n",
        "  - `\"player_vel\"`: The bird's vertical velocity.\n",
        "  - `\"next_pipe_dist_to_player\"`: Horizontal distance to the next pipe.\n",
        "  - Additional features: Positions of the top and bottom of the next two pipes, enabling the agent to anticipate upcoming gaps.\n",
        "\n",
        "- **Action Space**: This is a discrete space with two actions:\n",
        "  - `0`: No flap (bird falls due to gravity).\n",
        "  - `1`: Flap (bird moves upward).\n",
        "- **Using the Environment**\n",
        "\n",
        "  - **Step:**\n",
        "    The `step` function returns four parameters: `obs`, `reward`, `done`, and `info`.\n",
        "\n",
        "    - **`obs`**: The new observation after applying the action.\n",
        "    - **`reward`**: The reward received for the action.\n",
        "    - **`done`**: A boolean indicating whether the episode has ended.\n",
        "    - **`info`**: A dictionary containing additional information. In this environment, the `info` dictionary includes a `\"score\"` entry that indicates how many pipes the bird has passed since the beginning of the episode.\n",
        "  - **Reset**\n",
        "    The `reset` function restores the environment to its initial state and returns the observation of that state.\n",
        "\n",
        "  - **Render**\n",
        "    The `render` function returns an image of the current state as a NumPy array (`np.array`).\n",
        "\n",
        "  See the `Running the environment` section below for an example of how to use it.\n",
        "\n",
        "- **Customizable Parameters**:\n",
        "  - **`pipe_gap`**: This controls the vertical gap between pipes. The default is set to `80`, providing a moderate challenge.\n",
        "  - **`custom_obs`** and **`custome_observation_map`**: Setting `custom_obs=True` instructs the environment to use a custom `observation_map` specified by the user, rather than the default map. When using a custom observation map, the user must also provide a `preprocess` function compatible with the custom observation map to ensure the observations are correctly processed for the agent.\n",
        "\n",
        "  - **`preprocess`** and **`reward_shaping`**: Optional functions that allow the user to customize how observations and rewards are modified. The `preprocess` function transforms the raw observations according to the specified `observation_map`, while `reward_shaping` allows for custom adjustments to the reward structure, helping to align the environment with the agent’s learning goals.\n",
        "\n",
        "  See the `Custom observation and reward shaping example of usage` section below for an example of usage.\n",
        "\n",
        "\n",
        "\n",
        "\n"
      ],
      "metadata": {
        "id": "odWvOUz5r-Y3"
      }
    },
    {
      "cell_type": "code",
      "source": [
        "# to disable the python game window popup\n",
        "os.environ[\"SDL_VIDEODRIVER\"] = \"dummy\"\n",
        "\n",
        "OBSERVATION_MAP = {0: 'player_y',\n",
        "                   1: \"player_vel\",\n",
        "                   2: \"next_pipe_dist_to_player\",\n",
        "                   3: \"next_pipe_top_y\",\n",
        "                   4: \"next_pipe_bottom_y\",\n",
        "                   5: \"next_next_pipe_dist_to_player\",\n",
        "                   6: \"next_next_pipe_top_y\",\n",
        "                   7: \"next_next_pipe_bottom_y\",\n",
        "}\n",
        "\n",
        "class Game(gym.Env):\n",
        "    def __init__(self, display_screen=False,\n",
        "                 force_fps=True,\n",
        "                 custom_obs=False,\n",
        "                 pipe_gap=80,\n",
        "                 custome_observation_map={},\n",
        "                 preprocess=lambda x: x,\n",
        "                 reward_shaping=lambda x, y, z: x):\n",
        "\n",
        "        os.environ[\"SDL_VIDEODRIVER\"] = \"dummy\"\n",
        "        game = FlappyBird(pipe_gap=pipe_gap)  # define and initiate the environment\n",
        "        self.env = PLE(game, fps=30, display_screen=display_screen,\n",
        "                       force_fps=force_fps)\n",
        "        self.env.init()\n",
        "        # list of actions in the environment\n",
        "        self.actions = self.env.getActionSet()\n",
        "        # length of actions\n",
        "        self.action_space = spaces.Discrete(len(self.actions))\n",
        "        self.custom_obs = custom_obs\n",
        "        self._observation_map = custome_observation_map if custom_obs else OBSERVATION_MAP\n",
        "        self.preprocess = preprocess\n",
        "        self.reward_shaping = reward_shaping\n",
        "        self.score = 0\n",
        "\n",
        "    @property\n",
        "    def observation_space(self):\n",
        "        return spaces.Box(low=0, high=512, shape=(len(self._observation_map),), dtype=int)\n",
        "\n",
        "    def _get_rgb(self):\n",
        "        return self.env.getScreenRGB().transpose(1, 0, 2)\n",
        "\n",
        "    @property\n",
        "    def observation_map(self):\n",
        "        return self._observation_map\n",
        "\n",
        "    def step(self, action):\n",
        "        \"\"\"Take the action chosen and update the reward\"\"\"\n",
        "        reward = self.env.act(self.actions[action])\n",
        "        if reward < 0:\n",
        "          reward = -1\n",
        "\n",
        "        if reward > 0:\n",
        "          self.score += 1\n",
        "        state = self.env.getGameState()\n",
        "        terminal = self.env.game_over()\n",
        "        reward = self.reward_shaping(reward, terminal, env)\n",
        "        info = {'score':self.score}\n",
        "        return self.preprocess(np.array(list(state.values())).astype(int)), reward, terminal, info\n",
        "\n",
        "    def getGameState(self):\n",
        "        '''\n",
        "        PLEenv return gamestate as a dictionary. Returns a modified form\n",
        "        of the gamestate only with the required information to define the state\n",
        "        '''\n",
        "        state = self.env.getGameState()\n",
        "        h_dist = state['next_pipe_dist_to_player']\n",
        "        v_dist = state['next_pipe_bottom_y'] - state['player_y']\n",
        "        vel = state['player_vel']\n",
        "\n",
        "        return ' '.join([str(vel), str(h_dist), str(v_dist)])\n",
        "\n",
        "    def reset(self):\n",
        "        \"\"\"Resets the game to start a new game\"\"\"\n",
        "        self.env.reset_game()\n",
        "        state = self.env.getGameState()\n",
        "        self.score = 0\n",
        "        return self.preprocess(np.array(list(state.values())).astype(int))\n",
        "\n",
        "    def render(self, mode='human'):\n",
        "        \"\"\"Render the game\"\"\"\n",
        "        return self._get_rgb()\n",
        "\n",
        "    def seed(self, seed):\n",
        "        rng = np.random.RandomState(seed)\n",
        "        self.env.rng = rng\n",
        "        self.env.game.rng = self.env.rng\n",
        "\n",
        "        self.env.init()"
      ],
      "metadata": {
        "id": "hEXHvbNYyd8L"
      },
      "execution_count": null,
      "outputs": []
    },
    {
      "cell_type": "code",
      "source": [
        "env = Game(custom_obs=False)"
      ],
      "metadata": {
        "id": "WRIzH8P-_fZz"
      },
      "execution_count": 24,
      "outputs": []
    },
    {
      "cell_type": "markdown",
      "source": [
        "### Observation space"
      ],
      "metadata": {
        "id": "64PvA8g5_PV1"
      }
    },
    {
      "cell_type": "code",
      "source": [
        "print(f\"observation space: {env.observation_space}\")\n",
        "for feaure, des in env.observation_map.items():\n",
        "  print(f\"feaure: {feaure} -> {des}\")"
      ],
      "metadata": {
        "colab": {
          "base_uri": "https://localhost:8080/"
        },
        "id": "bVz0zDuP_mI6",
        "outputId": "7910450a-5a77-4d57-dddb-47dc17e451c3"
      },
      "execution_count": 25,
      "outputs": [
        {
          "output_type": "stream",
          "name": "stdout",
          "text": [
            "observation space: Box(0, 512, (8,), int64)\n",
            "feaure: 0 -> player_y\n",
            "feaure: 1 -> player_vel\n",
            "feaure: 2 -> next_pipe_dist_to_player\n",
            "feaure: 3 -> next_pipe_top_y\n",
            "feaure: 4 -> next_pipe_bottom_y\n",
            "feaure: 5 -> next_next_pipe_dist_to_player\n",
            "feaure: 6 -> next_next_pipe_top_y\n",
            "feaure: 7 -> next_next_pipe_bottom_y\n"
          ]
        }
      ]
    },
    {
      "cell_type": "markdown",
      "source": [
        "In this *Flappy Bird* environment, the `Box` type represents a `Discrete` observation space in OpenAI's Gym, providing the agent with a range of values in each dimension of the environment. Here’s what each part means:\n",
        "\n",
        "* **Box**: This type of space is used to define a `Discrete`  range of values for each observation dimension. Here, it represents an 8-dimensional vector.\n",
        "* **(0, 512)**: Each dimension within this space can take values from 0 to 512, which corresponds to the pixel boundaries of the game.\n",
        "* **(8,)**: This shape indicates that there are 8 distinct variables in the observation vector, each capturing a critical feature of the environment.\n",
        "* **int64**: Each value in the vector is an integer of 64-bit precision.\n",
        "\n",
        "In summary, `Box(0, 512, (8,), int64)` represents an 8-dimensional vector space where each element is an integer from 0 to 512. Each dimension corresponds to a specific aspect of the *Flappy Bird* environment:\n",
        "\n",
        "1. **Player Y Position**: The vertical position of the bird, representing its height on the screen.\n",
        "2. **Player Velocity**: The bird’s current velocity, which impacts its movement and helps determine when to flap.\n",
        "3. **Distance to Next Pipe**: The horizontal distance between the bird and the next pipe, crucial for timing flaps.\n",
        "4. **Next Pipe Top Y Position**: The vertical position of the top of the next pipe, helping the bird gauge the gap.\n",
        "5. **Next Pipe Bottom Y Position**: The vertical position of the bottom of the next pipe, providing further data for navigating the gap.\n",
        "6. **Distance to Next-Next Pipe**: The horizontal distance to the pipe after the next one, giving the bird foresight into upcoming obstacles.\n",
        "7. **Next-Next Pipe Top Y Position**: The vertical position of the top of the pipe after the next one, extending the bird's view of upcoming gaps.\n",
        "8. **Next-Next Pipe Bottom Y Position**: The vertical position of the bottom of the pipe after the next one, for additional planning.\n",
        "\n",
        "Together, these dimensions offer the agent a detailed snapshot of the environment, helping it make decisions based on its position, velocity, and the layout of both current and upcoming obstacles.\n"
      ],
      "metadata": {
        "id": "bQsBJauryXVC"
      }
    },
    {
      "cell_type": "markdown",
      "source": [
        "### Action space"
      ],
      "metadata": {
        "id": "TLuIANMX0JRC"
      }
    },
    {
      "cell_type": "code",
      "source": [
        "env.action_space"
      ],
      "metadata": {
        "colab": {
          "base_uri": "https://localhost:8080/"
        },
        "id": "siDgIRASziZD",
        "outputId": "a9bfdeda-c182-4f27-f41a-b99c01a15b39"
      },
      "execution_count": null,
      "outputs": [
        {
          "output_type": "execute_result",
          "data": {
            "text/plain": [
              "Discrete(2)"
            ]
          },
          "metadata": {},
          "execution_count": 7
        }
      ]
    },
    {
      "cell_type": "markdown",
      "source": [
        "In this *Flappy Bird* environment, the `Discrete(2)` action space defines the possible actions the agent can take, using a finite set of discrete values:\n",
        "\n",
        "* **Discrete**: This type of space is used when there are a limited number of distinct actions.\n",
        "* **2**: The number of actions available, represented by values 0 and 1.\n",
        "\n",
        "For *Flappy Bird*, these actions correspond to:\n",
        "  * **0**: Do nothing (the bird continues to fall due to gravity).\n",
        "  * **1**: Flap (the bird moves upward briefly).\n",
        "\n",
        "In summary, `Discrete(2)` defines an action space with two possible actions: allowing the bird to either continue falling or flap to move upward, which is essential for navigating the gaps between pipes.\n"
      ],
      "metadata": {
        "id": "tdPOZw630TUx"
      }
    },
    {
      "cell_type": "markdown",
      "source": [
        "### Rewards\n",
        "\n",
        "*Reward Structure:*\n",
        "\n",
        "\n",
        "\n",
        "*   **Positive Reward**: For each pipe successfully passed, the agent receives a reward of **+1**.\n",
        "*   **Negative Reward**: Upon reaching any terminal state, the agent receives a penalty of **-1**.\n",
        "*   **Zero Reward**: Any other senario the reward is **0**\n",
        "\n",
        "\n"
      ],
      "metadata": {
        "id": "oA95yg2--eXX"
      }
    },
    {
      "cell_type": "markdown",
      "source": [
        "### Running the environmen"
      ],
      "metadata": {
        "id": "sTbzOYOG33sE"
      }
    },
    {
      "cell_type": "code",
      "source": [
        "env = Game()\n",
        "env.seed(42)\n",
        "obs = env.reset()\n",
        "video_filename = '/content/vid.mp4'\n",
        "max_steps = 100\n",
        "# Evaluation\n",
        "with imageio.get_writer(video_filename, fps=24) as video:\n",
        "  obs = env.reset()\n",
        "  done = False\n",
        "  total_reward = 0\n",
        "  for step in range(max_steps):\n",
        "      action = env.action_space.sample()\n",
        "      obs, reward, done, info = env.step(action)\n",
        "      next_obs = obs  # Get agent's position directly from the environment\n",
        "      total_reward += reward\n",
        "      re = env.render()\n",
        "      video.append_data(re)\n",
        "      if done:\n",
        "        score = info['score']\n",
        "        print(\"Sum of rewards =\", total_reward, \", Number of steps=\", step, \"score: \", score)\n",
        "        break\n",
        "embed_mp4(video_filename)"
      ],
      "metadata": {
        "colab": {
          "base_uri": "https://localhost:8080/",
          "height": 519
        },
        "id": "OKOTC3dh38AP",
        "outputId": "82a26d5f-72f1-4664-d2a6-f2aaa9a01a83"
      },
      "execution_count": null,
      "outputs": [
        {
          "output_type": "stream",
          "name": "stdout",
          "text": [
            "Sum of rewards = -1.0 , Number of steps= 45 score:  0\n"
          ]
        },
        {
          "output_type": "execute_result",
          "data": {
            "text/plain": [
              "<IPython.core.display.HTML object>"
            ],
            "text/html": [
              "\n",
              "  <video width=\"640\" height=\"480\" controls>\n",
              "    <source src=\"data:video/mp4;base64,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\" type=\"video/mp4\">\n",
              "  Your browser does not support the video tag.\n",
              "  </video>"
            ]
          },
          "metadata": {},
          "execution_count": 8
        }
      ]
    },
    {
      "cell_type": "markdown",
      "source": [
        "### Custom observation and reward shaping example of usage"
      ],
      "metadata": {
        "id": "FA6SrS10_pGo"
      }
    },
    {
      "cell_type": "code",
      "source": [
        "custom_obs_mapping = {0: \"average\",\n",
        "                      1: 'sum'}\n",
        "\n",
        "# meaningless preprocess method that average and sums all of the original features\n",
        "preprocess = lambda x: np.array([np.mean(x), np.sum(x)])\n",
        "\n",
        "# meaningless reward shaping method that added 1 to each original reward\n",
        "reward_shaping = lambda x, y, z: x+1\n",
        "\n",
        "env = Game(custom_obs=True,\n",
        "           custome_observation_map=custom_obs_mapping,\n",
        "           preprocess=preprocess,\n",
        "           reward_shaping=reward_shaping)\n",
        "env.seed(42)\n",
        "obs = env.reset()\n",
        "\n",
        "print(f\"observation space: {env.observation_space}\")\n",
        "for feaure, des in env.observation_map.items():\n",
        "  print(f\"feaure: {feaure} -> {des}\")\n",
        "\n",
        "print(f\"reset: {obs}\")\n",
        "print(\"#\"*100, end=\"\\n\\n\")\n",
        "video_filename = '/content/vid.mp4'\n",
        "max_steps = 100\n",
        "# Evaluation\n",
        "with imageio.get_writer(video_filename, fps=24) as video:\n",
        "  obs = env.reset()\n",
        "  done = False\n",
        "  total_reward = 0\n",
        "  for step in range(max_steps):\n",
        "      action = env.action_space.sample()\n",
        "      obs, reward, done, info = env.step(action)\n",
        "      next_obs = obs  # Get agent's position directly from the environment\n",
        "      total_reward += reward\n",
        "      re = env.render()\n",
        "      video.append_data(re)\n",
        "      if done:\n",
        "        score = info['score']\n",
        "        print(\"Sum of rewards =\", total_reward, \", Number of steps=\", step, \"score: \", score)\n",
        "        break\n",
        "embed_mp4(video_filename)"
      ],
      "metadata": {
        "colab": {
          "base_uri": "https://localhost:8080/",
          "height": 623
        },
        "id": "3ejzOhgJAAcV",
        "outputId": "7fef048f-3be9-4eed-b212-4ecc124a69d6"
      },
      "execution_count": null,
      "outputs": [
        {
          "output_type": "stream",
          "name": "stdout",
          "text": [
            "observation space: Box(0, 512, (2,), int64)\n",
            "feaure: 0 -> average\n",
            "feaure: 1 -> sum\n",
            "reset: [ 197.5 1580. ]\n",
            "####################################################################################################\n",
            "\n",
            "Sum of rewards = 58.0 , Number of steps= 58 score:  0\n"
          ]
        },
        {
          "output_type": "execute_result",
          "data": {
            "text/plain": [
              "<IPython.core.display.HTML object>"
            ],
            "text/html": [
              "\n",
              "  <video width=\"640\" height=\"480\" controls>\n",
              "    <source src=\"data:video/mp4;base64,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\" type=\"video/mp4\">\n",
              "  Your browser does not support the video tag.\n",
              "  </video>"
            ]
          },
          "metadata": {},
          "execution_count": 9
        }
      ]
    },
    {
      "cell_type": "markdown",
      "source": [
        "# Your Work begins here"
      ],
      "metadata": {
        "id": "BSzUW-ufhISi"
      }
    },
    {
      "cell_type": "markdown",
      "source": [
        "## Preprocess"
      ],
      "metadata": {
        "id": "NV8nQ-G379Ek"
      }
    },
    {
      "cell_type": "markdown",
      "source": [
        "**Define the `preprocess` Method**\n",
        "\n",
        "- Create a function called `preprocess` that takes an observation as input.\n",
        "- The purpose of this function is to transform the raw observation into a format that optimizes learning for the agent. Use your creativity to design an effective preprocessing strategy for this task.\n",
        "\n",
        "**Suggested Approaches:**\n",
        "- **Normalization or Scaling**: Adjust observation values to a common range, such as $0$ to $1$ or $0$ to $N$, to improve stability in the learning process.\n",
        "- **Feature Extraction**: Emphasize key features in the observation that are crucial for achieving the environment's goals.\n",
        "- **Dimensionality Reduction**: Simplify the observation by removing or combining less significant parts to streamline learning and reduce complexity.\n",
        "\n",
        "**Compression and Q-Table Size**\n",
        "- Reducing the complexity of the observation, through techniques like scaling, normalization, or removing redundant features, effectively compresses the data. This compression simplifies the agent’s perception of the environment, helping it focus on the most relevant information.\n",
        "- In discrete environments, reducing observation dimensionality directly impacts the size of the Q-table. By compressing the observation space, you decrease the number of possible states, which makes the Q-table smaller and easier to manage. This reduction in Q-table size not only conserves memory but can also enhance learning efficiency.\n",
        "  \n",
        "Use these ideas to explain how your preprocessing strategy compresses the observation space and helps the agent handle the environment more effectively.\n",
        "\n",
        "**Rationalize Your Preprocessing Choices**\n",
        "\n",
        "- Include a brief explanation of your preprocessing choices. Explain why you believe this approach will improve the agent's learning efficiency and performance.\n",
        "- Discuss how these adjustments make the observations more interpretable or manageable for the learning algorithm.\n",
        "\n",
        "**Important**\n",
        "- The maximum value on the **Vertical** axis is **512**.\n",
        "- The maximum value on the **Horizontal** axis is **288**.\n"
      ],
      "metadata": {
        "id": "34GXgJztd6QZ"
      }
    },
    {
      "cell_type": "code",
      "source": [
        "MIN_DISTANCE_VALUE = 0\n",
        "MAX_DISTANCE_VALUE = 512\n",
        "\n",
        "MIN_VELOCITY_VALUE = -512\n",
        "MAX_VELOCITY_VALUE = 512\n",
        "\n",
        "custome_observation_map = { 0: 'player_y_norm',\n",
        "                            1: \"player_vel_norm\",\n",
        "                            2: \"next_pipe_dist_to_player_norm\",\n",
        "                            3: \"next_pipe_top_y_norm\",\n",
        "                            4: \"next_pipe_bottom_y_norm\",\n",
        "                            5: \"next_next_pipe_dist_to_player_norm\",\n",
        "                            6: \"next_next_pipe_top_y_norm\",\n",
        "                            7: \"next_next_pipe_bottom_y_norm\",\n",
        "}\n",
        "# assing each action with a description of the feature meaning\n",
        "\n",
        "def normalize(value, min, max):\n",
        "  return (value - min) / (max - min)\n",
        "\n",
        "def normalize_distance(value):\n",
        "  return normalize(value, MIN_DISTANCE_VALUE, MAX_DISTANCE_VALUE)\n",
        "\n",
        "def normalize_velocity(value):\n",
        "  return normalize(value, MIN_VELOCITY_VALUE, MAX_VELOCITY_VALUE)\n",
        "\n",
        "def preprocess(obs):\n",
        "  \"\"\"\n",
        "  insert your preprocessing code here\n",
        "  \"\"\"\n",
        "  obs = obs.astype(float)\n",
        "  obs[0] = normalize_distance(obs[0])\n",
        "  obs[1] = normalize_velocity(obs[1])\n",
        "  obs[2] = normalize_distance(obs[2])\n",
        "  obs[3] = normalize_distance(obs[3])\n",
        "  obs[4] = normalize_distance(obs[4])\n",
        "  obs[5] = normalize_distance(obs[5])\n",
        "  obs[6] = normalize_distance(obs[6])\n",
        "  obs[7] = normalize_distance(obs[7])\n",
        "\n",
        "  return obs"
      ],
      "metadata": {
        "id": "LPHpNwt_8AAx"
      },
      "execution_count": 148,
      "outputs": []
    },
    {
      "cell_type": "markdown",
      "source": [
        "## Reward shaping"
      ],
      "metadata": {
        "id": "562OuNkIeumH"
      }
    },
    {
      "cell_type": "markdown",
      "source": [
        "### Define a Reward Shaping Strategy\n",
        "\n",
        "**Reward shaping** means adjusting the rewards given to the agent to encourage desired actions and help it learn faster. In *Flappy Bird*, the goal is to create rewards that guide the bird to survive longer and avoid hitting pipes.\n",
        "\n",
        "**Steps for Reward Shaping:**\n",
        "\n",
        "1. **Identify Desired Behaviors**:\n",
        "   - Decide which behaviors you want to encourage. For example, flapping at the right time to pass through pipes or avoiding unnecessary flaps could be rewarded.\n",
        "\n",
        "2. **Design Rewards**:\n",
        "   - Use rewards that motivate the bird to take helpful actions without distracting from the main goal (staying alive). Here are some ideas:\n",
        "     - **Survival Reward**: Give a small reward for each step the bird survives.\n",
        "     - **Penalty for Hitting Pipes**: Apply a negative reward (penalty) when the bird crashes into a pipe.\n",
        "    - **Passing Through Pipes**: Provide a positive reward each time the bird successfully passes through a pipe.\n",
        "\n",
        "\n",
        "3. **Explain Your Reward Choices**:\n",
        "   - Add an explanation for your reward design. Why did you decide to reward certain actions or apply penalties?\n",
        "   - Describe how your rewards help the bird focus on staying alive and navigating pipes effectively.\n",
        "   - Provide an example demonstrating the impact of your reward shaping logic, ideally by comparing performance graphs with and without reward shaping.\n",
        "\n",
        "4. **Avoid Over-Shaping**:\n",
        "   - Avoid giving too many rewards for minor actions, as it could lead the bird to focus on short-term rewards instead of the main goal. Aim for a balance where the bird gets enough guidance without relying on intermediate rewards.\n",
        "\n",
        "**Q-Learning and Value Convergence**:\n",
        "   - Remember, shaping rewards impacts **Q-values** (the expected value of actions). When rewards are well-designed, the bird’s Q-values will better reflect valuable actions, helping it make smarter choices over time.\n",
        "\n",
        "Use these tips to develop a reward strategy that encourages the bird to navigate through pipes effectively while improving its learning.\n"
      ],
      "metadata": {
        "id": "zOnXqApDe7tg"
      }
    },
    {
      "cell_type": "code",
      "source": [
        "def reward_shaping(reward, terminal, env):\n",
        "  \"\"\"\n",
        "  insert your preprocessing code here\n",
        "  \"\"\"\n",
        "  return reward"
      ],
      "metadata": {
        "id": "bbGZVsX3f0m5"
      },
      "execution_count": null,
      "outputs": []
    },
    {
      "cell_type": "markdown",
      "source": [
        "## Implementation of Learning Agents"
      ],
      "metadata": {
        "id": "uRLgerJnhmXA"
      }
    },
    {
      "cell_type": "markdown",
      "source": [
        "Abstract Class for Implementing an On-Policy Agent\n",
        "\n",
        "Below is an abstract class to serve as a foundation for implementing an on-policy agent. Derive your agent from this class and implement the specific logic for your agent. Note that different agents may require additional parameters or functions to support their unique features and learning mechanisms.\n"
      ],
      "metadata": {
        "id": "Yev0iBqsjZVs"
      }
    },
    {
      "cell_type": "code",
      "source": [
        "from abc import ABC, abstractmethod\n",
        "\n",
        "class OnPolicyAgent(ABC):\n",
        "    def __init__(self, action_space, observation_space, gamma, learning_rate):\n",
        "        \"\"\"\n",
        "        Initializes the on-policy RL agent.\n",
        "        You can add more parameters\n",
        "        Parameters:\n",
        "        - action_space: The action space of the environment\n",
        "        - observation_space: The observation space of the environment\n",
        "        - gamma: Discount factor for future rewards\n",
        "        - learning_rate: Learning rate for policy updates\n",
        "        \"\"\"\n",
        "        self.action_space = action_space\n",
        "        self.observation_space = observation_space\n",
        "        self.gamma = gamma\n",
        "        self.learning_rate = learning_rate\n",
        "        self.policy = None  # Placeholder for policy (to be implemented in subclasses)\n",
        "\n",
        "    @abstractmethod\n",
        "    def select_action(self, observation, deterministic=False):\n",
        "        \"\"\"\n",
        "        Select an action based on the current policy.\n",
        "\n",
        "        Parameters:\n",
        "        - observation: Current state observation from the environment\n",
        "        -deterministic: Flag indicating whether to use a deterministic policy (default is False)\n",
        "        Returns:\n",
        "        - action: Chosen action based on the policy\n",
        "        \"\"\"\n",
        "        pass\n",
        "\n",
        "    @abstractmethod\n",
        "    def update_policy(self, transition):\n",
        "        \"\"\"\n",
        "        Update the policy based on the current transition.\n",
        "\n",
        "        Parameters:\n",
        "        - transition: Data collected from interactions with the environment (tuple of zero or more values such as acion, reward etc...)\n",
        "        \"\"\"\n",
        "        pass\n",
        "\n",
        "    @abstractmethod\n",
        "    def train(self, env, num_episodes, log_every):\n",
        "        \"\"\"\n",
        "        Train the agent over a specified number of episodes.\n",
        "\n",
        "        Parameters:\n",
        "        - env: The environment to train in\n",
        "        - num_episodes: Number of training episodes\n",
        "        \"\"\"\n",
        "        pass\n",
        "\n",
        "    @abstractmethod\n",
        "    def save_policy(self, file_path):\n",
        "        \"\"\"\n",
        "        Save the current policy to a file.\n",
        "\n",
        "        Parameters:\n",
        "        - file_path: Path to the file where the policy should be saved\n",
        "        \"\"\"\n",
        "        pass\n",
        "\n",
        "    @abstractmethod\n",
        "    def load_policy(self, file_path):\n",
        "        \"\"\"\n",
        "        Load a policy from a file.\n",
        "\n",
        "        Parameters:\n",
        "        - file_path: Path to the file from which the policy should be loaded\n",
        "        \"\"\"\n",
        "        pass\n",
        "\n",
        "    @abstractmethod\n",
        "    def run_policy(self, env):\n",
        "        \"\"\"\n",
        "        Run the loaded policy in the environment for one episode.\n",
        "\n",
        "        Parameters:\n",
        "        - env: The environment in which to run the policy\n",
        "\n",
        "        Returns:\n",
        "        - total_reward: Total reward accumulated in the episode\n",
        "        \"\"\"\n",
        "        pass\n"
      ],
      "metadata": {
        "id": "bq3JtejTh57r"
      },
      "execution_count": null,
      "outputs": []
    },
    {
      "cell_type": "code",
      "source": [
        "class QLearningAgent(OnPolicyAgent):\n",
        "    def __init__(self, action_space, observation_space, gamma=0.99, learning_rate=0.1, initial_q_values=0, epsilon=1, epsilon_decay=0.99, epsilon_min = 0.01, number_of_bins=10):\n",
        "      super().__init__(action_space, observation_space, gamma, learning_rate)\n",
        "\n",
        "      self.number_of_bins = number_of_bins\n",
        "      self.epsilon = epsilon\n",
        "      self.epsilon_decay = epsilon_decay\n",
        "      self.epsilon_min = epsilon_min\n",
        "\n",
        "      self.construct_q_table(observation_space, action_space, initial_q_values)\n",
        "\n",
        "    def construct_q_table(self, observation_space, action_space, initial_q_values):\n",
        "      low = observation_space.low\n",
        "      high = observation_space.high\n",
        "\n",
        "      # Discretize the space\n",
        "      bins = [np.linspace(low, high, self.number_of_bins + 1) for low, high in zip(low, high)]\n",
        "\n",
        "      q_table_shape = tuple(len(b) - 1 for b in bins) + (action_space.n,)\n",
        "      self.policy = np.full(q_table_shape, initial_q_values)\n",
        "\n",
        "    def find_bin(self, value):\n",
        "      bin = int(value / (1 / self.number_of_bins))\n",
        "      print(\"Value:\" + str(value) + \" Bin:\" + str(bin))\n",
        "\n",
        "      if bin == self.number_of_bins:\n",
        "        return bin - 1\n",
        "\n",
        "      return bin\n",
        "\n",
        "    def get_value(self, states, action=None):\n",
        "      current_value = self.policy\n",
        "\n",
        "      for state in states:\n",
        "        current_value = current_value[self.find_bin(state)]\n",
        "\n",
        "      if action is not None:\n",
        "        current_value = current_value[action]\n",
        "\n",
        "      return current_value\n",
        "\n",
        "    def set_value(self, states, action, value):\n",
        "      current_value = self.policy\n",
        "\n",
        "      for state in states:\n",
        "        current_value = current_value[self.find_bin(state)]\n",
        "\n",
        "      current_value[action] = value\n",
        "\n",
        "    def get_best_action(self, state):\n",
        "      return np.argmax(self.get_value(state))\n",
        "\n",
        "    def select_action(self, observation, deterministic=False):\n",
        "      \"\"\"Select an action using epsilon-greedy policy or the best action if deterministic.\"\"\"\n",
        "      if deterministic or np.random.rand() > self.epsilon:\n",
        "          # Exploitation: choose the action with the highest Q-value\n",
        "          return self.get_best_action(observation)\n",
        "      else:\n",
        "          # Exploration: choose a random action\n",
        "          return self.action_space.sample()\n",
        "\n",
        "    def update_policy(self, transition):\n",
        "        \"\"\"\n",
        "        Update Q-value based on the given transition.\n",
        "        transition: (state, action, reward, next_state, done)\n",
        "        \"\"\"\n",
        "        state, action, reward, next_state, done = transition\n",
        "\n",
        "        # Extract the current Q-value\n",
        "        current_q_value = self.get_value(state, action)\n",
        "\n",
        "        # Extract the best possible action for the next state\n",
        "        next_state_best_action = self.get_best_action(next_state)\n",
        "        next_state_best_q_value = self.get_value(next_state, next_state_best_action)\n",
        "\n",
        "        # Calcualte future reward\n",
        "        if done:\n",
        "          future_reward = 0\n",
        "        else:\n",
        "          future_reward = self.gamma * next_state_best_q_value\n",
        "\n",
        "        # Calculate the Temporal Difference (TD)\n",
        "        td_target = reward + future_reward\n",
        "\n",
        "        # Calculate the TD error\n",
        "        td_error = (reward + self.gamma * next_state_best_q_value) - current_q_value\n",
        "\n",
        "        # Update the Q-value\n",
        "        new_q_value = current_q_value + (self.learning_rate * td_error)\n",
        "        self.set_value(state, action, new_q_value)\n",
        "\n",
        "    def train(self, env, num_episodes, log_every=100):\n",
        "        \"\"\"\n",
        "        Train the agent for the given number of episodes.\n",
        "        \"\"\"\n",
        "        rewards = []\n",
        "        for episode in range(1, num_episodes+1):\n",
        "            state = env.reset()\n",
        "            done = False\n",
        "            total_reward = 0\n",
        "\n",
        "            while not done:\n",
        "                action = self.select_action(state)\n",
        "                next_state, reward, done, info = env.step(action)\n",
        "\n",
        "                # Update Q-table\n",
        "                self.update_policy((state, action, reward, next_state, done))\n",
        "\n",
        "                # Move to the next state\n",
        "                state = next_state\n",
        "                total_reward += reward\n",
        "\n",
        "            # Decay epsilon\n",
        "            if self.epsilon > self.epsilon_min:\n",
        "                self.epsilon *= self.epsilon_decay\n",
        "\n",
        "            rewards.append(total_reward)\n",
        "\n",
        "            if episode % log_every == 0:\n",
        "                avg_reward = np.mean(rewards[-log_every:])\n",
        "                print(f\"Episode {episode}/{num_episodes}, Average Reward: {avg_reward:.2f}, Epsilon: {self.epsilon:.2f}\")\n",
        "\n",
        "    def save_policy(self, file_path):\n",
        "        \"\"\"Save Q-table to file (NumPy format).\"\"\"\n",
        "        np.save(file_path, self.policy)\n",
        "\n",
        "    def load_policy(self, file_path):\n",
        "        \"\"\"Load Q-table from file (NumPy format).\"\"\"\n",
        "        self.policy = np.load(file_path)\n",
        "\n",
        "    def run_policy(self, env):\n",
        "        \"\"\"\n",
        "        Run the current policy (without exploration) for one episode and return the total reward.\n",
        "        \"\"\"\n",
        "        state = env.reset()\n",
        "        done = False\n",
        "        total_reward = 0\n",
        "        while not done:\n",
        "            # Choose best action (deterministic)\n",
        "            action = self.select_action(state, deterministic=True)\n",
        "            next_state, reward, done, info = env.step(action)\n",
        "            total_reward += reward\n",
        "            state = next_state\n",
        "\n",
        "        return total_reward"
      ],
      "metadata": {
        "id": "7hqLSIHC2aII"
      },
      "execution_count": 140,
      "outputs": []
    },
    {
      "cell_type": "markdown",
      "source": [
        "## Training"
      ],
      "metadata": {
        "id": "L4nG1NT6kLzQ"
      }
    },
    {
      "cell_type": "markdown",
      "source": [
        "#### Experimentation Instructions\n",
        "\n",
        "In this section, you will conduct a series of experiments to solve the environment using your on-policy agent. Follow these guidelines for a clear and comprehensive presentation of your work:\n",
        "\n",
        "1. **Design and Run Experiments**:\n",
        "   - Perform at least **5 distinct experiments** with your agent, including:\n",
        "     - **2 unsuccessful experiments** where the agent fails to learn the environment (reaching a score below the target).\n",
        "     - **1 successful experiment** where the agent achieves a score of **10** or higher. (Remember the score is define by the amount of pipes the agent has passed)\n",
        "\n",
        "   - *Note*: In practice, you are expected to try many configurations to observe various outcomes, even beyond these 3 experiments.\n",
        "\n",
        "2. **Provide Detailed Summaries**:\n",
        "   - For each experiment, include:\n",
        "     - **Graphs** that illustrate the training process, such as reward progression, steps, score, and  any other relevant metrics (there is many more metrics that we can learn from).\n",
        "     - **Explanations of Hyperparameters**: Clearly describe the configuration of hyperparameters chosen for each experiment, and the reasoning behind these choices.\n",
        "     - **Preprocessing and Reward Shaping**: Explain any data preprocessing or reward shaping techniques applied, along with the motivation for these techniques.\n",
        "\n",
        "3. **Analyze and Reflect**:\n",
        "   - **Result Analysis**: Analyze each experiment's outcome, focusing on why the agent may have succeeded or failed based on your configurations.\n",
        "   - **Insights and Deductions**: Draw insights from each experiment, noting what worked and what didn’t. Use these insights to refine your understanding of the environment and agent performance.\n",
        "\n",
        "4. **Final Report**:\n",
        "   - **Synthesize Findings**: Compile all observations, insights, and analysis from your experiments into a final report. This report should showcase your learnings and demonstrate a deep understanding of the experimentation process.\n",
        "   - **Emphasis on Analysis**: The analysis of your results and the conclusions drawn are the most critical aspects of this exercise. Dedicate ample attention to this section, as it will reflect your ability to interpret and understand the agent’s learning process.\n",
        "\n",
        "**Remember**: The goal of this exercise is to experiment, learn, and iterate. Document your process thoroughly, as this will form the foundation of your report.\n"
      ],
      "metadata": {
        "id": "c7SCgp8wkkQ5"
      }
    },
    {
      "cell_type": "code",
      "source": [
        "# Hyper Parameters\n",
        "GAMMA             = 0.99\n",
        "LEARNING_RATE     = 0.01\n",
        "INITIAL_Q_VALUES  = 0\n",
        "EPSILON           = 1\n",
        "EPSILON_DECAY     = 0.99\n",
        "MIN_EPSILON       = 0.01\n",
        "NUMBER_OF_BINS    = 10\n",
        "\n",
        "reward_shaping = lambda x, y, z: x+1"
      ],
      "metadata": {
        "id": "Y9XzqtaiJFGW"
      },
      "execution_count": 135,
      "outputs": []
    },
    {
      "cell_type": "code",
      "source": [
        "#env = Game(custom_obs=True, preprocess=preprocess, reward_shaping=reward_shaping, custome_observation_map=custome_observation_map)\n",
        "env = Game(custom_obs=False, preprocess=preprocess, reward_shaping=reward_shaping, custome_observation_map=custome_observation_map)\n",
        "\"\"\"\n",
        "Insert you experiment code here\n",
        "\"\"\"\n",
        "policy_agent = QLearningAgent(env.action_space, env.observation_space, GAMMA, LEARNING_RATE, INITIAL_Q_VALUES, EPSILON, EPSILON_DECAY, MIN_EPSILON)\n",
        "policy_agent.train(env, num_episodes=1000, log_every=100)\n"
      ],
      "metadata": {
        "id": "PHfYUscjkThj"
      },
      "execution_count": null,
      "outputs": []
    },
    {
      "cell_type": "markdown",
      "source": [
        "## Validation"
      ],
      "metadata": {
        "id": "Vk9cklTikbu_"
      }
    },
    {
      "cell_type": "markdown",
      "source": [
        "#### Validation Section\n",
        "\n",
        "In this section, you will validate your agent’s performance using the best-performing configuration identified in the experimentation phase. This validation step should be less exhaustive than the experimentation section but should provide sufficient evidence of your agent's consistency and stability.\n",
        "\n",
        "1. **Run Validation Trials**:\n",
        "   - Using the chosen configuration, run the agent in the environment for **multiple trials** (e.g., 5-10 episodes) to test its reliability.\n",
        "   - Observe the agent's performance across these trials to confirm whether it consistently achieves or exceeds the target score of 10.\n",
        "\n",
        "2. **Provide Key Summaries**:\n",
        "   - **Performance Metrics**: Summarize the agent’s performance with key metrics such as average score, highest score, and variance across trials.\n",
        "   - **Graphs** (Optional): Include basic graphs showing score progression or any other relevant metric, if they provide additional insight into the agent's stability.\n",
        "\n",
        "3. **Brief Analysis**:\n",
        "   - Reflect on the agent's performance in validation. Note any patterns or inconsistencies and provide a short explanation of how these results align (or differ) from your expectations based on the experimentation phase.\n",
        "\n",
        "*Note*: This validation section should confirm and strengthen the results of your experimentation, focusing on reliability and consistency rather than extensive analysis.\n",
        "\n",
        "*Note*: Store the agent's policy to files since you asked to provide aditional notbook that loads the agent policy\n"
      ],
      "metadata": {
        "id": "-4Z_jvJErVsQ"
      }
    },
    {
      "cell_type": "code",
      "source": [
        "\"\"\"\n",
        "Insert you validation code here\n",
        "\"\"\""
      ],
      "metadata": {
        "id": "65TXpKkgkeic",
        "colab": {
          "base_uri": "https://localhost:8080/"
        },
        "outputId": "31d46a28-f289-4531-e738-e0aad79e90eb"
      },
      "execution_count": null,
      "outputs": [
        {
          "output_type": "execute_result",
          "data": {
            "text/plain": [
              "'\\nInsert you validation code here\\n'"
            ],
            "application/vnd.google.colaboratory.intrinsic+json": {
              "type": "string"
            }
          },
          "metadata": {},
          "execution_count": 50
        }
      ]
    }
  ]
}