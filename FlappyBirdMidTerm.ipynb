{
  "nbformat": 4,
  "nbformat_minor": 0,
  "metadata": {
    "colab": {
      "provenance": [],
      "collapsed_sections": [
        "9PsfB8bB6EVL",
        "-4Z_jvJErVsQ"
      ],
      "include_colab_link": true
    },
    "kernelspec": {
      "name": "python3",
      "display_name": "Python 3"
    },
    "language_info": {
      "name": "python"
    }
  },
  "cells": [
    {
      "cell_type": "markdown",
      "metadata": {
        "id": "view-in-github",
        "colab_type": "text"
      },
      "source": [
        "<a href=\"https://colab.research.google.com/github/Phosics/ReinforcementLearningMidTermFlappyBird/blob/main/FlappyBirdMidTerm.ipynb\" target=\"_parent\"><img src=\"https://colab.research.google.com/assets/colab-badge.svg\" alt=\"Open In Colab\"/></a>"
      ]
    },
    {
      "cell_type": "markdown",
      "source": [
        "## Installs"
      ],
      "metadata": {
        "id": "LzEyrrIkyiik"
      }
    },
    {
      "cell_type": "markdown",
      "source": [
        "## Imports"
      ],
      "metadata": {
        "id": "s5hzkeZvyYk1"
      }
    },
    {
      "cell_type": "code",
      "source": [
        "!git clone https://github.com/ntasfi/PyGame-Learning-Environment\n",
        "!pip install gym_ple\n",
        "!pip install -e ./PyGame-Learning-Environment\n",
        "!pip install pyvirtualdisplay\n",
        "!sudo apt-get install -y xvfb ffmpeg freeglut3-dev"
      ],
      "metadata": {
        "id": "7vj5IGwnxwZ1",
        "colab": {
          "base_uri": "https://localhost:8080/"
        },
        "outputId": "35501b88-384f-4174-a097-d3e537148bc3"
      },
      "execution_count": 1,
      "outputs": [
        {
          "output_type": "stream",
          "name": "stdout",
          "text": [
            "Cloning into 'PyGame-Learning-Environment'...\n",
            "remote: Enumerating objects: 1118, done.\u001b[K\n",
            "remote: Total 1118 (delta 0), reused 0 (delta 0), pack-reused 1118 (from 1)\u001b[K\n",
            "Receiving objects: 100% (1118/1118), 8.06 MiB | 25.15 MiB/s, done.\n",
            "Resolving deltas: 100% (592/592), done.\n",
            "Collecting gym_ple\n",
            "  Downloading gym_ple-0.3.tar.gz (4.0 kB)\n",
            "  Preparing metadata (setup.py) ... \u001b[?25l\u001b[?25hdone\n",
            "Building wheels for collected packages: gym_ple\n",
            "  Building wheel for gym_ple (setup.py) ... \u001b[?25l\u001b[?25hdone\n",
            "  Created wheel for gym_ple: filename=gym_ple-0.3-py3-none-any.whl size=4458 sha256=6c2f10aa0ea85b35d1e23bb0afdea8d31e981bd928d6809153c78127ce97a95e\n",
            "  Stored in directory: /root/.cache/pip/wheels/71/96/17/a59c56c130c89ad5816ef952c93cad65803807f1a3891ba994\n",
            "Successfully built gym_ple\n",
            "Installing collected packages: gym_ple\n",
            "Successfully installed gym_ple-0.3\n",
            "Obtaining file:///content/PyGame-Learning-Environment\n",
            "  Preparing metadata (setup.py) ... \u001b[?25l\u001b[?25hdone\n",
            "Requirement already satisfied: numpy in /usr/local/lib/python3.10/dist-packages (from ple==0.0.1) (1.26.4)\n",
            "Requirement already satisfied: Pillow in /usr/local/lib/python3.10/dist-packages (from ple==0.0.1) (11.0.0)\n",
            "Installing collected packages: ple\n",
            "  Running setup.py develop for ple\n",
            "Successfully installed ple-0.0.1\n",
            "Collecting pyvirtualdisplay\n",
            "  Downloading PyVirtualDisplay-3.0-py3-none-any.whl.metadata (943 bytes)\n",
            "Downloading PyVirtualDisplay-3.0-py3-none-any.whl (15 kB)\n",
            "Installing collected packages: pyvirtualdisplay\n",
            "Successfully installed pyvirtualdisplay-3.0\n",
            "Reading package lists... Done\n",
            "Building dependency tree... Done\n",
            "Reading state information... Done\n",
            "ffmpeg is already the newest version (7:4.4.2-0ubuntu0.22.04.1).\n",
            "The following additional packages will be installed:\n",
            "  freeglut3 libegl-dev libfontenc1 libgl-dev libgl1-mesa-dev libgles-dev\n",
            "  libgles1 libglu1-mesa libglu1-mesa-dev libglvnd-core-dev libglvnd-dev\n",
            "  libglx-dev libice-dev libopengl-dev libsm-dev libxfont2 libxkbfile1\n",
            "  libxt-dev x11-xkb-utils xfonts-base xfonts-encodings xfonts-utils\n",
            "  xserver-common\n",
            "Suggested packages:\n",
            "  libice-doc libsm-doc libxt-doc\n",
            "The following NEW packages will be installed:\n",
            "  freeglut3 freeglut3-dev libegl-dev libfontenc1 libgl-dev libgl1-mesa-dev\n",
            "  libgles-dev libgles1 libglu1-mesa libglu1-mesa-dev libglvnd-core-dev\n",
            "  libglvnd-dev libglx-dev libice-dev libopengl-dev libsm-dev libxfont2\n",
            "  libxkbfile1 libxt-dev x11-xkb-utils xfonts-base xfonts-encodings\n",
            "  xfonts-utils xserver-common xvfb\n",
            "0 upgraded, 25 newly installed, 0 to remove and 49 not upgraded.\n",
            "Need to get 9,076 kB of archives.\n",
            "After this operation, 18.7 MB of additional disk space will be used.\n",
            "Get:1 http://archive.ubuntu.com/ubuntu jammy/universe amd64 freeglut3 amd64 2.8.1-6 [74.0 kB]\n",
            "Get:2 http://archive.ubuntu.com/ubuntu jammy/main amd64 libglx-dev amd64 1.4.0-1 [14.1 kB]\n",
            "Get:3 http://archive.ubuntu.com/ubuntu jammy/main amd64 libgl-dev amd64 1.4.0-1 [101 kB]\n",
            "Get:4 http://archive.ubuntu.com/ubuntu jammy/main amd64 libglvnd-core-dev amd64 1.4.0-1 [12.7 kB]\n",
            "Get:5 http://archive.ubuntu.com/ubuntu jammy/main amd64 libegl-dev amd64 1.4.0-1 [18.0 kB]\n",
            "Get:6 http://archive.ubuntu.com/ubuntu jammy/main amd64 libgles1 amd64 1.4.0-1 [11.5 kB]\n",
            "Get:7 http://archive.ubuntu.com/ubuntu jammy/main amd64 libgles-dev amd64 1.4.0-1 [49.4 kB]\n",
            "Get:8 http://archive.ubuntu.com/ubuntu jammy/main amd64 libopengl-dev amd64 1.4.0-1 [3,400 B]\n",
            "Get:9 http://archive.ubuntu.com/ubuntu jammy/main amd64 libglvnd-dev amd64 1.4.0-1 [3,162 B]\n",
            "Get:10 http://archive.ubuntu.com/ubuntu jammy-updates/main amd64 libgl1-mesa-dev amd64 23.2.1-1ubuntu3.1~22.04.3 [6,848 B]\n",
            "Get:11 http://archive.ubuntu.com/ubuntu jammy/main amd64 libglu1-mesa amd64 9.0.2-1 [145 kB]\n",
            "Get:12 http://archive.ubuntu.com/ubuntu jammy/main amd64 libglu1-mesa-dev amd64 9.0.2-1 [231 kB]\n",
            "Get:13 http://archive.ubuntu.com/ubuntu jammy/main amd64 libice-dev amd64 2:1.0.10-1build2 [51.4 kB]\n",
            "Get:14 http://archive.ubuntu.com/ubuntu jammy/main amd64 libsm-dev amd64 2:1.2.3-1build2 [18.1 kB]\n",
            "Get:15 http://archive.ubuntu.com/ubuntu jammy/main amd64 libxt-dev amd64 1:1.2.1-1 [396 kB]\n",
            "Get:16 http://archive.ubuntu.com/ubuntu jammy/universe amd64 freeglut3-dev amd64 2.8.1-6 [126 kB]\n",
            "Get:17 http://archive.ubuntu.com/ubuntu jammy/main amd64 libfontenc1 amd64 1:1.1.4-1build3 [14.7 kB]\n",
            "Get:18 http://archive.ubuntu.com/ubuntu jammy/main amd64 libxfont2 amd64 1:2.0.5-1build1 [94.5 kB]\n",
            "Get:19 http://archive.ubuntu.com/ubuntu jammy/main amd64 libxkbfile1 amd64 1:1.1.0-1build3 [71.8 kB]\n",
            "Get:20 http://archive.ubuntu.com/ubuntu jammy/main amd64 x11-xkb-utils amd64 7.7+5build4 [172 kB]\n",
            "Get:21 http://archive.ubuntu.com/ubuntu jammy/main amd64 xfonts-encodings all 1:1.0.5-0ubuntu2 [578 kB]\n",
            "Get:22 http://archive.ubuntu.com/ubuntu jammy/main amd64 xfonts-utils amd64 1:7.7+6build2 [94.6 kB]\n",
            "Get:23 http://archive.ubuntu.com/ubuntu jammy/main amd64 xfonts-base all 1:1.0.5 [5,896 kB]\n",
            "Get:24 http://archive.ubuntu.com/ubuntu jammy-updates/main amd64 xserver-common all 2:21.1.4-2ubuntu1.7~22.04.12 [28.7 kB]\n",
            "Get:25 http://archive.ubuntu.com/ubuntu jammy-updates/universe amd64 xvfb amd64 2:21.1.4-2ubuntu1.7~22.04.12 [864 kB]\n",
            "Fetched 9,076 kB in 0s (25.2 MB/s)\n",
            "debconf: unable to initialize frontend: Dialog\n",
            "debconf: (No usable dialog-like program is installed, so the dialog based frontend cannot be used. at /usr/share/perl5/Debconf/FrontEnd/Dialog.pm line 78, <> line 25.)\n",
            "debconf: falling back to frontend: Readline\n",
            "debconf: unable to initialize frontend: Readline\n",
            "debconf: (This frontend requires a controlling tty.)\n",
            "debconf: falling back to frontend: Teletype\n",
            "dpkg-preconfigure: unable to re-open stdin: \n",
            "Selecting previously unselected package freeglut3:amd64.\n",
            "(Reading database ... 123634 files and directories currently installed.)\n",
            "Preparing to unpack .../00-freeglut3_2.8.1-6_amd64.deb ...\n",
            "Unpacking freeglut3:amd64 (2.8.1-6) ...\n",
            "Selecting previously unselected package libglx-dev:amd64.\n",
            "Preparing to unpack .../01-libglx-dev_1.4.0-1_amd64.deb ...\n",
            "Unpacking libglx-dev:amd64 (1.4.0-1) ...\n",
            "Selecting previously unselected package libgl-dev:amd64.\n",
            "Preparing to unpack .../02-libgl-dev_1.4.0-1_amd64.deb ...\n",
            "Unpacking libgl-dev:amd64 (1.4.0-1) ...\n",
            "Selecting previously unselected package libglvnd-core-dev:amd64.\n",
            "Preparing to unpack .../03-libglvnd-core-dev_1.4.0-1_amd64.deb ...\n",
            "Unpacking libglvnd-core-dev:amd64 (1.4.0-1) ...\n",
            "Selecting previously unselected package libegl-dev:amd64.\n",
            "Preparing to unpack .../04-libegl-dev_1.4.0-1_amd64.deb ...\n",
            "Unpacking libegl-dev:amd64 (1.4.0-1) ...\n",
            "Selecting previously unselected package libgles1:amd64.\n",
            "Preparing to unpack .../05-libgles1_1.4.0-1_amd64.deb ...\n",
            "Unpacking libgles1:amd64 (1.4.0-1) ...\n",
            "Selecting previously unselected package libgles-dev:amd64.\n",
            "Preparing to unpack .../06-libgles-dev_1.4.0-1_amd64.deb ...\n",
            "Unpacking libgles-dev:amd64 (1.4.0-1) ...\n",
            "Selecting previously unselected package libopengl-dev:amd64.\n",
            "Preparing to unpack .../07-libopengl-dev_1.4.0-1_amd64.deb ...\n",
            "Unpacking libopengl-dev:amd64 (1.4.0-1) ...\n",
            "Selecting previously unselected package libglvnd-dev:amd64.\n",
            "Preparing to unpack .../08-libglvnd-dev_1.4.0-1_amd64.deb ...\n",
            "Unpacking libglvnd-dev:amd64 (1.4.0-1) ...\n",
            "Selecting previously unselected package libgl1-mesa-dev:amd64.\n",
            "Preparing to unpack .../09-libgl1-mesa-dev_23.2.1-1ubuntu3.1~22.04.3_amd64.deb ...\n",
            "Unpacking libgl1-mesa-dev:amd64 (23.2.1-1ubuntu3.1~22.04.3) ...\n",
            "Selecting previously unselected package libglu1-mesa:amd64.\n",
            "Preparing to unpack .../10-libglu1-mesa_9.0.2-1_amd64.deb ...\n",
            "Unpacking libglu1-mesa:amd64 (9.0.2-1) ...\n",
            "Selecting previously unselected package libglu1-mesa-dev:amd64.\n",
            "Preparing to unpack .../11-libglu1-mesa-dev_9.0.2-1_amd64.deb ...\n",
            "Unpacking libglu1-mesa-dev:amd64 (9.0.2-1) ...\n",
            "Selecting previously unselected package libice-dev:amd64.\n",
            "Preparing to unpack .../12-libice-dev_2%3a1.0.10-1build2_amd64.deb ...\n",
            "Unpacking libice-dev:amd64 (2:1.0.10-1build2) ...\n",
            "Selecting previously unselected package libsm-dev:amd64.\n",
            "Preparing to unpack .../13-libsm-dev_2%3a1.2.3-1build2_amd64.deb ...\n",
            "Unpacking libsm-dev:amd64 (2:1.2.3-1build2) ...\n",
            "Selecting previously unselected package libxt-dev:amd64.\n",
            "Preparing to unpack .../14-libxt-dev_1%3a1.2.1-1_amd64.deb ...\n",
            "Unpacking libxt-dev:amd64 (1:1.2.1-1) ...\n",
            "Selecting previously unselected package freeglut3-dev:amd64.\n",
            "Preparing to unpack .../15-freeglut3-dev_2.8.1-6_amd64.deb ...\n",
            "Unpacking freeglut3-dev:amd64 (2.8.1-6) ...\n",
            "Selecting previously unselected package libfontenc1:amd64.\n",
            "Preparing to unpack .../16-libfontenc1_1%3a1.1.4-1build3_amd64.deb ...\n",
            "Unpacking libfontenc1:amd64 (1:1.1.4-1build3) ...\n",
            "Selecting previously unselected package libxfont2:amd64.\n",
            "Preparing to unpack .../17-libxfont2_1%3a2.0.5-1build1_amd64.deb ...\n",
            "Unpacking libxfont2:amd64 (1:2.0.5-1build1) ...\n",
            "Selecting previously unselected package libxkbfile1:amd64.\n",
            "Preparing to unpack .../18-libxkbfile1_1%3a1.1.0-1build3_amd64.deb ...\n",
            "Unpacking libxkbfile1:amd64 (1:1.1.0-1build3) ...\n",
            "Selecting previously unselected package x11-xkb-utils.\n",
            "Preparing to unpack .../19-x11-xkb-utils_7.7+5build4_amd64.deb ...\n",
            "Unpacking x11-xkb-utils (7.7+5build4) ...\n",
            "Selecting previously unselected package xfonts-encodings.\n",
            "Preparing to unpack .../20-xfonts-encodings_1%3a1.0.5-0ubuntu2_all.deb ...\n",
            "Unpacking xfonts-encodings (1:1.0.5-0ubuntu2) ...\n",
            "Selecting previously unselected package xfonts-utils.\n",
            "Preparing to unpack .../21-xfonts-utils_1%3a7.7+6build2_amd64.deb ...\n",
            "Unpacking xfonts-utils (1:7.7+6build2) ...\n",
            "Selecting previously unselected package xfonts-base.\n",
            "Preparing to unpack .../22-xfonts-base_1%3a1.0.5_all.deb ...\n",
            "Unpacking xfonts-base (1:1.0.5) ...\n",
            "Selecting previously unselected package xserver-common.\n",
            "Preparing to unpack .../23-xserver-common_2%3a21.1.4-2ubuntu1.7~22.04.12_all.deb ...\n",
            "Unpacking xserver-common (2:21.1.4-2ubuntu1.7~22.04.12) ...\n",
            "Selecting previously unselected package xvfb.\n",
            "Preparing to unpack .../24-xvfb_2%3a21.1.4-2ubuntu1.7~22.04.12_amd64.deb ...\n",
            "Unpacking xvfb (2:21.1.4-2ubuntu1.7~22.04.12) ...\n",
            "Setting up freeglut3:amd64 (2.8.1-6) ...\n",
            "Setting up libglvnd-core-dev:amd64 (1.4.0-1) ...\n",
            "Setting up libice-dev:amd64 (2:1.0.10-1build2) ...\n",
            "Setting up libsm-dev:amd64 (2:1.2.3-1build2) ...\n",
            "Setting up libfontenc1:amd64 (1:1.1.4-1build3) ...\n",
            "Setting up libxt-dev:amd64 (1:1.2.1-1) ...\n",
            "Setting up libgles1:amd64 (1.4.0-1) ...\n",
            "Setting up xfonts-encodings (1:1.0.5-0ubuntu2) ...\n",
            "Setting up libglx-dev:amd64 (1.4.0-1) ...\n",
            "Setting up libglu1-mesa:amd64 (9.0.2-1) ...\n",
            "Setting up libxkbfile1:amd64 (1:1.1.0-1build3) ...\n",
            "Setting up libopengl-dev:amd64 (1.4.0-1) ...\n",
            "Setting up libxfont2:amd64 (1:2.0.5-1build1) ...\n",
            "Setting up libgl-dev:amd64 (1.4.0-1) ...\n",
            "Setting up libegl-dev:amd64 (1.4.0-1) ...\n",
            "Setting up x11-xkb-utils (7.7+5build4) ...\n",
            "Setting up xfonts-utils (1:7.7+6build2) ...\n",
            "Setting up xfonts-base (1:1.0.5) ...\n",
            "Setting up libglu1-mesa-dev:amd64 (9.0.2-1) ...\n",
            "Setting up xserver-common (2:21.1.4-2ubuntu1.7~22.04.12) ...\n",
            "Setting up libgles-dev:amd64 (1.4.0-1) ...\n",
            "Setting up xvfb (2:21.1.4-2ubuntu1.7~22.04.12) ...\n",
            "Setting up libglvnd-dev:amd64 (1.4.0-1) ...\n",
            "Setting up libgl1-mesa-dev:amd64 (23.2.1-1ubuntu3.1~22.04.3) ...\n",
            "Setting up freeglut3-dev:amd64 (2.8.1-6) ...\n",
            "Processing triggers for libc-bin (2.35-0ubuntu3.4) ...\n",
            "/sbin/ldconfig.real: /usr/local/lib/libtcm_debug.so.1 is not a symbolic link\n",
            "\n",
            "/sbin/ldconfig.real: /usr/local/lib/libur_loader.so.0 is not a symbolic link\n",
            "\n",
            "/sbin/ldconfig.real: /usr/local/lib/libhwloc.so.15 is not a symbolic link\n",
            "\n",
            "/sbin/ldconfig.real: /usr/local/lib/libumf.so.0 is not a symbolic link\n",
            "\n",
            "/sbin/ldconfig.real: /usr/local/lib/libtbbmalloc_proxy.so.2 is not a symbolic link\n",
            "\n",
            "/sbin/ldconfig.real: /usr/local/lib/libtbbbind_2_0.so.3 is not a symbolic link\n",
            "\n",
            "/sbin/ldconfig.real: /usr/local/lib/libtbbbind.so.3 is not a symbolic link\n",
            "\n",
            "/sbin/ldconfig.real: /usr/local/lib/libtbbmalloc.so.2 is not a symbolic link\n",
            "\n",
            "/sbin/ldconfig.real: /usr/local/lib/libtbb.so.12 is not a symbolic link\n",
            "\n",
            "/sbin/ldconfig.real: /usr/local/lib/libtbbbind_2_5.so.3 is not a symbolic link\n",
            "\n",
            "/sbin/ldconfig.real: /usr/local/lib/libtcm.so.1 is not a symbolic link\n",
            "\n",
            "/sbin/ldconfig.real: /usr/local/lib/libur_adapter_level_zero.so.0 is not a symbolic link\n",
            "\n",
            "/sbin/ldconfig.real: /usr/local/lib/libur_adapter_opencl.so.0 is not a symbolic link\n",
            "\n",
            "Processing triggers for man-db (2.10.2-1) ...\n",
            "Processing triggers for fontconfig (2.13.1-4.2ubuntu5) ...\n"
          ]
        }
      ]
    },
    {
      "cell_type": "code",
      "source": [
        "import sys\n",
        "sys.path.append('/content/PyGame-Learning-Environment')\n",
        "from ple.games.flappybird import FlappyBird\n",
        "from ple import PLE\n",
        "from gym import spaces\n",
        "import IPython\n",
        "import numpy as np\n",
        "import gym\n",
        "import os\n",
        "import pyvirtualdisplay\n",
        "import base64\n",
        "import warnings\n",
        "import imageio\n",
        "from abc import ABC, abstractmethod\n",
        "warnings.filterwarnings(\"ignore\")\n",
        "import matplotlib.pyplot as plt\n"
      ],
      "metadata": {
        "id": "gyVRgQEU4_M_"
      },
      "execution_count": 34,
      "outputs": []
    },
    {
      "cell_type": "markdown",
      "source": [
        "## Utility function to display episode"
      ],
      "metadata": {
        "id": "9PsfB8bB6EVL"
      }
    },
    {
      "cell_type": "code",
      "source": [
        "def embed_mp4(filename):\n",
        "  \"\"\"Embeds an mp4 file in the notebook.\"\"\"\n",
        "  video = open(filename,'rb').read()\n",
        "  b64 = base64.b64encode(video)\n",
        "  tag = '''\n",
        "  <video width=\"640\" height=\"480\" controls>\n",
        "    <source src=\"data:video/mp4;base64,{0}\" type=\"video/mp4\">\n",
        "  Your browser does not support the video tag.\n",
        "  </video>'''.format(b64.decode())\n",
        "\n",
        "  return IPython.display.HTML(tag)\n",
        "display = pyvirtualdisplay.Display(visible=0, size=(1400, 900)).start()"
      ],
      "metadata": {
        "id": "h-jaUHEU6Dau"
      },
      "execution_count": 4,
      "outputs": []
    },
    {
      "cell_type": "markdown",
      "source": [
        "## Environment"
      ],
      "metadata": {
        "id": "9mx2jFonhEun"
      }
    },
    {
      "cell_type": "markdown",
      "source": [
        "### Environment Summary\n",
        "\n",
        "This environment simulates the *Flappy Bird* game, where the agent controls the bird’s vertical position to navigate through gaps in pipes. Built on OpenAI’s `gym.Env` class, the environment allows interaction through standard functions like `step`, `reset`, and `render`.\n",
        "\n",
        "**Key Components**\n",
        "\n",
        "- **Observation Space**: The observation space includes 8 integer values, each representing a different aspect of the game state. These include:\n",
        "  - `\"player_y\"`: The bird's vertical position.\n",
        "  - `\"player_vel\"`: The bird's vertical velocity.\n",
        "  - `\"next_pipe_dist_to_player\"`: Horizontal distance to the next pipe.\n",
        "  - Additional features: Positions of the top and bottom of the next two pipes, enabling the agent to anticipate upcoming gaps.\n",
        "\n",
        "- **Action Space**: This is a discrete space with two actions:\n",
        "  - `0`: No flap (bird falls due to gravity).\n",
        "  - `1`: Flap (bird moves upward).\n",
        "- **Using the Environment**\n",
        "\n",
        "  - **Step:**\n",
        "    The `step` function returns four parameters: `obs`, `reward`, `done`, and `info`.\n",
        "\n",
        "    - **`obs`**: The new observation after applying the action.\n",
        "    - **`reward`**: The reward received for the action.\n",
        "    - **`done`**: A boolean indicating whether the episode has ended.\n",
        "    - **`info`**: A dictionary containing additional information. In this environment, the `info` dictionary includes a `\"score\"` entry that indicates how many pipes the bird has passed since the beginning of the episode.\n",
        "  - **Reset**\n",
        "    The `reset` function restores the environment to its initial state and returns the observation of that state.\n",
        "\n",
        "  - **Render**\n",
        "    The `render` function returns an image of the current state as a NumPy array (`np.array`).\n",
        "\n",
        "  See the `Running the environment` section below for an example of how to use it.\n",
        "\n",
        "- **Customizable Parameters**:\n",
        "  - **`pipe_gap`**: This controls the vertical gap between pipes. The default is set to `80`, providing a moderate challenge.\n",
        "  - **`custom_obs`** and **`custome_observation_map`**: Setting `custom_obs=True` instructs the environment to use a custom `observation_map` specified by the user, rather than the default map. When using a custom observation map, the user must also provide a `preprocess` function compatible with the custom observation map to ensure the observations are correctly processed for the agent.\n",
        "\n",
        "  - **`preprocess`** and **`reward_shaping`**: Optional functions that allow the user to customize how observations and rewards are modified. The `preprocess` function transforms the raw observations according to the specified `observation_map`, while `reward_shaping` allows for custom adjustments to the reward structure, helping to align the environment with the agent’s learning goals.\n",
        "\n",
        "  See the `Custom observation and reward shaping example of usage` section below for an example of usage.\n",
        "\n",
        "\n",
        "\n",
        "\n"
      ],
      "metadata": {
        "id": "odWvOUz5r-Y3"
      }
    },
    {
      "cell_type": "code",
      "source": [
        "# to disable the python game window popup\n",
        "os.environ[\"SDL_VIDEODRIVER\"] = \"dummy\"\n",
        "\n",
        "OBSERVATION_MAP = {0: 'player_y',\n",
        "                   1: \"player_vel\",\n",
        "                   2: \"next_pipe_dist_to_player\",\n",
        "                   3: \"next_pipe_top_y\",\n",
        "                   4: \"next_pipe_bottom_y\",\n",
        "                   5: \"next_next_pipe_dist_to_player\",\n",
        "                   6: \"next_next_pipe_top_y\",\n",
        "                   7: \"next_next_pipe_bottom_y\",\n",
        "}\n",
        "\n",
        "class Game(gym.Env):\n",
        "    def __init__(self, display_screen=False,\n",
        "                 force_fps=True,\n",
        "                 custom_obs=False,\n",
        "                 pipe_gap=80,\n",
        "                 custome_observation_map={},\n",
        "                 preprocess=lambda x: x,\n",
        "                 reward_shaping=lambda x, y, z: x):\n",
        "\n",
        "        os.environ[\"SDL_VIDEODRIVER\"] = \"dummy\"\n",
        "        game = FlappyBird(pipe_gap=pipe_gap)  # define and initiate the environment\n",
        "        self.env = PLE(game, fps=30, display_screen=display_screen,\n",
        "                       force_fps=force_fps)\n",
        "        self.env.init()\n",
        "        # list of actions in the environment\n",
        "        self.actions = self.env.getActionSet()\n",
        "        # length of actions\n",
        "        self.action_space = spaces.Discrete(len(self.actions))\n",
        "        self.custom_obs = custom_obs\n",
        "        self._observation_map = custome_observation_map if custom_obs else OBSERVATION_MAP\n",
        "        self.preprocess = preprocess\n",
        "        self.reward_shaping = reward_shaping\n",
        "        self.score = 0\n",
        "\n",
        "    @property\n",
        "    def observation_space(self):\n",
        "        return spaces.Box(low=0, high=512, shape=(len(self._observation_map),), dtype=int)\n",
        "\n",
        "    def _get_rgb(self):\n",
        "        return self.env.getScreenRGB().transpose(1, 0, 2)\n",
        "\n",
        "    @property\n",
        "    def observation_map(self):\n",
        "        return self._observation_map\n",
        "\n",
        "    def step(self, action):\n",
        "        \"\"\"Take the action chosen and update the reward\"\"\"\n",
        "        reward = self.env.act(self.actions[action])\n",
        "        if reward < 0:\n",
        "          reward = -1\n",
        "\n",
        "        if reward > 0:\n",
        "          self.score += 1\n",
        "        state = self.env.getGameState()\n",
        "        terminal = self.env.game_over()\n",
        "        reward = self.reward_shaping(reward, terminal, env)\n",
        "        info = {'score':self.score}\n",
        "        return self.preprocess(np.array(list(state.values())).astype(int)), reward, terminal, info\n",
        "\n",
        "    def getGameState(self):\n",
        "        '''\n",
        "        PLEenv return gamestate as a dictionary. Returns a modified form\n",
        "        of the gamestate only with the required information to define the state\n",
        "        '''\n",
        "        state = self.env.getGameState()\n",
        "        h_dist = state['next_pipe_dist_to_player']\n",
        "        v_dist = state['next_pipe_bottom_y'] - state['player_y']\n",
        "        vel = state['player_vel']\n",
        "\n",
        "        return ' '.join([str(vel), str(h_dist), str(v_dist)])\n",
        "\n",
        "    def reset(self):\n",
        "        \"\"\"Resets the game to start a new game\"\"\"\n",
        "        self.env.reset_game()\n",
        "        state = self.env.getGameState()\n",
        "        self.score = 0\n",
        "        return self.preprocess(np.array(list(state.values())).astype(int))\n",
        "\n",
        "    def render(self, mode='human'):\n",
        "        \"\"\"Render the game\"\"\"\n",
        "        return self._get_rgb()\n",
        "\n",
        "    def seed(self, seed):\n",
        "        rng = np.random.RandomState(seed)\n",
        "        self.env.rng = rng\n",
        "        self.env.game.rng = self.env.rng\n",
        "\n",
        "        self.env.init()"
      ],
      "metadata": {
        "id": "hEXHvbNYyd8L"
      },
      "execution_count": 5,
      "outputs": []
    },
    {
      "cell_type": "code",
      "source": [
        "env = Game(custom_obs=False)"
      ],
      "metadata": {
        "id": "WRIzH8P-_fZz"
      },
      "execution_count": 6,
      "outputs": []
    },
    {
      "cell_type": "markdown",
      "source": [
        "### Observation space"
      ],
      "metadata": {
        "id": "64PvA8g5_PV1"
      }
    },
    {
      "cell_type": "code",
      "source": [
        "print(f\"observation space: {env.observation_space}\")\n",
        "for feaure, des in env.observation_map.items():\n",
        "  print(f\"feaure: {feaure} -> {des}\")"
      ],
      "metadata": {
        "colab": {
          "base_uri": "https://localhost:8080/"
        },
        "id": "bVz0zDuP_mI6",
        "outputId": "756c8e85-7e38-45db-e926-af83675949b1"
      },
      "execution_count": 7,
      "outputs": [
        {
          "output_type": "stream",
          "name": "stdout",
          "text": [
            "observation space: Box(0, 512, (8,), int64)\n",
            "feaure: 0 -> player_y\n",
            "feaure: 1 -> player_vel\n",
            "feaure: 2 -> next_pipe_dist_to_player\n",
            "feaure: 3 -> next_pipe_top_y\n",
            "feaure: 4 -> next_pipe_bottom_y\n",
            "feaure: 5 -> next_next_pipe_dist_to_player\n",
            "feaure: 6 -> next_next_pipe_top_y\n",
            "feaure: 7 -> next_next_pipe_bottom_y\n"
          ]
        }
      ]
    },
    {
      "cell_type": "markdown",
      "source": [
        "In this *Flappy Bird* environment, the `Box` type represents a `Discrete` observation space in OpenAI's Gym, providing the agent with a range of values in each dimension of the environment. Here’s what each part means:\n",
        "\n",
        "* **Box**: This type of space is used to define a `Discrete`  range of values for each observation dimension. Here, it represents an 8-dimensional vector.\n",
        "* **(0, 512)**: Each dimension within this space can take values from 0 to 512, which corresponds to the pixel boundaries of the game.\n",
        "* **(8,)**: This shape indicates that there are 8 distinct variables in the observation vector, each capturing a critical feature of the environment.\n",
        "* **int64**: Each value in the vector is an integer of 64-bit precision.\n",
        "\n",
        "In summary, `Box(0, 512, (8,), int64)` represents an 8-dimensional vector space where each element is an integer from 0 to 512. Each dimension corresponds to a specific aspect of the *Flappy Bird* environment:\n",
        "\n",
        "1. **Player Y Position**: The vertical position of the bird, representing its height on the screen.\n",
        "2. **Player Velocity**: The bird’s current velocity, which impacts its movement and helps determine when to flap.\n",
        "3. **Distance to Next Pipe**: The horizontal distance between the bird and the next pipe, crucial for timing flaps.\n",
        "4. **Next Pipe Top Y Position**: The vertical position of the top of the next pipe, helping the bird gauge the gap.\n",
        "5. **Next Pipe Bottom Y Position**: The vertical position of the bottom of the next pipe, providing further data for navigating the gap.\n",
        "6. **Distance to Next-Next Pipe**: The horizontal distance to the pipe after the next one, giving the bird foresight into upcoming obstacles.\n",
        "7. **Next-Next Pipe Top Y Position**: The vertical position of the top of the pipe after the next one, extending the bird's view of upcoming gaps.\n",
        "8. **Next-Next Pipe Bottom Y Position**: The vertical position of the bottom of the pipe after the next one, for additional planning.\n",
        "\n",
        "Together, these dimensions offer the agent a detailed snapshot of the environment, helping it make decisions based on its position, velocity, and the layout of both current and upcoming obstacles.\n"
      ],
      "metadata": {
        "id": "bQsBJauryXVC"
      }
    },
    {
      "cell_type": "markdown",
      "source": [
        "### Action space"
      ],
      "metadata": {
        "id": "TLuIANMX0JRC"
      }
    },
    {
      "cell_type": "code",
      "source": [
        "env.action_space"
      ],
      "metadata": {
        "colab": {
          "base_uri": "https://localhost:8080/"
        },
        "id": "siDgIRASziZD",
        "outputId": "255e6c88-4f76-433d-e5d8-9b240fb754cb"
      },
      "execution_count": 8,
      "outputs": [
        {
          "output_type": "execute_result",
          "data": {
            "text/plain": [
              "Discrete(2)"
            ]
          },
          "metadata": {},
          "execution_count": 8
        }
      ]
    },
    {
      "cell_type": "markdown",
      "source": [
        "In this *Flappy Bird* environment, the `Discrete(2)` action space defines the possible actions the agent can take, using a finite set of discrete values:\n",
        "\n",
        "* **Discrete**: This type of space is used when there are a limited number of distinct actions.\n",
        "* **2**: The number of actions available, represented by values 0 and 1.\n",
        "\n",
        "For *Flappy Bird*, these actions correspond to:\n",
        "  * **0**: Do nothing (the bird continues to fall due to gravity).\n",
        "  * **1**: Flap (the bird moves upward briefly).\n",
        "\n",
        "In summary, `Discrete(2)` defines an action space with two possible actions: allowing the bird to either continue falling or flap to move upward, which is essential for navigating the gaps between pipes.\n"
      ],
      "metadata": {
        "id": "tdPOZw630TUx"
      }
    },
    {
      "cell_type": "markdown",
      "source": [
        "### Rewards\n",
        "\n",
        "*Reward Structure:*\n",
        "\n",
        "\n",
        "\n",
        "*   **Positive Reward**: For each pipe successfully passed, the agent receives a reward of **+1**.\n",
        "*   **Negative Reward**: Upon reaching any terminal state, the agent receives a penalty of **-1**.\n",
        "*   **Zero Reward**: Any other senario the reward is **0**\n",
        "\n",
        "\n"
      ],
      "metadata": {
        "id": "oA95yg2--eXX"
      }
    },
    {
      "cell_type": "markdown",
      "source": [
        "### Running the environmen"
      ],
      "metadata": {
        "id": "sTbzOYOG33sE"
      }
    },
    {
      "cell_type": "code",
      "source": [
        "env = Game()\n",
        "env.seed(42)\n",
        "obs = env.reset()\n",
        "video_filename = '/content/vid.mp4'\n",
        "max_steps = 100\n",
        "# Evaluation\n",
        "with imageio.get_writer(video_filename, fps=24) as video:\n",
        "  obs = env.reset()\n",
        "  done = False\n",
        "  total_reward = 0\n",
        "  for step in range(max_steps):\n",
        "      action = env.action_space.sample()\n",
        "      obs, reward, done, info = env.step(action)\n",
        "      next_obs = obs  # Get agent's position directly from the environment\n",
        "      total_reward += reward\n",
        "      re = env.render()\n",
        "      video.append_data(re)\n",
        "      if done:\n",
        "        score = info['score']\n",
        "        print(\"Sum of rewards =\", total_reward, \", Number of steps=\", step, \"score: \", score)\n",
        "        break\n",
        "embed_mp4(video_filename)"
      ],
      "metadata": {
        "colab": {
          "base_uri": "https://localhost:8080/",
          "height": 519
        },
        "id": "OKOTC3dh38AP",
        "outputId": "3551134c-2894-4c9c-9ecd-530c0963e656"
      },
      "execution_count": 9,
      "outputs": [
        {
          "output_type": "stream",
          "name": "stdout",
          "text": [
            "Sum of rewards = -1.0 , Number of steps= 64 score:  0\n"
          ]
        },
        {
          "output_type": "execute_result",
          "data": {
            "text/plain": [
              "<IPython.core.display.HTML object>"
            ],
            "text/html": [
              "\n",
              "  <video width=\"640\" height=\"480\" controls>\n",
              "    <source src=\"data:video/mp4;base64,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\" type=\"video/mp4\">\n",
              "  Your browser does not support the video tag.\n",
              "  </video>"
            ]
          },
          "metadata": {},
          "execution_count": 9
        }
      ]
    },
    {
      "cell_type": "markdown",
      "source": [
        "### Custom observation and reward shaping example of usage"
      ],
      "metadata": {
        "id": "FA6SrS10_pGo"
      }
    },
    {
      "cell_type": "code",
      "source": [
        "custom_obs_mapping = {0: \"average\",\n",
        "                      1: 'sum'}\n",
        "\n",
        "# meaningless preprocess method that average and sums all of the original features\n",
        "preprocess = lambda x: np.array([np.mean(x), np.sum(x)])\n",
        "\n",
        "# meaningless reward shaping method that added 1 to each original reward\n",
        "reward_shaping = lambda x, y, z: x+1\n",
        "\n",
        "env = Game(custom_obs=True,\n",
        "           custome_observation_map=custom_obs_mapping,\n",
        "           preprocess=preprocess,\n",
        "           reward_shaping=reward_shaping)\n",
        "env.seed(42)\n",
        "obs = env.reset()\n",
        "\n",
        "print(f\"observation space: {env.observation_space}\")\n",
        "for feaure, des in env.observation_map.items():\n",
        "  print(f\"feaure: {feaure} -> {des}\")\n",
        "\n",
        "print(f\"reset: {obs}\")\n",
        "print(\"#\"*100, end=\"\\n\\n\")\n",
        "video_filename = '/content/vid.mp4'\n",
        "max_steps = 100\n",
        "# Evaluation\n",
        "with imageio.get_writer(video_filename, fps=24) as video:\n",
        "  obs = env.reset()\n",
        "  done = False\n",
        "  total_reward = 0\n",
        "  for step in range(max_steps):\n",
        "      action = env.action_space.sample()\n",
        "      obs, reward, done, info = env.step(action)\n",
        "      next_obs = obs  # Get agent's position directly from the environment\n",
        "      total_reward += reward\n",
        "      re = env.render()\n",
        "      video.append_data(re)\n",
        "      if done:\n",
        "        score = info['score']\n",
        "        print(\"Sum of rewards =\", total_reward, \", Number of steps=\", step, \"score: \", score)\n",
        "        break\n",
        "embed_mp4(video_filename)"
      ],
      "metadata": {
        "colab": {
          "base_uri": "https://localhost:8080/",
          "height": 623
        },
        "id": "3ejzOhgJAAcV",
        "outputId": "63e37c2a-9912-4c08-bff7-78834a2d46b1"
      },
      "execution_count": 10,
      "outputs": [
        {
          "output_type": "stream",
          "name": "stdout",
          "text": [
            "observation space: Box(0, 512, (2,), int64)\n",
            "feaure: 0 -> average\n",
            "feaure: 1 -> sum\n",
            "reset: [ 197.5 1580. ]\n",
            "####################################################################################################\n",
            "\n",
            "Sum of rewards = 47.0 , Number of steps= 47 score:  0\n"
          ]
        },
        {
          "output_type": "execute_result",
          "data": {
            "text/plain": [
              "<IPython.core.display.HTML object>"
            ],
            "text/html": [
              "\n",
              "  <video width=\"640\" height=\"480\" controls>\n",
              "    <source src=\"data:video/mp4;base64,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\" type=\"video/mp4\">\n",
              "  Your browser does not support the video tag.\n",
              "  </video>"
            ]
          },
          "metadata": {},
          "execution_count": 10
        }
      ]
    },
    {
      "cell_type": "markdown",
      "source": [
        "# Your Work begins here"
      ],
      "metadata": {
        "id": "BSzUW-ufhISi"
      }
    },
    {
      "cell_type": "markdown",
      "source": [
        "## Preprocess"
      ],
      "metadata": {
        "id": "NV8nQ-G379Ek"
      }
    },
    {
      "cell_type": "markdown",
      "source": [
        "**Define the `preprocess` Method**\n",
        "\n",
        "- Create a function called `preprocess` that takes an observation as input.\n",
        "- The purpose of this function is to transform the raw observation into a format that optimizes learning for the agent. Use your creativity to design an effective preprocessing strategy for this task.\n",
        "\n",
        "**Suggested Approaches:**\n",
        "- **Normalization or Scaling**: Adjust observation values to a common range, such as $0$ to $1$ or $0$ to $N$, to improve stability in the learning process.\n",
        "- **Feature Extraction**: Emphasize key features in the observation that are crucial for achieving the environment's goals.\n",
        "- **Dimensionality Reduction**: Simplify the observation by removing or combining less significant parts to streamline learning and reduce complexity.\n",
        "\n",
        "**Compression and Q-Table Size**\n",
        "- Reducing the complexity of the observation, through techniques like scaling, normalization, or removing redundant features, effectively compresses the data. This compression simplifies the agent’s perception of the environment, helping it focus on the most relevant information.\n",
        "- In discrete environments, reducing observation dimensionality directly impacts the size of the Q-table. By compressing the observation space, you decrease the number of possible states, which makes the Q-table smaller and easier to manage. This reduction in Q-table size not only conserves memory but can also enhance learning efficiency.\n",
        "  \n",
        "Use these ideas to explain how your preprocessing strategy compresses the observation space and helps the agent handle the environment more effectively.\n",
        "\n",
        "**Rationalize Your Preprocessing Choices**\n",
        "\n",
        "- Include a brief explanation of your preprocessing choices. Explain why you believe this approach will improve the agent's learning efficiency and performance.\n",
        "- Discuss how these adjustments make the observations more interpretable or manageable for the learning algorithm.\n",
        "\n",
        "**Important**\n",
        "- The maximum value on the **Vertical** axis is **512**.\n",
        "- The maximum value on the **Horizontal** axis is **288**.\n"
      ],
      "metadata": {
        "id": "34GXgJztd6QZ"
      }
    },
    {
      "cell_type": "code",
      "source": [
        "MIN_DISTANCE_VALUE = 0\n",
        "MAX_DISTANCE_VALUE = 512\n",
        "\n",
        "MIN_VELOCITY_VALUE = -512\n",
        "MAX_VELOCITY_VALUE = 512\n",
        "\n",
        "custome_observation_map = { 0: 'player_y_norm',\n",
        "                            1: \"player_vel_norm\",\n",
        "                            2: \"next_pipe_dist_to_player_norm\",\n",
        "                            3: \"next_pipe_top_y_norm\",\n",
        "                            4: \"next_pipe_bottom_y_norm\",\n",
        "                            5: \"next_next_pipe_dist_to_player_norm\",\n",
        "                            6: \"next_next_pipe_top_y_norm\",\n",
        "                            7: \"next_next_pipe_bottom_y_norm\",\n",
        "}\n",
        "# assing each action with a description of the feature meaning\n",
        "\n",
        "def normalize(value, min, max):\n",
        "  return (value - min) / (max - min)\n",
        "\n",
        "def normalize_distance(value):\n",
        "  return normalize(value, MIN_DISTANCE_VALUE, MAX_DISTANCE_VALUE)\n",
        "\n",
        "def normalize_velocity(value):\n",
        "  return normalize(value, MIN_VELOCITY_VALUE, MAX_VELOCITY_VALUE)\n",
        "\n",
        "def preprocess(obs):\n",
        "  \"\"\"\n",
        "  insert your preprocessing code here\n",
        "  \"\"\"\n",
        "  obs = obs.astype(float)\n",
        "  obs[0] = normalize_distance(obs[0])\n",
        "  obs[1] = normalize_velocity(obs[1])\n",
        "  obs[2] = normalize_distance(obs[2])\n",
        "  obs[3] = normalize_distance(obs[3])\n",
        "  obs[4] = normalize_distance(obs[4])\n",
        "  obs[5] = normalize_distance(obs[5])\n",
        "  obs[6] = normalize_distance(obs[6])\n",
        "  obs[7] = normalize_distance(obs[7])\n",
        "\n",
        "  return obs"
      ],
      "metadata": {
        "id": "LPHpNwt_8AAx"
      },
      "execution_count": 11,
      "outputs": []
    },
    {
      "cell_type": "markdown",
      "source": [
        "## Reward shaping"
      ],
      "metadata": {
        "id": "562OuNkIeumH"
      }
    },
    {
      "cell_type": "markdown",
      "source": [
        "### Define a Reward Shaping Strategy\n",
        "\n",
        "**Reward shaping** means adjusting the rewards given to the agent to encourage desired actions and help it learn faster. In *Flappy Bird*, the goal is to create rewards that guide the bird to survive longer and avoid hitting pipes.\n",
        "\n",
        "**Steps for Reward Shaping:**\n",
        "\n",
        "1. **Identify Desired Behaviors**:\n",
        "   - Decide which behaviors you want to encourage. For example, flapping at the right time to pass through pipes or avoiding unnecessary flaps could be rewarded.\n",
        "\n",
        "2. **Design Rewards**:\n",
        "   - Use rewards that motivate the bird to take helpful actions without distracting from the main goal (staying alive). Here are some ideas:\n",
        "     - **Survival Reward**: Give a small reward for each step the bird survives.\n",
        "     - **Penalty for Hitting Pipes**: Apply a negative reward (penalty) when the bird crashes into a pipe.\n",
        "    - **Passing Through Pipes**: Provide a positive reward each time the bird successfully passes through a pipe.\n",
        "\n",
        "\n",
        "3. **Explain Your Reward Choices**:\n",
        "   - Add an explanation for your reward design. Why did you decide to reward certain actions or apply penalties?\n",
        "   - Describe how your rewards help the bird focus on staying alive and navigating pipes effectively.\n",
        "   - Provide an example demonstrating the impact of your reward shaping logic, ideally by comparing performance graphs with and without reward shaping.\n",
        "\n",
        "4. **Avoid Over-Shaping**:\n",
        "   - Avoid giving too many rewards for minor actions, as it could lead the bird to focus on short-term rewards instead of the main goal. Aim for a balance where the bird gets enough guidance without relying on intermediate rewards.\n",
        "\n",
        "**Q-Learning and Value Convergence**:\n",
        "   - Remember, shaping rewards impacts **Q-values** (the expected value of actions). When rewards are well-designed, the bird’s Q-values will better reflect valuable actions, helping it make smarter choices over time.\n",
        "\n",
        "Use these tips to develop a reward strategy that encourages the bird to navigate through pipes effectively while improving its learning.\n"
      ],
      "metadata": {
        "id": "zOnXqApDe7tg"
      }
    },
    {
      "cell_type": "code",
      "source": [
        "def reward_shaping(reward, terminal, env):\n",
        "  \"\"\"\n",
        "  insert your preprocessing code here\n",
        "  \"\"\"\n",
        "  return reward"
      ],
      "metadata": {
        "id": "bbGZVsX3f0m5"
      },
      "execution_count": 12,
      "outputs": []
    },
    {
      "cell_type": "markdown",
      "source": [
        "## Implementation of Learning Agents"
      ],
      "metadata": {
        "id": "uRLgerJnhmXA"
      }
    },
    {
      "cell_type": "markdown",
      "source": [
        "Abstract Class for Implementing an On-Policy Agent\n",
        "\n",
        "Below is an abstract class to serve as a foundation for implementing an on-policy agent. Derive your agent from this class and implement the specific logic for your agent. Note that different agents may require additional parameters or functions to support their unique features and learning mechanisms.\n"
      ],
      "metadata": {
        "id": "Yev0iBqsjZVs"
      }
    },
    {
      "cell_type": "code",
      "source": [
        "from abc import ABC, abstractmethod\n",
        "\n",
        "class OnPolicyAgent(ABC):\n",
        "    def __init__(self, action_space, observation_space, gamma, learning_rate):\n",
        "        \"\"\"\n",
        "        Initializes the on-policy RL agent.\n",
        "        You can add more parameters\n",
        "        Parameters:\n",
        "        - action_space: The action space of the environment\n",
        "        - observation_space: The observation space of the environment\n",
        "        - gamma: Discount factor for future rewards\n",
        "        - learning_rate: Learning rate for policy updates\n",
        "        \"\"\"\n",
        "        self.action_space = action_space\n",
        "        self.observation_space = observation_space\n",
        "        self.gamma = gamma\n",
        "        self.learning_rate = learning_rate\n",
        "        self.policy = None  # Placeholder for policy (to be implemented in subclasses)\n",
        "\n",
        "    @abstractmethod\n",
        "    def select_action(self, observation, deterministic=False):\n",
        "        \"\"\"\n",
        "        Select an action based on the current policy.\n",
        "\n",
        "        Parameters:\n",
        "        - observation: Current state observation from the environment\n",
        "        -deterministic: Flag indicating whether to use a deterministic policy (default is False)\n",
        "        Returns:\n",
        "        - action: Chosen action based on the policy\n",
        "        \"\"\"\n",
        "        pass\n",
        "\n",
        "    @abstractmethod\n",
        "    def update_policy(self, transition):\n",
        "        \"\"\"\n",
        "        Update the policy based on the current transition.\n",
        "\n",
        "        Parameters:\n",
        "        - transition: Data collected from interactions with the environment (tuple of zero or more values such as acion, reward etc...)\n",
        "        \"\"\"\n",
        "        pass\n",
        "\n",
        "    @abstractmethod\n",
        "    def train(self, env, num_episodes, log_every):\n",
        "        \"\"\"\n",
        "        Train the agent over a specified number of episodes.\n",
        "\n",
        "        Parameters:\n",
        "        - env: The environment to train in\n",
        "        - num_episodes: Number of training episodes\n",
        "        \"\"\"\n",
        "        pass\n",
        "\n",
        "    @abstractmethod\n",
        "    def save_policy(self, file_path):\n",
        "        \"\"\"\n",
        "        Save the current policy to a file.\n",
        "\n",
        "        Parameters:\n",
        "        - file_path: Path to the file where the policy should be saved\n",
        "        \"\"\"\n",
        "        pass\n",
        "\n",
        "    @abstractmethod\n",
        "    def load_policy(self, file_path):\n",
        "        \"\"\"\n",
        "        Load a policy from a file.\n",
        "\n",
        "        Parameters:\n",
        "        - file_path: Path to the file from which the policy should be loaded\n",
        "        \"\"\"\n",
        "        pass\n",
        "\n",
        "    @abstractmethod\n",
        "    def run_policy(self, env):\n",
        "        \"\"\"\n",
        "        Run the loaded policy in the environment for one episode.\n",
        "\n",
        "        Parameters:\n",
        "        - env: The environment in which to run the policy\n",
        "\n",
        "        Returns:\n",
        "        - total_reward: Total reward accumulated in the episode\n",
        "        \"\"\"\n",
        "        pass\n"
      ],
      "metadata": {
        "id": "bq3JtejTh57r"
      },
      "execution_count": 13,
      "outputs": []
    },
    {
      "cell_type": "code",
      "source": [
        "class QLearningAgent(OnPolicyAgent):\n",
        "    def __init__(self, action_space, observation_space, video_filename, gamma=0.99, learning_rate=0.1, initial_q_values=0, epsilon=1, epsilon_decay=0.99, epsilon_min = 0.01, number_of_bins=10):\n",
        "      super().__init__(action_space, observation_space, gamma, learning_rate)\n",
        "\n",
        "      self.number_of_bins = number_of_bins\n",
        "      self.epsilon = epsilon\n",
        "      self.epsilon_decay = epsilon_decay\n",
        "      self.epsilon_min = epsilon_min\n",
        "      self.video_filename = video_filename\n",
        "\n",
        "      self.construct_q_table(observation_space, action_space, initial_q_values)\n",
        "\n",
        "    def construct_q_table(self, observation_space, action_space, initial_q_values):\n",
        "      low = observation_space.low\n",
        "      high = observation_space.high\n",
        "\n",
        "      # Discretize the space\n",
        "      bins = [np.linspace(low, high, self.number_of_bins + 1) for low, high in zip(low, high)]\n",
        "\n",
        "      q_table_shape = tuple(len(b) - 1 for b in bins) + (action_space.n,)\n",
        "      self.policy = np.full(q_table_shape, initial_q_values)\n",
        "\n",
        "    def find_bin(self, value):\n",
        "      bin = int(value / (1 / self.number_of_bins))\n",
        "\n",
        "      if bin == self.number_of_bins:\n",
        "        return bin - 1\n",
        "\n",
        "      return bin\n",
        "\n",
        "    def get_value(self, states, action=None):\n",
        "      current_value = self.policy\n",
        "\n",
        "      for state in states:\n",
        "        current_value = current_value[self.find_bin(state)]\n",
        "\n",
        "      if action is not None:\n",
        "        current_value = current_value[action]\n",
        "\n",
        "      return current_value\n",
        "\n",
        "    def set_value(self, states, action, value):\n",
        "      current_value = self.policy\n",
        "\n",
        "      for state in states:\n",
        "        current_value = current_value[self.find_bin(state)]\n",
        "\n",
        "      current_value[action] = value\n",
        "\n",
        "    def get_best_action(self, state):\n",
        "      return np.argmax(self.get_value(state))\n",
        "\n",
        "    def select_action(self, observation, deterministic=False):\n",
        "      \"\"\"Select an action using epsilon-greedy policy or the best action if deterministic.\"\"\"\n",
        "      if deterministic or np.random.rand() > self.epsilon:\n",
        "          return self.get_best_action(observation)\n",
        "      else:\n",
        "          # Exploration: choose a random action\n",
        "          return self.action_space.sample()\n",
        "\n",
        "    def update_policy(self, transition):\n",
        "        \"\"\"\n",
        "        Update Q-value based on the given transition.\n",
        "        transition: (state, action, reward, next_state, done)\n",
        "        \"\"\"\n",
        "        state, action, reward, next_state, done = transition\n",
        "\n",
        "        # Extract the current Q-value\n",
        "        current_q_value = self.get_value(state, action)\n",
        "\n",
        "        # Extract the best possible action for the next state\n",
        "        next_state_best_action = self.get_best_action(next_state)\n",
        "        next_state_best_q_value = self.get_value(next_state, next_state_best_action)\n",
        "\n",
        "        # Calcualte future reward\n",
        "        if done:\n",
        "          future_reward = 0\n",
        "        else:\n",
        "          future_reward = self.gamma * next_state_best_q_value\n",
        "\n",
        "        # Calculate the Temporal Difference (TD)\n",
        "        td_target = reward + future_reward\n",
        "\n",
        "        # Calculate the TD error\n",
        "        td_error = (reward + self.gamma * next_state_best_q_value) - current_q_value\n",
        "\n",
        "        # Update the Q-value\n",
        "        new_q_value = current_q_value + (self.learning_rate * td_error)\n",
        "        self.set_value(state, action, new_q_value)\n",
        "\n",
        "    def train(self, env, num_episodes, log_every=100):\n",
        "        \"\"\"\n",
        "        Train the agent for the given number of episodes.\n",
        "        \"\"\"\n",
        "        rewards = []\n",
        "        scores = []\n",
        "\n",
        "        avg_rewards = []\n",
        "        avg_scores = []\n",
        "\n",
        "        for episode in range(1, num_episodes + 1):\n",
        "            state = env.reset()\n",
        "            done = False\n",
        "            total_reward = 0\n",
        "            total_score = 0\n",
        "            length = 0\n",
        "            should_create_video = False\n",
        "\n",
        "            if episode % log_every == 0:\n",
        "              should_create_video = True\n",
        "              video = imageio.get_writer(self.video_filename, fps=24)\n",
        "\n",
        "            while not done:\n",
        "                action = self.select_action(state)\n",
        "                next_state, reward, done, info = env.step(action)\n",
        "\n",
        "                # Update Q-table\n",
        "                self.update_policy((state, action, reward, next_state, done))\n",
        "\n",
        "                # Move to the next state\n",
        "                state = next_state\n",
        "                total_reward += reward\n",
        "                total_score += info['score']\n",
        "                # length += 1\n",
        "\n",
        "                if should_create_video:\n",
        "                  video.append_data(env.render())\n",
        "\n",
        "            # Decay epsilon\n",
        "            if self.epsilon > self.epsilon_min:\n",
        "                self.epsilon *= self.epsilon_decay\n",
        "\n",
        "            rewards.append(total_reward)\n",
        "            scores.append(total_score)\n",
        "\n",
        "            if episode % log_every == 0:\n",
        "                video.close()\n",
        "                avg_reward = np.mean(rewards)\n",
        "                avg_score = np.mean(scores)\n",
        "                print(f\"Episode {episode}/{num_episodes}, Average Reward: {avg_reward:.2f}, Epsilon: {self.epsilon:.2f}, Average Score: {avg_score:.2f}\")\n",
        "\n",
        "                rewards.clear()\n",
        "                scores.clear()\n",
        "\n",
        "                avg_rewards.append(avg_reward)\n",
        "                avg_scores.append(avg_score)\n",
        "\n",
        "        return avg_rewards, avg_scores\n",
        "\n",
        "    def save_policy(self, file_path):\n",
        "        \"\"\"Save Q-table to file (NumPy format).\"\"\"\n",
        "        np.save(file_path, self.policy)\n",
        "\n",
        "    def load_policy(self, file_path):\n",
        "        \"\"\"Load Q-table from file (NumPy format).\"\"\"\n",
        "        self.policy = np.load(file_path)\n",
        "\n",
        "    def run_policy(self, env):\n",
        "        \"\"\"\n",
        "        Run the current policy (without exploration) for one episode and return the total reward.\n",
        "        \"\"\"\n",
        "        state = env.reset()\n",
        "        done = False\n",
        "        total_reward = 0\n",
        "        while not done:\n",
        "            # Choose best action (deterministic)\n",
        "            action = self.select_action(state, deterministic=True)\n",
        "            next_state, reward, done, info = env.step(action)\n",
        "            total_reward += reward\n",
        "            state = next_state\n",
        "\n",
        "        return total_reward"
      ],
      "metadata": {
        "id": "7hqLSIHC2aII"
      },
      "execution_count": 75,
      "outputs": []
    },
    {
      "cell_type": "markdown",
      "source": [
        "## Training"
      ],
      "metadata": {
        "id": "L4nG1NT6kLzQ"
      }
    },
    {
      "cell_type": "markdown",
      "source": [
        "#### Experimentation Instructions\n",
        "\n",
        "In this section, you will conduct a series of experiments to solve the environment using your on-policy agent. Follow these guidelines for a clear and comprehensive presentation of your work:\n",
        "\n",
        "1. **Design and Run Experiments**:\n",
        "   - Perform at least **5 distinct experiments** with your agent, including:\n",
        "     - **2 unsuccessful experiments** where the agent fails to learn the environment (reaching a score below the target).\n",
        "     - **1 successful experiment** where the agent achieves a score of **10** or higher. (Remember the score is define by the amount of pipes the agent has passed)\n",
        "\n",
        "   - *Note*: In practice, you are expected to try many configurations to observe various outcomes, even beyond these 3 experiments.\n",
        "\n",
        "2. **Provide Detailed Summaries**:\n",
        "   - For each experiment, include:\n",
        "     - **Graphs** that illustrate the training process, such as reward progression, steps, score, and  any other relevant metrics (there is many more metrics that we can learn from).\n",
        "     - **Explanations of Hyperparameters**: Clearly describe the configuration of hyperparameters chosen for each experiment, and the reasoning behind these choices.\n",
        "     - **Preprocessing and Reward Shaping**: Explain any data preprocessing or reward shaping techniques applied, along with the motivation for these techniques.\n",
        "\n",
        "3. **Analyze and Reflect**:\n",
        "   - **Result Analysis**: Analyze each experiment's outcome, focusing on why the agent may have succeeded or failed based on your configurations.\n",
        "   - **Insights and Deductions**: Draw insights from each experiment, noting what worked and what didn’t. Use these insights to refine your understanding of the environment and agent performance.\n",
        "\n",
        "4. **Final Report**:\n",
        "   - **Synthesize Findings**: Compile all observations, insights, and analysis from your experiments into a final report. This report should showcase your learnings and demonstrate a deep understanding of the experimentation process.\n",
        "   - **Emphasis on Analysis**: The analysis of your results and the conclusions drawn are the most critical aspects of this exercise. Dedicate ample attention to this section, as it will reflect your ability to interpret and understand the agent’s learning process.\n",
        "\n",
        "**Remember**: The goal of this exercise is to experiment, learn, and iterate. Document your process thoroughly, as this will form the foundation of your report.\n"
      ],
      "metadata": {
        "id": "c7SCgp8wkkQ5"
      }
    },
    {
      "cell_type": "code",
      "source": [
        "# Hyper Parameters\n",
        "GAMMA             = 0.99\n",
        "LEARNING_RATE     = 0.01\n",
        "INITIAL_Q_VALUES  = 0.001\n",
        "EPSILON           = 1\n",
        "EPSILON_DECAY     = 0.9999\n",
        "MIN_EPSILON       = 0.01\n",
        "NUMBER_OF_BINS    = 10\n",
        "\n",
        "LOG_EVERY = 100\n",
        "NUMBER_OF_EPISODES = 10000\n",
        "\n",
        "reward_shaping = lambda x, y, z: x+1"
      ],
      "metadata": {
        "id": "Y9XzqtaiJFGW"
      },
      "execution_count": 73,
      "outputs": []
    },
    {
      "cell_type": "code",
      "source": [
        "env = Game(custom_obs=True, preprocess=preprocess, reward_shaping=reward_shaping, custome_observation_map=custome_observation_map)\n",
        "\"\"\"\n",
        "Insert you experiment code here\n",
        "\"\"\"\n",
        "video_filename = '/content/vid.mp4'\n",
        "policy_agent = QLearningAgent(env.action_space, env.observation_space, video_filename, GAMMA, LEARNING_RATE, INITIAL_Q_VALUES, EPSILON, EPSILON_DECAY, MIN_EPSILON)\n",
        "rewards, scores = policy_agent.train(env, NUMBER_OF_EPISODES, LOG_EVERY)"
      ],
      "metadata": {
        "id": "PHfYUscjkThj",
        "outputId": "e59205df-4b7a-42fe-aca6-73a1540fa442",
        "colab": {
          "base_uri": "https://localhost:8080/"
        }
      },
      "execution_count": 76,
      "outputs": [
        {
          "output_type": "stream",
          "name": "stdout",
          "text": [
            "Episode 100/10000, Average Reward: 52.27, Epsilon: 0.99, Average Score: 0.17\n",
            "Episode 200/10000, Average Reward: 52.56, Epsilon: 0.98, Average Score: 0.14\n",
            "Episode 300/10000, Average Reward: 53.34, Epsilon: 0.97, Average Score: 0.02\n",
            "Episode 400/10000, Average Reward: 51.76, Epsilon: 0.96, Average Score: 0.02\n",
            "Episode 500/10000, Average Reward: 53.72, Epsilon: 0.95, Average Score: 0.16\n",
            "Episode 600/10000, Average Reward: 53.74, Epsilon: 0.94, Average Score: 0.05\n",
            "Episode 700/10000, Average Reward: 52.55, Epsilon: 0.93, Average Score: 0.04\n",
            "Episode 800/10000, Average Reward: 50.72, Epsilon: 0.92, Average Score: 0.00\n",
            "Episode 900/10000, Average Reward: 53.04, Epsilon: 0.91, Average Score: 0.03\n",
            "Episode 1000/10000, Average Reward: 52.09, Epsilon: 0.90, Average Score: 0.02\n",
            "Episode 1100/10000, Average Reward: 52.35, Epsilon: 0.90, Average Score: 0.00\n",
            "Episode 1200/10000, Average Reward: 53.78, Epsilon: 0.89, Average Score: 0.00\n",
            "Episode 1300/10000, Average Reward: 53.19, Epsilon: 0.88, Average Score: 0.00\n",
            "Episode 1400/10000, Average Reward: 50.98, Epsilon: 0.87, Average Score: 0.12\n",
            "Episode 1500/10000, Average Reward: 53.99, Epsilon: 0.86, Average Score: 0.18\n",
            "Episode 1600/10000, Average Reward: 50.88, Epsilon: 0.85, Average Score: 0.09\n",
            "Episode 1700/10000, Average Reward: 52.95, Epsilon: 0.84, Average Score: 0.05\n",
            "Episode 1800/10000, Average Reward: 50.06, Epsilon: 0.84, Average Score: 0.00\n",
            "Episode 1900/10000, Average Reward: 51.10, Epsilon: 0.83, Average Score: 0.03\n",
            "Episode 2000/10000, Average Reward: 51.55, Epsilon: 0.82, Average Score: 0.02\n",
            "Episode 2100/10000, Average Reward: 51.10, Epsilon: 0.81, Average Score: 0.00\n",
            "Episode 2200/10000, Average Reward: 51.67, Epsilon: 0.80, Average Score: 0.09\n",
            "Episode 2300/10000, Average Reward: 51.58, Epsilon: 0.79, Average Score: 0.00\n",
            "Episode 2400/10000, Average Reward: 51.26, Epsilon: 0.79, Average Score: 0.06\n",
            "Episode 2500/10000, Average Reward: 50.88, Epsilon: 0.78, Average Score: 0.07\n",
            "Episode 2600/10000, Average Reward: 49.46, Epsilon: 0.77, Average Score: 0.05\n",
            "Episode 2700/10000, Average Reward: 52.10, Epsilon: 0.76, Average Score: 0.00\n",
            "Episode 2800/10000, Average Reward: 51.72, Epsilon: 0.76, Average Score: 0.03\n",
            "Episode 2900/10000, Average Reward: 51.61, Epsilon: 0.75, Average Score: 0.00\n",
            "Episode 3000/10000, Average Reward: 50.29, Epsilon: 0.74, Average Score: 0.03\n",
            "Episode 3100/10000, Average Reward: 51.27, Epsilon: 0.73, Average Score: 0.06\n",
            "Episode 3200/10000, Average Reward: 51.55, Epsilon: 0.73, Average Score: 0.24\n",
            "Episode 3300/10000, Average Reward: 50.45, Epsilon: 0.72, Average Score: 0.07\n",
            "Episode 3400/10000, Average Reward: 51.60, Epsilon: 0.71, Average Score: 0.00\n",
            "Episode 3500/10000, Average Reward: 50.85, Epsilon: 0.70, Average Score: 0.11\n",
            "Episode 3600/10000, Average Reward: 50.61, Epsilon: 0.70, Average Score: 0.00\n",
            "Episode 3700/10000, Average Reward: 51.06, Epsilon: 0.69, Average Score: 0.00\n",
            "Episode 3800/10000, Average Reward: 50.21, Epsilon: 0.68, Average Score: 0.00\n",
            "Episode 3900/10000, Average Reward: 51.22, Epsilon: 0.68, Average Score: 0.07\n",
            "Episode 4000/10000, Average Reward: 52.05, Epsilon: 0.67, Average Score: 0.31\n",
            "Episode 4100/10000, Average Reward: 51.46, Epsilon: 0.66, Average Score: 0.00\n",
            "Episode 4200/10000, Average Reward: 51.07, Epsilon: 0.66, Average Score: 0.04\n",
            "Episode 4300/10000, Average Reward: 50.80, Epsilon: 0.65, Average Score: 0.00\n",
            "Episode 4400/10000, Average Reward: 51.51, Epsilon: 0.64, Average Score: 0.02\n",
            "Episode 4500/10000, Average Reward: 49.72, Epsilon: 0.64, Average Score: 0.07\n",
            "Episode 4600/10000, Average Reward: 51.00, Epsilon: 0.63, Average Score: 0.00\n",
            "Episode 4700/10000, Average Reward: 51.64, Epsilon: 0.62, Average Score: 0.07\n",
            "Episode 4800/10000, Average Reward: 51.20, Epsilon: 0.62, Average Score: 0.00\n",
            "Episode 4900/10000, Average Reward: 50.44, Epsilon: 0.61, Average Score: 0.00\n",
            "Episode 5000/10000, Average Reward: 51.06, Epsilon: 0.61, Average Score: 0.00\n",
            "Episode 5100/10000, Average Reward: 50.84, Epsilon: 0.60, Average Score: 0.04\n",
            "Episode 5200/10000, Average Reward: 50.97, Epsilon: 0.59, Average Score: 0.08\n",
            "Episode 5300/10000, Average Reward: 51.50, Epsilon: 0.59, Average Score: 0.00\n",
            "Episode 5400/10000, Average Reward: 52.06, Epsilon: 0.58, Average Score: 0.00\n",
            "Episode 5500/10000, Average Reward: 50.20, Epsilon: 0.58, Average Score: 0.07\n",
            "Episode 5600/10000, Average Reward: 50.99, Epsilon: 0.57, Average Score: 0.00\n",
            "Episode 5700/10000, Average Reward: 52.16, Epsilon: 0.57, Average Score: 0.51\n",
            "Episode 5800/10000, Average Reward: 51.79, Epsilon: 0.56, Average Score: 0.10\n",
            "Episode 5900/10000, Average Reward: 52.04, Epsilon: 0.55, Average Score: 0.27\n",
            "Episode 6000/10000, Average Reward: 51.21, Epsilon: 0.55, Average Score: 0.00\n",
            "Episode 6100/10000, Average Reward: 48.94, Epsilon: 0.54, Average Score: 0.00\n",
            "Episode 6200/10000, Average Reward: 52.19, Epsilon: 0.54, Average Score: 0.24\n",
            "Episode 6300/10000, Average Reward: 51.68, Epsilon: 0.53, Average Score: 0.00\n",
            "Episode 6400/10000, Average Reward: 51.88, Epsilon: 0.53, Average Score: 0.00\n",
            "Episode 6500/10000, Average Reward: 51.83, Epsilon: 0.52, Average Score: 0.25\n",
            "Episode 6600/10000, Average Reward: 52.00, Epsilon: 0.52, Average Score: 0.03\n",
            "Episode 6700/10000, Average Reward: 51.51, Epsilon: 0.51, Average Score: 0.02\n",
            "Episode 6800/10000, Average Reward: 51.15, Epsilon: 0.51, Average Score: 0.05\n",
            "Episode 6900/10000, Average Reward: 51.83, Epsilon: 0.50, Average Score: 0.12\n",
            "Episode 7000/10000, Average Reward: 51.90, Epsilon: 0.50, Average Score: 0.23\n",
            "Episode 7100/10000, Average Reward: 51.26, Epsilon: 0.49, Average Score: 0.00\n",
            "Episode 7200/10000, Average Reward: 52.22, Epsilon: 0.49, Average Score: 0.00\n",
            "Episode 7300/10000, Average Reward: 51.92, Epsilon: 0.48, Average Score: 0.02\n",
            "Episode 7400/10000, Average Reward: 52.37, Epsilon: 0.48, Average Score: 0.00\n",
            "Episode 7500/10000, Average Reward: 53.17, Epsilon: 0.47, Average Score: 0.00\n",
            "Episode 7600/10000, Average Reward: 50.33, Epsilon: 0.47, Average Score: 0.10\n",
            "Episode 7700/10000, Average Reward: 51.85, Epsilon: 0.46, Average Score: 0.09\n",
            "Episode 7800/10000, Average Reward: 51.67, Epsilon: 0.46, Average Score: 0.12\n",
            "Episode 7900/10000, Average Reward: 51.97, Epsilon: 0.45, Average Score: 0.00\n",
            "Episode 8000/10000, Average Reward: 52.39, Epsilon: 0.45, Average Score: 0.10\n",
            "Episode 8100/10000, Average Reward: 50.24, Epsilon: 0.44, Average Score: 0.03\n",
            "Episode 8200/10000, Average Reward: 51.50, Epsilon: 0.44, Average Score: 0.00\n",
            "Episode 8300/10000, Average Reward: 50.87, Epsilon: 0.44, Average Score: 0.00\n",
            "Episode 8400/10000, Average Reward: 51.16, Epsilon: 0.43, Average Score: 0.00\n",
            "Episode 8500/10000, Average Reward: 52.81, Epsilon: 0.43, Average Score: 0.03\n",
            "Episode 8600/10000, Average Reward: 51.54, Epsilon: 0.42, Average Score: 0.08\n",
            "Episode 8700/10000, Average Reward: 51.16, Epsilon: 0.42, Average Score: 0.33\n",
            "Episode 8800/10000, Average Reward: 53.87, Epsilon: 0.41, Average Score: 0.29\n",
            "Episode 8900/10000, Average Reward: 50.93, Epsilon: 0.41, Average Score: 0.06\n",
            "Episode 9000/10000, Average Reward: 52.50, Epsilon: 0.41, Average Score: 0.00\n",
            "Episode 9100/10000, Average Reward: 54.13, Epsilon: 0.40, Average Score: 0.04\n",
            "Episode 9200/10000, Average Reward: 51.99, Epsilon: 0.40, Average Score: 0.02\n",
            "Episode 9300/10000, Average Reward: 52.29, Epsilon: 0.39, Average Score: 0.00\n",
            "Episode 9400/10000, Average Reward: 54.23, Epsilon: 0.39, Average Score: 0.00\n",
            "Episode 9500/10000, Average Reward: 51.86, Epsilon: 0.39, Average Score: 0.33\n",
            "Episode 9600/10000, Average Reward: 52.14, Epsilon: 0.38, Average Score: 0.08\n",
            "Episode 9700/10000, Average Reward: 52.74, Epsilon: 0.38, Average Score: 0.19\n",
            "Episode 9800/10000, Average Reward: 52.53, Epsilon: 0.38, Average Score: 0.02\n",
            "Episode 9900/10000, Average Reward: 52.83, Epsilon: 0.37, Average Score: 0.03\n",
            "Episode 10000/10000, Average Reward: 52.61, Epsilon: 0.37, Average Score: 0.17\n"
          ]
        }
      ]
    },
    {
      "cell_type": "code",
      "source": [
        "# Plot rewards and score\n",
        "fig, axs = plt.subplots(2, 1, figsize=(8, 6))\n",
        "\n",
        "# Generate X-axis values (e.g., for every 100 episodes)\n",
        "episodes = np.arange(LOG_EVERY, LOG_EVERY + len(rewards) * LOG_EVERY, LOG_EVERY)\n",
        "\n",
        "# Plot rewards\n",
        "axs[0].plot(episodes, rewards, label='Average Rewards')\n",
        "axs[0].set_xlabel('Episodes')\n",
        "axs[0].set_ylabel('Average Reward')\n",
        "axs[0].set_title('Average Rewards Over Time')\n",
        "axs[0].legend()\n",
        "\n",
        "#Plot scores\n",
        "axs[1].plot(episodes, scores, label='Average Score', color='orange')\n",
        "axs[1].set_xlabel('Episodes')\n",
        "axs[1].set_ylabel('Score')\n",
        "axs[1].set_title('Score Over Time')\n",
        "axs[1].legend()\n",
        "\n",
        "plt.tight_layout()\n",
        "plt.show()"
      ],
      "metadata": {
        "id": "W5sNBdeoMBX0",
        "outputId": "c6a1e94c-6511-44bd-eb58-2a6e517254f0",
        "colab": {
          "base_uri": "https://localhost:8080/",
          "height": 607
        }
      },
      "execution_count": 77,
      "outputs": [
        {
          "output_type": "display_data",
          "data": {
            "text/plain": [
              "<Figure size 800x600 with 2 Axes>"
            ],
            "image/png": "[encoded data removed]"
          },
          "metadata": {}
        }
      ]
    },
    {
      "cell_type": "code",
      "source": [
        "embed_mp4(video_filename)"
      ],
      "metadata": {
        "id": "hCeeIjaML9RG",
        "outputId": "e913e7ee-f365-46a3-e11f-8d7c7b92529c",
        "colab": {
          "base_uri": "https://localhost:8080/",
          "height": 501
        }
      },
      "execution_count": 78,
      "outputs": [
        {
          "output_type": "execute_result",
          "data": {
            "text/plain": [
              "<IPython.core.display.HTML object>"
            ],
            "text/html": [
              "\n",
              "  <video width=\"640\" height=\"480\" controls>\n",
              "    <source src=\"data:video/mp4;base64,AAAAIGZ0eXBpc29tAAACAGlzb21pc28yYXZjMW1wNDEAAAAIZnJlZQAAQvVtZGF0AAACrgYF//+q3EXpvebZSLeWLNgg2SPu73gyNjQgLSBjb3JlIDE1OSByMjk5MSAxNzcxYjU1IC0gSC4yNjQvTVBFRy00IEFWQyBjb2RlYyAtIENvcHlsZWZ0IDIwMDMtMjAxOSAtIGh0dHA6Ly93d3cudmlkZW9sYW4ub3JnL3gyNjQuaHRtbCAtIG9wdGlvbnM6IGNhYmFjPTEgcmVmPTMgZGVibG9jaz0xOjA6MCBhbmFseXNlPTB4MzoweDExMyBtZT1oZXggc3VibWU9NyBwc3k9MSBwc3lfcmQ9MS4wMDowLjAwIG1peGVkX3JlZj0xIG1lX3JhbmdlPTE2IGNocm9tYV9tZT0xIHRyZWxsaXM9MSA4eDhkY3Q9MSBjcW09MCBkZWFkem9uZT0yMSwxMSBmYXN0X3Bza2lwPTEgY2hyb21hX3FwX29mZnNldD0tMiB0aHJlYWRzPTMgbG9va2FoZWFkX3RocmVhZHM9MSBzbGljZWRfdGhyZWFkcz0wIG5yPTAgZGVjaW1hdGU9MSBpbnRlcmxhY2VkPTAgYmx1cmF5X2NvbXBhdD0wIGNvbnN0cmFpbmVkX2ludHJhPTAgYmZyYW1lcz0zIGJfcHlyYW1pZD0yIGJfYWRhcHQ9MSBiX2JpYXM9MCBkaXJlY3Q9MSB3ZWlnaHRiPTEgb3Blbl9nb3A9MCB3ZWlnaHRwPTIga2V5aW50PTI1MCBrZXlpbnRfbWluPTI0IHNjZW5lY3V0PTQwIGludHJhX3JlZnJlc2g9MCByY19sb29rYWhlYWQ9NDAgcmM9Y3JmIG1idHJlZT0xIGNyZj0yMy4wIHFjb21wPTAuNjAgcXBtaW49MCBxcG1heD02OSBxcHN0ZXA9NCBpcF9yYXRpbz0xLjQwIGFxPTE6MS4wMACAAAAVumWIhAA3//7hA/gUv8cGJ59k3W1Vy5G3EpdM2fOQGI9dBXEEYBpn3N94bZO0Q90D/AAAFVBjhDjo+T9uJKUNEcRanwWj4ABXxpVQ4WhJhfuGCf4+6HBYvgzVBsFtDYYGmy1GZp4ZTOiONpu2aceM/ImXMuBdzR32G01CC1CRknvVTf86CUmo3+n9lrK+j3J897znJtk4ydvPg8rRLw3ehWL3YkX7M5CiKxCbaUL5vUMN9JCKZ190lrH2e5YBZR78Noav8UN2LL1Pf18G6sZJ+8SK3lMj5uBYFiqt0Ms3KVU4Ke/hJfimY2idw/+IyC7tcaScrljBq9TDYbplRCwjaEr0BE5Y36c7Bl1jayPAqMJgnJ4/Z6rnDXDlDGYGE1VusBwQjytPU9QYOKTilxzlaL+xMB6/Ye2hMejZsWtX9vI9QYnk2MNAs1c7kC6XeM9XBp2kZ9oIDRfGDlIt4R/cBw8e9Cye76U04uEhlusfKXWTwfO4q8xRnUgrV6sSBaSzum0DML/5h5c906xNCx1G72gNEMa/U2A7B4VWuQsM129m1DL5h2sVCBarli6R2u45+FQpPAvNgOLlkN5O7IOfBUiiZ6THBe9uYavl1DH3tjrxyEiGKMjjwDK9C4oGZlkV0s+ZYagg66OKd98Gf/dWdtQ46geU1Q7rOsPmoiVpSNY6rcof3x9SA8XUZnD9oP6POW6NrLGiv/vZvVK/+OSFfm/KUUjPRsROTrPro2A9z+Mvn73ytYmGdEUfg7ovYLOAN9cXogAHDnjsM6mH1fQQuJu/l00PeoLAIS6NUnBk1rjFXakhjGf8+ey/QlULNk6DkMFIcdK73rs21NJsIRExevoDODgzUp6IqGYtk4396Fp7/T7eWHhV0NHQZoDj/2jmsu1CXuUMSJTjDdIT7qeJlerOvDPz07wMQU1kqf9ZWZdxofgbW3+A2zVnDBGxrScp1tk89vnrnZ5ZvpYyojHKaFCktFCqRfODCztRat9Pk26JqPymjgZMHfw1dedKd5xsMlYsuLD7PHse0EQdtxXTQyqbC8BOxLKOnLGNtJqzru6/TPDRA/voK8jIoVyBCIW3q+kvQ/nFA275L7MekRE1cUCcNfX5nVn6TZ1dyIL7iPyMaeBO/KN33SoKrBHSNSxQG6IDA7zp68HKh9ht4F8NIvccAElg9G7FhCToga0eAjOJAef5DofUbhjMeQJGcaSQpgYnvw9Uu3NjaAbHpnA7qekEpFbjJsWAmZt3dR9pfiaE2nKgY8ZxHxCBc6vDCKOFUgLWQYmHPMzOdZ4ZdfW86MmM/FqczMZQ8k32jEosTRG8sWVzFDysD2WSeqmZvGVzF1/JuvQA1MoIfuqSc5ceqY1oHejgknmHMpbcdosY3nIkW1gwwTXkiJsw9ZETmpNwtBgMLrsTnlng19dL+sudn6L2v+vsekEpfg5+QspKYAlKuPwpKzt/OFcUomAa4TLI+a3q+mkGnn4Z7HcOjWfvE8NHE3t9v/qO9pbQuCZXIzkdU0FieSl5mE0RXrf5EuPcPtN4SxESvEAOAItGC7bDLKEmOscHMpuFTvR8+CYOKkzSoVF6N5svCgCkWEW1OCWh3xtY09IvUfcZiNfXhyhmc+MtwMgeucs7XQ7M0Cq5P1Wtg7DSMdD67QXp82SF+KLmfvOwbW4fMzrgVxmI4/vbZzGmWkDqxrvfGOaxfzpWsBtSPC2+XlS+YH1T6wx+vQPXY0XBMPAx+zYZwz1j/G7ysuSmPr8nIJMSdSlO6KazTXdutUBYM9ce7vAG7eDbDDZKcVwxOyQM2oaaBLPqvBUpfvarDWcmgyt9QD5OO4Ho/YlA5q2GgdLnAZxDcDOy6jUrdu41uJcTFVbMle5+abPfMdFsIkEyc/7dOtfVDhwPKFKQ8mZi+0YK/IX88QsroHvjaXxqeNk6ql3dOBAoRo7Maus3ruRCl5XSsNLBVJH5pTdAhXPUh5xA7iuk6cnm046ODnVAAJau8WilXCcuYSaeK3SnUHwhVYIUqDrBXmxVHetFjhPBAT4Xy7+l5RjgaQ7eMT4FW3PcvIHcN26d9KRYnMW95tpx9w2WD9EzUEYvilAmoIIgmqCpeXPBmuBPS1lVCby86Pe4YFfLlFS6wUe+kbNAMVWYK6egPEZ0U8PdOJrB0jOViR+HYqFOh9090IbuTqyu8OWSzcYJrhciJS2jFj1yKBgy+B3hL1ymRkd7w5jxPL4EYv8mdR4kgrEpd5TrVnn/ZwH3UHgFRa8BVW/Jm6r0WGkCsmlu7LcOmN1Itl40Gt9VTWimH5nQP003LHpFjCwgq9q/3ZSQOxcOW9uAx95jEH8R2LYQo9i/dxsSs0RzEPnWuheQVf0NvPVeHtaHYI0gLB9xxZNd+kOgXRx6VVY099Vmw/lWvk0aJU2+FRwPdog7YjBBpB31/dAFx69e2JYhuKfWAVY8sPCWouK9y9VKK/HjiMUHyyRH5U/UfS+H+6bg4Bv6dvwF++GGZOGjuEXn2mkGHV0OA0/zpb+uQF6+el00hPeIHWsAOjTMUPL+8ps7QrGnOUOaj1N5EsdjWorQpLq+kiHB66M2g8BLOCtbyir5pbFENKto9Ll+WCEOMEvUybV++wUp8WcFO5mihHRKuItm4vVA23Q8EXniCXaOeZTFMKUzFzq2VBO5zaVb6bIxYAaTToxjfIHM7aZT6xbqiudReJRz6m1azgUXP3CRj5qQvbk99gy9qi5JgcwrfLfL2R4VCwhHXFSohVGGvscHuZhkKlURXkXI4LNftUuaSAVKCGfd3oU9VSAAKJpR6W5+RxvkN1EzWoexvV29Zj/I44hveAomY9tfPPc1oKOFHNy2BObL4Bt95IVn3HzGgw/3OSxQB2zkVkaUi1kKtZkM8dyupsOOpcAFPeK6Iye213nfLQV6b37vvWhxt/P04P5wfrvlOpO3BfoSY6D5RSrHjVH9tf3ISjoS0ne50jVMGle97IcrVhlWdyzrTF6bfQ/jtuQMy2f/hui5JKfLEDysHt4ZDyfO7TiyC+lBbe64k5bDKE8uX3clpRTsoSoyMRoINABTcaHh6Wy6F+7ZSIPHE07Ml3UxmWmKYEyb0dW47yBSjTDcy4KpqlkiHvq0xOYKjmS0wGX4Tol5ogJmaZ1pmvjlYxvXKpntS62rWMLFYVtZVlyg+RUk6sE4nptFxoWAsuTtAad90LJguUlK54ua7oU6/LHHayxzx0hd/OdyosDuAMfyC+FfD7iU0AzzOceyfUHFq8G5CkwVrzT8qXOr5YhkNBFtPljGkkeuPi/FFJs0OjG0sVqxjsAFWj6/gfAhcvGCbJ3d/ZRCXqzak1lvOjLOti2d4ItPmQbzzMniegOw/3VsJ11fy9HUCtiPSSP72yWNm4u3o3njWH+WpA3L9KKVXdjwbkh79sIU7XmoRnWQ3tC2F6mrR/xvbAelYT5kn9/xWdHf/8LG45I+NLdawoggh6HGiWFGCg7E5EI9cu0eYo2WPh48j8EOLJE9GUDVOeoQY2W93Q9pAv/X5USHUJ0jnc2rYWUBzdkwCCc1pcSNMpd7PqXpdp8OZu+3zNeHHjFg4ErGyzbY6+yb0yDqN4NKer/9ijgV5ay12qt7lYkPsxoRawh9W0Pbu5Csy6BYiCuLLwOoLa8GdSqz0RDxM34IdIUS3FPbOU6P8jezTrhuTIGd0pFzknF1qdhlFhSZx3rscSq+Qr/j/3vUw4JETlgTO56Wv/foHQHgT/FypPfT0vXziWuj/ZLm7lYtL2RYqyYQRhIWQcgJwPdLazW/c+87F46kY89audC2QoJ4S0oc03jb9k/82fGl8FaAXdEzws/ys75mQHGSEjKTYsBn4oM5wsUT7arL5h7kCTFIlSP38z17mhRV7cuQ+qatbQo6qVrJgt/fZTSShWVxwI+sL1Cd8Av7eFcAzk12bwAOZB3Qo4uYp4XrKCv9z5A+TZBJlDd9dYaCLaJGwMM1LghmTpwu8cczgReS3h/UaDSWoIkTI6lpGH55/7KfpCg2A+xdLufJYMVfhOPlo57LjUbamASJ66auEi9Bsay1aQCJ+8aWGOVxTlKxEMw2G/iabrZZ5XL56pOYEiDWUuXRFhL76UHdRaQ6hh1eyllzgaY78j5SFSovH5JEHSqsYi7Fzez+096X+Eq+kdox5IzJrTuq8CaGaVMQ+gh+CZ5yVlqL/6iJ+G93EfeUTQuaa8ZVppLVSdYBMSAncvsQI5OT7QswQ750HLSsDFsw5JZ26L0AyL0Y50SaWAeVKTNqQTpo2Ob4DUNZQ8bRMAiGxoK8QSz845WUwd10BqKXBppLn4KcdKZfLRG0P6dsYHNcXnRrEWqTLocGGAg6Q3xNbj5sdJLkrrVhM8dNGUK7iRMuZ0HiavEb9z8Xg/sOZf2atVQ0fW9HFqUJ3ToOqQMuRlHGFfJvLEH+/1sjlWBNUUCLzRJd7sJAsO7/6ktz2/rWdIy05em/tfFass3JSyHhbT1auTpHFlswH1CR7ldQXj9bgps7XgssBIwB9nCVFa4flnwy/YSWX3d2zipMiP7gtfulVrUQv0Yq1pUEHsf0+cntTHk+CTpltOcuSV+sjWLWLPS0/E8URa8tX9XCY6RQA5ylLYQ//UhxjVXTEaVf0Zx+NXmKPyiKhMt4Qsg6M7WLeqP8TmJlL0Z4+oVlz3ncx/FDLeLmuwGwcTjoG4nvHKV/fWjtLXNtAOurL4V26ZMQ9C9tpFsN8UXezcLmKIO6E9S5C3nloBtdaw1WvBMtfkq90ZWx9TKXEpYx+LPQpSBInsITVvRLyjl4Q3EV4CIZxSAgxizVNzcLAluGnV8IYIjqUAB9NVYp1ongXI8Vx3wVkDarCoqkN5jSFTly/oHduwSmubpb2EhFqNgCoAR1T4c6kVM3e7XQQ+WlEp0k7MRI/cSUwAJBZDZ8w2U9GRBvHjXCUfTQIxb+OQSD3u531eqC+bRfZQKUWIoWViIoBrWqNH3BliIC3FbVo2d2zust552RCrRqTpAuQOVE3fHZSGP8M5yEYbjOOazjWnCV4QyzJDXvKlu1MnES2d9iNdtIMw5n4i7O3NIUvfluXWVchKBgmVqPNYhgOs1ojB/RWeC/IxQ4J+25qaW3WYBq3Ju9IFJDLFAJ9gubPhsEuGfBxHmPG0O+QbLC4FIWCTg2Fkl3BvhOyyI6sXgFJz1n4B9kxCoF9dgd6Tyw1tYAsvQ1bpktGL588xLctrnp7eyWGi1+b6cx2UT/deTBvA+/Vly3dZzlWlbiv+2k4ZMc0H5Mqam2rHaAz55OPriqktiXGDnJDIXaJCmOQkjy5JTCjv+fhIqtdJF3qefZd/WtoIlM8FJNb15fyJA6ycTEd/EXGWn20yFYj8emcuzKOZV67fONdKHOSosIroCb0sf7ChnyZXJ9uc7ruhj1HzJUvpl14BTzpG0jnjB0WIdt/5d0VzAqlx+g6DfRvFpKL8qykW4HgqPNcJSSI0gLnj7Rpa4xHCIdDuXGbPpV3OXZ1lHb3MVZ8y/Z1EVPv9vZy40izXWTpmtQLzH8WGga9rv+ZGUvIwgJoztX9WJBF8lBd3KP0dgEUyaOr9S0P/deesVKtyN5upHxXxhwvrdf+4hgbcei2s0odH0tGV3zJExF1dM92c8WFlS5tjjYzkGxiC8Ij3RWswN7OMLRG5I0v+cnKZY2Z7aMMGeHmtmq2wmmr4Og2Wn1/2MBeT7b5UeZzrqGGP7DqyAlDtY3G9kpQIlSjbzhrpPUXsX6o/qm98kIcK5tkVYiDHZ4mWFHcG6nBRrKdCRj05WT+5CgnMsKw++kgzmxyO3MF+0FBerntQYI54bejLBF3759MUhhFaD7dvHWMT7Wb4SIQQh6S4RcbqrrEioeGOtYJIbHnWIMjmUcxtFYKqmNA36oNM1xisleXQqlt37eOG/qqxGIxRYSd4l75A4dx+DAyZAMxzWQ9CTXSZS7nEqlragq2wYyLVLiFRCagL0y2ZA2qtili5hL4lhMQD3PdGHK3M4h6LzXGj0kmzNXGZF9i02W26XVEmRXPmCBxeqxBf4eEv2iqQOoFsY5H1JFO4ojtkRsYh6+0GMoWT6i7HVZED2swwM+xG6+vsVdeQl0DnTxPpNNJGYdA5DwRahMG0eTzgCn2sZFC3N7Zes94UuX59X2JhsyWOIK6gRsdnTW2BCW8u2tcCwtgF5vlHlvPtPj6NnEDDYvqc2bIbLkoQvYBpDyD41YHIbqyTO4F7wadch44b+z147SIkwcQl+iBT7EFGz1KOWl3tf53VasffCwStvlwvNNUYkW+O4FqfLFLuRXYLZ6/saZxyASH6yhKHDsX9ArMuUVa7QgkoFJhnRCfe/8ni89HSIyh0WAOsE+7+p7nEfQKxOn/rCNzIK4DFQ1mQHTDFNM4PL4f5fOjn8RSjNtM6hzz0ngY8bEayr2c87hhDw5SQBy5VkY9ymvFjVu47rLOCa9MK4d+BXA/xIJ/D8K9QbLwKBBkPdvJOeZ2g4FVPKiShr/dsLkWZ8427XwBKZDBPyUothbWlWzB+vAEu3W2PpBNrBNVD/1FRfahLvjjR6j7Qu7Kfw+usw02KmopTEbhruLUSCt5tMLHbW3+keysQykNXZHHAp9z9fKgOQjXmfdpkxiQMV9odkxetEuXGn8X1wKyVlQCmCLabkTnVn/MsEMdF2leIKU41OTeT1Q9gqVwKuWJ7pN2+VA944LJnXj/afnahpAoa5Hs54g/tfhikzXSk8Ti8hvScYQvu6XClVq2GVQs7HTB1oGyOGqBY2R9IjrbAkazrEDQSbuJK3tKFwzXPxUibdH74Kffu2f073Bft21TQTPNBbLVmlHlX76Dblg383Wg+0U5naFiLy+BmuhqDxk4+J+pQwPXhTj03bgFJDJuVZhdEC+VMm1poKOVQdCcZWxVkIDIw4mJ32G6PaeymqGMW5yrQr4hudpJonEcBMu9UJvJCabGjTmirrfWKXK2B4Ds7VisoS1nnjKwZ3nKXap8N0e1Hmm/jeXirLxEB3spXtIDz27oIj6yMKqW791lG5ubWD8KDe70n+zepJsR0IfY2BrW7VR5Kv6juhb/yjz7nwg5JbwLYpnOQ3isSjh2zirmlrPQd416qPjnc7owQz1JD1uFWYthrNUibWzrvZb7VfI6zwYHg38XqMkjgvcZy838YRKErBGtutZpNq91TGBmedqJWArAfyqY0prWY4sjWmhQ9e693Ee1HM1Pn/mSWj/G5Pl6LaZitAO1FdVeGImMvaY7+G6c/y0HYyk3d54p/DykxD9b3skB1lwVD5EmpspNRSaKTgFR2v85dzIHTVXwtm8UoG0D4GYLI+OwSSYezusTVB8Hdk1MR4ZGiyd5OBbxU6eUt2MgVe+C/5U+V1edU+VDsHRXaQjHCX01GyAAC1imW15XAAAAwABOLhv3y0j37AooQAAAI1BmiFsQ7/+qZYAAVwH0DIjxRjjs+BxEJoVKuS3ghBntsMhS1WC/Qb8c2hYOLhzh9LSCVYMoQEVjW+YiQhHPvJ+9LE/lSDgd9JJpU+mgmyOT5/a7/rMc7EQTP46yqq2jF9shVeNlSd/a0WxICEFH9R/on0eZ/XqxyBxNi61Ds5yvUOtvKq02U4WB+cdkUAAAACEQZpFPCGTKYQ3//6nhAACw+fWdeccgAp+dHzTF8oNb14GpEVxCdE+I08MTxx51naUDdmh+gydEOegQdj+pQmteRIoPBZoeefRkpXXsDkpSjHXOF134w9U3nHGunK2PNp/RQURyABubqhCtlD5GQIPz8a3g0SqyFkv70/DHW/PKCThk9gbAAAAX0GeY2pTwv8AAaZl1KPTXUAFijINi6jWKwGuu2oI4wYje9du3rytM1oBT6jXB96WCi8FT7crCCrPJASMggyHmfZ+llC4TeS5VhfBA8/uIkJ1HlgK20np1t8JtZUq/v/MAAAALwGegnRCvwACOubFCPJOGweCoFUgbK7Qb2zuOmf0aCc+mGk1fyodwDvJXsqeOBaTAAAAMwGehGpCvwACO2vg89DhryO8skFGKN3BMiLYo9GgH3U8yUWp86rR/ad8mObQDFftUyzegQAAAcpBmolJqEFomUwIb//+p4trnpgsIuADmnDaSnrJrWP8A3P4uagYXxg9f4dvmRdIbjukiyQbxV6ku/kAMlUhw4b2rTnfF8UlWp8dhTQQiclu4BT+jeb/hMZhGexrn1aepniuUif+P9bw1nGw9FYIr8AfUsGgR4evhVtwPfYG8wa6OgkxmtxNXEMCc6dwMzxnB/GeTBNGvGiFPCk1XNC8UEt6/FcUdcN4J5A0+yBn8jkaBD9yDwreOJYjAM7uy2gbMLdLZ/ewc2iwb4BfYTX37cKy615lFbsjtJ8VkjFpyHJRZ+sxlN3JaFfiTtdpHay0gSYiRcUl2JIp4FPlXCmxZ9lQzVXRNYNPoOLR1WvHA+kVFwP5m4lB9Tmjj1klhnhE0nnLtHLPaWoc31mQwiFxtU0wR9xshlBdg7bG/a92BjFhNSnJPi+b1Ifpi4KcAW/IDK7YyZmreGzkTHQhka0WjqoX2gTRkImHUYzYGB/vEqeJq9ysVdbMiQcRPAzUcPUVveXsnGS+e4bYrD7wFY3pHvTzUBBXZ7nVGXABgSU0YPnPYK1NpFhmkX3HAd5I69VKlOsvcBpyOWi/7LHgO5q0g0W+/Mhf0gP1VlpJEQAAAHBBnqdFESwv/whmnavtlXjnCMwtYiJDcgkNl8ww1MVKyTodMLVejRds0XRFKWdoPLmxorGCM/bv1jAAc+9E/Ho9+Rm/loxQHVY/UnaT9DnyFdcy9NmDDKIjlLiPBndvcIuAAAADACf6oA2Ww+21TLVNAAAAPgGexnRCvwqcFd1r3HcbZ9DYH1i+4WCMXDbyitfKQ7bWj96CWBZKA+M3hPfrt4CRBKTbXbET4+bxu0UOtUXHAAAAOAGeyGpCvwqEfZzzBjb0HKGdja0V98ZqTOwww1A6r+JenXVF35QI81Nn9Jm9TYsAAAMDBR1qVRswAAAA20GaykmoQWyZTAhv//6nio8zo1AB6B/P9HRnMWVCB/TqbXq52ffF3O55RX4tg0xMIIl09pu3RGmqvvy83mo4TZO/bUwkzetXvu84Kwji06CNly+pNEO0jZL0d4kMwVK99Sf08rR9kMIhi2SchuoHd8/Slq/st4u9iTbel43nQsnPTzOO9u4+FgERE7VUtcj35+vzYsjdnMMja4B2Om79vvy13sjJfzf+UttVltk2TDP1xa3HCPcCDUePO5nL4S3vDZdrGP+XshqFJbduoF4SmNW1LHMd5NZPTrr+DQAAATdBmuxJ4QpSZTBRUsN//qeOOmraa2gQV24gBMXY8XFMHWDtx/7IL7Hw3NramWl7G8pVsONbg8wxpYVXCSBhYnlgAMaXt6mGZoi3OcVkWKrJYjv/14Cz+Bihxqf/FW6UODKNMMfyeXl/kj2LlCA2rEOPIAP3S7BJsyIHx5fXkOIOf9QFxhJR6hXSxdHyW6ub88FCUj4Tp5ijBz5RtBRnZHDBSmR/qX/ZcwCxHX5tBCv2WbFWki9zoGWaxLsmI09c8u6X5yB+FvTWXsOsrw0CuWZABey2yPuBxufM6neOAqKQPZWmibNAQpZlmrJDYYlt+EWIH6MvFWJsQk3sU1dD0ImN2G8fxqXyq1NwLSwpfQR0ML9xZQgAEhVNQcehwXQr117ZjzVdp7tTJpWs3f2dtU2LxmT0MeCTMwAAAFQBnwtqQr8L4C5FwGgRzFsfgHlot6WoSNj7qPFrXxWSzCwos25I7m7hh4mJ6lQOrqcbth6AEsCFkZoGPiUcSR/+WxsuP19BTkNLYqHswhoTXbVKqXgAAAHyQZsOSeEOiZTBRMN//qeOWDU9LSANUhjdrDw/ws8webNSqZLeVcDsQGNXsP0+b4FE7aIsk9EKGBgeQulccPsleKf4JbGA6/U+kgj3JE0Z0cIygY7BmOysf5Yi+iBQzSwB+qZwcoNNSAS1kGXJOU3gjSPgHUdqcpqfwO7cK000FpAv4D/Xx5dGVvJahn11b2JzFUIh/osVB4C2LUDF4ZJDAI9dsed1XUPk2+RQ4/z1wLF0tv9O5sw7hRZAeNvML+dOwQkVedXcDEvMlohWUth2xqbn5TWeMWnmc6eDJNH+VxrVKk51MH2WiXHDPWTvl9MDugzRSMPCdoWlahCUiu6gLvZv7YDQhBv3lc+SKUZ05L8SX9SAbGJwWEQTq5GC4vWRR3smR9UVMuPXszBOgJx2Gd2bn2bkR/4wUJ+L8i4Se/2Clzv010v2k1oWdz16nicWlMJmNGP/B1UXgn+87mz+MhSLVyZHukFyCNlqUTe/x9RUrp+MMOqTc+uPyG44abL1Pwmp3MtGCK1B7o0F2kFuRkLns6IyCNC18DfdxrFzKlKtrKtlCJHxuJnoAeCdUHW+U5U32XLaDdGscqPktShTVGcmJPtUEZqb40zAZ13BBFAQWZ/pSr56GGs6GHnDIri6N5E//8Oxa2qbJ8rtlxqgKRiBAAAAYgGfLWpCvwvgLkSLIz95IibJnt3tFOdlP90b4LmmksLlWDjMX+dFkyZnaDDSLyQefBOgPvPoj+/VAB7Jsr8sd/Cc3Jw/dnvCr8ilLZjnAaZ1O/E1/HclhAiy5h8Lz2p6DBvxAAABIUGbMEnhDyZTBTw3//6nlEzVsGR3CqsABSQ/7/uF/oGQJHLEwK2rhccyOcXvtDcvNZnB5h5Zfnbr2Gme0YHQs4Bd+saYDwRNbq86wEX3JL29uMkIMk7lrjH4HAuCf2OkErXVqLDy4pXe7UF/gJJCwQyf70RJY2YtKfpx3RWmkJImES2QHp1+kj5mGVEhwhef35Kwp+hO+NmRflc0hIDnAQ473XC9LPeY+RS+6yt9x/TBYEUazAbI7g9vHUDnNKo1vw9AsLA6oZ91G6goY27LWCQoDFEJ4XH2cok7sAKVglZ28ex2z42VnjoMS8T881v99SrmQS4mrdhX5vQIMxGfSAQSIUBcdifqVm7NO3plJrkqEVf7520MhK1PREKRuiBwYSEAAABZAZ9PakK/DWAuRY3pUWxbH4B5anHPkquccKUH2Vu6YtcxR1g2NwbpU+43oRky0oN8Bex7dwAFbsVeh9EfG9vx9vaHLokri+QnKbajfAl6Qoy4TYgtvUZt+jAAAAE7QZtSSeEPJlMFPDf//qeUTNWwZKI7vgq9wAJRAh831zvKJ+Wtwgf+kus/MrAJHkAPlDDESMpm2mijNB9EXX2BAPMCZLi7ipN8Zcf0wSviuPydgKJs8cE2/0olMpZginmIhOfLI3CvtTHTWfFmxDxkN8NS9Virf75g41DeXAYEJbT7zKtIoNmbKlUt7fMAncvYr9Sp+nf7aJq9yt9UFL3+mB6kSAXWvCFvwCCHPZJIK3LKXIenG9RqIf0xcgKp5i0+SaRXphZ1SUrBbXsqY/g5jgETt9vV4aXNvhqkqGqgSfp57eegeibVzW+ce06lOJ+rgRHfwtXWbxPaKbEFo+IqlEdhoNKZ618zx4AMQqrG6Ca1rtNdhUb9Ky8QzES28a3bLC3GCRpZslWx7SQRsv3QXJTctm6tN89clLb6AAAAVAGfcWpCvw1gLkWN6VFsWx+Aq2I3oF0CefZFIHhVNB03AbIGiv0+7sQ4eOaiIIn+y0UiwATrSmZxyIRfRDWX3l/tFLexZJYr0/bmcz9wVVjlJ2ZdJQAAAdBBm3RJ4Q8mUwU8N//+p6Apq2DIsosQCU5Sy229lf/VbQ/+7//M3lycT58Cir1Vs5gw/oABjTgAnTXGfFQVelabWSre8donNEgmf3H7CAi6nlIEWXWmN6BBTFffPHgi5t3xdP++sgNw3zU8gV1/1Tf73GspGldyiLnAp/nm+/CtVuazYNJBPnaudixLWkOLxiVSmx4IwctIRWz9Wu02GHIUQGt8Y5TUku32PvDVxyr+f418j4hVorAN8d0VW3Y2ArYukBRaQrk/yGZ8xrNSDccp8ywOEX8chPT/AD8vyQ41tslYvHrAJNYaBhkGIt5gmnV1IXsy0T4yFUoX4nLwh7oLNzR6WRIH4MyrZb1jFFTwKnga5vTrlgT7hhLY8QgmxLFus30Pf3WIWd1A0P0tMM93bOSW3/Eg2hVXX8zFP+CLfjJpfupOtjh9KK0l3zAUgk618nDIS0QmKF+plvrqGprc2l5gXSiq3P72I3frNRo+lfYIe5qtyF1N0VquJRRvtC5d4ftMeBorQDLtVU+11r9HhHNTwXOIk6c/0MXC68yieWSi0D4mSZpljH3ECPerci+ZKUiUbqcIvVtVwyejEshoqWRLfcYK8pPaSeUyhVVrwAAAAGIBn5NqQr8PE8XfTelRbFsfgHpWXMfRrN+shb63FIUe+5Mh1pIk6fGpTwAF1GO0FM/v94n2OHnNHgrFxJ/b8SGNxzuvHX/lgp98Q2tQZZq3oZnMGGpq3AerC4KgkojP8RqXoAAAAhFBm5ZJ4Q8mUwU8N//+p6Apq2DIshtWYUKaDl7bHKVdKGaSWE0qS6ufKHrbL4xyiPG7aCTFbp8WHp/BX5PlFK9jQcq5BEk3tUlbzBViZtDmbHbi4AiWXaXFFz+P6FsBSBtFgCS9tJKLFjAxPpoCTIwlda/E/dk5QVeZlWBaN2j6mHt9QYPsH0E+zPmALFJ9+X+SjM+r61I007W99IVx2cjQNOen4sky4L+A8dqUwh3GBfxmIuIuIww6DbVaqtMHv6KxEpVdMjr6Ts0MCEam1JNmiBFF6lUNCmS3JOEnePG6CPdjJ6WbiqMWMIElF3aWtC80PNHy9/2oL8GEosCJOc2OPAUk6sl1SVK86WE2Id/X/4p8FrObckqNYCPSD9G48TwKQwKfeKzhO6uJ+vIB9Jyq/m/wp2o5smoMzdqzvr/l6HHwXOpzkuIV/DZGaJNdOtzHmMhPEynZG1WWofLS16qxdfWi8gB8cic/6MmqPJxCdSDSxdz7kGiUkpKDy3L9pyH3wRAmFksNhcSCwbDn+mo5QamoD5jypr9A/UHcsnjARqnHXXgX6AG3ftCl4BexAdo6LsbTLp1u8Z8S0Rp0Z9XxuT8HfCgNTl/txcC4IDaC4SAOUVuro3iDlbq7b33rcQQjw81T97m8jci/rt2moOuLAjptsus5aW9fFWyVXeQ5OledpaDsENl1TO99/g6I5ExjAAAAZQGftWpCvw8Txd9N6VFsWx+AwTq2etX6XlRcznSpb5WabsKQXSgOUSeq62BbCnkTN/OULB7Yqdc0eIT5yip2gB/iE3ShRnYLU3uK/PpKHPsjj7E6yHkH3BArXV4AAAMAZTLjwhUwAAABKEGbuEnhDyZTBTw3//6ntoqwMZFg3wAUGgAGN6UATuggrw37kRSH3KjZObHpo/2hBSaFKBIDTL6BUpYHSLLloU22/91WQmEUDAD/CqMNNhvO6X9dI+rzDlaJFfeBMT2kcXi4EenHzHwk/pMp6mpPdAmMmOgkpRNaiBFf1tYHUly6paOUJFZkHHAqBLUQs/lyWFULH7fbqTVLBbMzvYshwvbGbn1KxDXyrpv+Iezj3oXZOrTnVALrlQmlzKMyxDPv9VsOelHBgZNALfKAo6bDZ2p3+mg9aMxu26AZuaogBtCBTbl6QJrvxjxP4jPriWwc1IsmITSi9/BsdLUmr0qHqGQ/83R+kAM1DdYC1DjkNXQ9AHxACEDECp/wTiNhb8dGrV88nZtCuDiBAAAAYgGf12pCvxE4+28d52vYWx+gy1UZUDaUfeR+IGVYgM7EwBseugsbYGXc37SBTA1CWLelnFlm3kiEUAJXOAXGaq7XLh7UwrvmNvHduyPkMaPdeXLI1D739K5IeSsvJmUUs1YdAAABRkGb2knhDyZTBTw3//6ntoqwMZFkJUNIOd726kw1uAmEj0+pLvja53Tb6NDbAs/Y/ORbyLolkt0B+74B0wVls4Q5bsTxZkst6qKUAAUZ4ZUuSik94a/yKsNwdW8WVlXXcb1hwCxr6PWsy8rFY2QbrYV8sust46nFcLFFnZgP84MdvQeh0y/K51RqL6BcWtyEF132Eq8pUNjZhbikTgizrpMRkfaS2F2rEy5sdYOnkpuISyzuA1FVHPWTl8+j+6Az5BRn7bvzd77btmJIE5sWY0ZZYsO/M2uKqey8Ebo+5dexIkFHP/e/tIY2zh/wHbu4QP1eoPNGMfW/S7OVWiD8M4cxXR7kW+byDXEi9LtLQnRwfy5PZmOoCD82zLmcrHrkaIV9Zrf3Ac3BYf1Uyxv+k0sAb+JeGFcb3pcfv+yNFe9lyEKJ5bcQAAAAagGf+WpCvxE4+28d52vYWy51FlwichSm9SHZ+x3VuqoDVW3q392T9lgNYLwIB/sEtvWWy0DPP8OvoAAmXC5CCix6F7sroXCL+8lScioZ9hVztDCaS5SqGJPXs478bhhgdo3CA/b161eAroEAAAFfQZv8SeEPJlMFPDf//qffFWBjIshKhvyAq5fefrtCpUdjUJR+AUm0BDwOYxqWzUbB/koLpatDZJLMaYXTzWhO9Gjt4SrpRO+uG9SjanTRT7Z6BIJOm4Y9XkQhb3YiB4oJqGJCvg4BqxV2TNG4ZwCODuE070mIcyqFUwn9897r+IC4ntboHggoc6WRz6rAvGMGi0JZK/FUvEeN5XQ4cWFdHzahj6pTbGZH6n6bVNimArUhn9Ob2GOMGSNp1u83lFy1ZYXoZpO7fjbeDyYzcpDYq99vafbs3pTSJy6YFAlqu22phKOVse1esIj+4UZWhuz1LPYymiz/0gk9uTknZDxNzXJkx07d20POz9yu/FpvS3n5AZlAxlvrqRmh66SxPJhgjv3p+HncnxXR2nxtFoN84AOwxj3Eh4GCi/hbqLZncs9nhuwye06To853QqYQHDObFt8FER5HR8JpRTM22rigAAAAagGeG2pCvxQQXIq7ztewtlzqK2gzY0bwKtj4VeI5wwdNp2+ShNAdEBfyAKRYVsIMCbGUY2RJuQAmiJv7LTUD9DEM2TIy9pzm86BltmOgtly/J70WiA9dpU13K3PFz3/JmQebI8UQZClURcEAAAF8QZoeSeEPJlMFPDf//qffFWBjIshVqeDr7KCNld6rUbFjk6OllIAibwOzMxtq1q7vC4rtWpVPD33I3ZqSGZOv+BI14IHWLYEFJLGtn7AVXB5sWVLVNQgKfvl+jd7x+RvzKTEvDGn5PqYxRhQUwRVe51aHSuAPlNVthC9JnfIHGFdVTPdyk3w+m87Nc/l+tk5kaJ6GKqw6Yq0l2mP6pnq8X3hEHieAJMAkkIioWU2wuypefcMD8AO9TlJK6xklwes75Rj6+e8POQQIqM4MRBWkYJdLJqCzZ1VYntMq5l1iCOrH1TunW+k3Z7OPQGNHcZmkliqtGkQz1ZbQgk6ZRwxikjxVI1dl+UUiqC1pmhHXJEND6xOjiHwsuXzLaLIETrhxvRTXQrHxEToQxIEPKRjEoNe+I4mxjbhd7jMhiDbbUhqb8uVZ6SwdxZoRgZunGZqmZC3yL1v2gdkOKef26JJkcOP+RcuqUFlVDtDRrZ0t3kssAUWC2mpSeBPujEcAAABwAZ49akK/FBBcirvO17DHgqWtzYHT1NRy33L+fx1gg1j7lW7nFY2cWA2TD5O991k/nibgN2a1kfFqhcH6z9ZABtFas7uFCEy68YuNSMaIitfjyw+vdXU0VghjRZ4C3taIaxlP3EYsJGNbds6Xa5r4cAAAALRBmj9J4Q8mUwIb//6oMtjjGRZCWj0AJIw5BGICLS97eYPNcyrSzMrRyAWrNltB3BfxhJ43/piIf1Go6QVtl0gi+aNjKtDu20UzTtuY9gwHRpMTLC2XxiA5g/Ho63NA/S2qSWgZhplNVMbNRXtImX7nCoqNo/gErnm7Rg7iqgkxvYiQ1MZqXCVVLfJtjY+qtaqom4Hb552Gb1F6Mrr6GE1OBX4svwcLWTE/APyfKy8mcExdPEAAAADQQZpBSeEPJlMFETw3//6oMurAxkWQlQ36FQM93vbzCsj5HjPa4jQqnU3GEzfIJbueHHCq5ACA+FL5Ed9jUpUzIAJ1q7PrJT/g1st1+nfAYbZ/cB3YP3gNRChC0cLggkBFq6qy5RRHsxba9yjAZOfRpV6BRPRRtQYRZQH6+/H/l136qiTtlYyGBGDrb341iowhM4/Zf//+3pk+6X9x9IULxLx9RAiBcgEoonMWyxVwL95yuHaz39y/9dikQIiAIw1zcBbBSHP68hmjJmKJ4YsAoQAAAFQBnmBqQr8XC4u9saWLkwd8EA01QjGA7KSpVZP1KwrBfbR3RgBysBGs1+ecp0mXllaud6lW9/FeCFIsRov1HhI1o39BWLkKPHyLBhAmF4YGyPJal4AAAADnQZpiSeEPJlMCG//+qDLY4xkWQucSz3+0bEMInvbzklmR2WREAAZwKB0thzyd2eREv2DFsBeDpn+1dVoXN//q4rBWv7Mnfj9yKEKJNio3iLl014t4yv0RRxO1qrzfDhoRHu4TIef4m+i+9EG7G05leQ6qI5a8PBfbYvDaz87ND7dgMBkxUnJn/7ZOF87amQA9vXcbmIhSJQCScg05+UhQ2bf1Ix6dD6nBNkM28U2D3CI5bf/rZc88hWc3vusovXbvJwi4bEQpIQdH/oUa7bt9AfE1ZDoD/2Zrcn8T4FfWDMFHiDS+OAbNAAAA30GahEnhDyZTBRE8N//+qN5VgYyLISob9C8olY/3usaBBWXeSP/SLyukKDTkhfRzDcPymmDyIxBOGDH8/kJFNwwLJ7tHXpO1TT8HFHMMNI8XR8bCzA2yCThoKoip0hbR1TrmNU43OiOS+8oe4RfITbrl06Z/QTf15PFL3pNE9tAlocr5gZ/EOxQ+PNkkS9/xFUGBvv8ARIT88uqqvECIN3o4bQrXrsu9PlAouPhB1pmapYDxIJMMQCcIjRKpulT9SXl9iTn9JIcjXqMwlbYtr/ecCUeEw0rzqTy+CtrpsvAAAAB6AZ6jakK/GzH23bGll7IWcfKiwC95UbQQeZe6rQ14eJme6vigcDVM0CVpsb2fGxDIAR4NO7lKHwo+0aYtIXmHYZnNlda0rwF78QfcbofZQ9rhqgKWOUmbU8aRL1pJuqEu/4qyWIPSewi+yeXTvbPOXFRBwMyqboPIE6cAAAE8QZqmSeEPJlMFPDf//qjeVYGMiyEqG/QvKJWP97rX2l4AKoAT37rKpN2lQzrbFEanWRpC0IHJ0S+V1fsXEgPI0ME99gJEZicN6HGO66nWxANWlPvvXuftyc/sbpa3r+YZP2qsItyKTJMsz9W/tdRrLAGtG34vLkqOEB4J2pa9Mkst3VtZO0htVtH2H6M8PbiVTW2DYjq48eypqEoWlvk1V5RvlKU8hacq4U88YI2tf2djtSY/2IZwMRA7lMqNamVchsRL0sTV9oIcPSz/cVMYeH/ZGWwhvqd2X2mAzs1ataAQG6ux0fX6UwqjoJ5AO6DS4thXaFsylT61AkNEl7oQge7xn+9mUACRWfCEI1W9kV8zQVM048Y0Hx7vEWrVjpV+p9jCTV9U36vlZg78uW1i69gzU/MsYoOS/6j2gQAAAGQBnsVqQr8bMfbdsdNQfH3kP7sxIvgUZOlgHWkyu0cxqTlKNGkchWLgqiCMaQsFmVXdt5sgu4oup+A7IAEwoEubVv67rmr/T/Be9kger3tImfWOMzRzaQG9eg5zLplzz8n8qhixAAAAxUGayEnhDyZTBTw3//6nDKsDGRZCVDfoXkpR9vd7s/VL34o2AGxPVBT4rrV31HXeVumauNjjI7gTfZ6crOkZ66xwD/p/6xDfPlWuBWmgIC4YDjnZ6Jh0hIlKkvoEFBiqy6tNnf4QOygEUeH/kqydjTF/E+p+8JeB2X1zqOT2gKPM/x4AbIFq0KayybP9BYHqyGps29JQ0XOi7fd4t0t+CqlQWCHKi3MtgeJo/7kYD1IvosyBMZInB9DYUXQn7QviN/at9kzXAAAAZgGe52pCvyCAuRPPmrjRFB9oPf5oOUQnmd1D3TQAZRAAM3SQ9070/u19UzOajJNKCsTH/mAErHk3AF0cOmv/Zn2bfQy0v4nNu7XtfyoZS9BtBbCbiXlYRUyjVoJyOcdyXONygci9gAAAAQpBmupJ4Q8mUwU8N//+pwyrAxkWQlQ36F5KUfb3e7QDn+3YQUnL1gy0ktdxxRzUhey3XMSVPa41LlK/skWG3kHDhKduATFeT76o5sfD9S5WEKSsVF6qnzjuVrpsnKW+zPE/yXcXkobB9vs5I+ntFkuPveQ8akotYjQlrf3KoyYzRSUqQD+sVSOla4F5Nhje4gueHqOk56yjWsI8CAYd+s4cCRwYNznvgfgvEQCnJ/hGRMdXJECdMX9Mu3qGjfDdVXkdzh9yQBTYQu5dqmU4U9CMmTbsw5Kvsah89kgZvKqOjx/IkR/Ojtz32mCRC7AYS1x4AqvJiz5PIW6P9CW1qPNVBC/AOIucPasE3QAAAF4BnwlqQr8ggLkTz5qg4WE3JE6OP09y7cqJdiDp16xS8UgJ3uCJxNA59mdbck33GLX4GTtxrjr2tYAUsQubjvH7sq25kB8O1hk84IEZ0/nXMaHmxT1OVURiOWpjAKCxAAACe0GbDEnhDyZTBTw3//6k1mrYMiyEqG/QvJU39fvQxIAC7yNpKeBGx/IHeOxQSYDOHiZi3iIpaGUAAVPFfs75VxkLcTgd2pTOfknmvCdxJBmhJZ6qq9fTj5oH1SB+2M07qz6K+UFuLkvFDSPIazLlV/r5TjjDavuHBjS33HhfAU5uSFz06zR5oplqgrhHNnX2RWI+BK1MYxfMfA5SfY3xhakmonYswRO/0swpKKbxsK+Qq/v9pDOkNA2QZh5MB8ZRysRi3BCc2B7Z2yZjFv+bEsUlQHBD8Ydg301Zpm+CZY5euMH6uVOS8vYS/J22c7oQ68PQk/gqvPt9OyjzHta69dQgvfBeJ61aJSbV+risr6ZyI6w3RMC80Q6o/rpsAySNB5RzdEleGCTuF4xcQP1nLPe8tWbmXxjiNQUff/+CD5yBVMF9ZEcmBe/7TD2rzruUiJXpgbAwt/o13OYK0Qv39pIo5Ct86SKTsCAG4An1T1J5q2bjfPxPBQhQTBmzip3MBxK32gQGXt7QXWwZg8YNMTA+GkYoS8xiJyo6V6bdBoWTS6pRN0p5z+lhVMsFl7Qb95Jkxg/AZadOjzawlQDZZsGCSQsmkTRdxGtVgQzs/nVlxMvVG6RJZ9D8OCEvvgZXfAzmstCYAFRu1pYovvr/kZ1OnLl1rtU13cxbRarwdSMqrgEyD88rJNlK7OsyA2r2rtHjst3c70gJaaLsUjXtB3uTcp0EJUtfUibGS8b75Bd77NLdzz3Nz+FlwYQj7jtl1D7EZB2JyHil9ATdH21lQ1WWrDdURgXV0AC/ZJIPb8LeXALx5DLCuyOMhniWjyH+Yc6C6S0I17VLOBZgAAAAigGfK2pCvyaAuRPPkmzBN1batup756xWrdGrJLhnfxgDDyACKYfvGsOCI3g3v5MUTmnumTPMAJbEV8h+GahEdRs5za3at67rLupmYExbZXHe9R9970tDIS5i5esOXuDED7DNgvaU9PfIGPG65Xl7To5dBANUlSCda3npRBKp6JHReua+yCByxmuaSAAAAXZBmy5J4Q8mUwU8N//+pNZq2DIshKhv0LyUCc9QAj1fxwm5OverqDOhfv2T7tm3yAtKyzgI33YjPFxFP5mK+5a6ARuL+FSXTx7gOcBh3GuPKXod0U8+vxxrrS2eT7P/H5sBTruAhsq7Tv/ElQQ+/Lhwh1FLMBOFe4oL7tIPoDgSuS/U7VDnHXmNAQ7eWMqbXL/6uMmhQOBApmvgRAgOqzMtk2oKFC7jMS+p1ZL+i6FcJTvUXamTPVyL8PUtdjR37+iOGQPrhtU+6quH52aZzXxGP9cFMw/2Yz4gsPa+YRfEGdfOU5R2qI7FayblHQkujQw5/uS0wzl4A4yVaPs2WeRr+TNfizJj3gc8hOuhyvhBsLFP5Lg39001JvD6IaTIHhesynz4QvegBq1yBhmCtw33GZP4+paC9Gi2Epm09Vp+6jiWsY+e/3DMFNo9gumpZXWVgOfTCguu+D8EYoaFcflRqRdWBeZgKEZQKdu+cfAVs8NHq+o7kQAAAHwBn01qQr8mgLka0ubHEp3voZ5ynbMDKFpyh8JujQgc2Bhi1r+W1tePdzQLeEPSIVP373wdu+reSjAYVyhpfdKWJoH7//AAJWNT7ZTZVukq5EKl3CAAGK/z2hnWyMEAIhad5FJMCwW9gWeGwmnoDcv/CLdnfAnXXSkmHtUxAAABqkGbUUnhDyZTAhn//NXs3+JZ1D5UAD5o+CBw8Rqd+RTTh2BL37LfF4wdsbxc/piqwXBKsTQWWkBRkjlCmKmu8ERwyeS+H73h3zsgz8pDapmx3vu1Z/NIXDBdr8LfgIvyNueLaDQuWfd1bHJuKQHgedZMSHqiKYAxo0QbM9uZNCxiias8cAPKDL8W0tCD5QZ044qFHOZy7qjvG7qhzXguf1E93duX5EUyN7Fc1371MkezKUDJh+H5afpv15DesO3OZUJrU5AnhBm3BKwTkUjPL4RT8Tkt6qTmJB212sy0PHtYEpcrJjx/nPzf0P+UZzh4clmBuimwACBx00nVsXDlKvKJPFKDvjLf79HZ9+4caVrqS4hKTbh4CLQd9M1QqE3B/vSsfGXiJhwZRJj8n+M5Ae5Q9aLI1z7qnDfmGQUduW73ia5PqWRXd5354Xzd0zfl0VRiURkD6H36YzZ6u9lcQPPrnAf6yG2aNrQnelCZGKxP4pcIDJIBFzCXjzdet+2/NmBWwIXr1Lsq9XQDyOhVYkzrn/sY75XdvCefFL6Rha/8QV0uk+oev/raHQAAAI9Bn29FETwr/2+MHoWHdJpuihTkhUDgCS5ufOnVD2EAFqDs5pq2L/gECsM0sPHciMHWJ1SAfaDMTDEG08AiIUTmDyxVtKbyjpOd4GgrWqPh0Pxh739QB9KSLZMk3Mc3BVDK8i8NpO00FuTkul1/QfMpUydl82HcbNhxPX8xjF0lnYohqMcA5TQINaFR/UBLwAAAAHIBn5BqQr9u1OULmmQ9XEWoVopAKVVf0n8lARt9LzRHtF1JR8mc0cjVJCRs7KbnjB7p8jcZqGZ/75GuSwP+e/tGjO83auapJC+T63Lm1E41l189T0/3SfwC3jc2g/bkvxn09wga7fS5Muh7MyDF01oIPaAAAAEhQZuSSahBaJlMCF//+4HV/nNEcoABbRyceMCmI/or/N6tY1JTXLo9xR0Lb77tZNrZxzdVhGixYPted/aKJz88pEuU3sMFo+d7MJJBvoS52LGU5t92UAyI86S5FJ/atjA2G4Q5ewfPvi2nB4rxOPNd+5WALURpMNuKbDmgAXkCrf5K+Os3tucWwlo2Tqbfhex5wwZqqTTKKUKLy723Wi8I0xWE/09Z3VqA0ZRUceGnH8yJXpgz7lsYPpYLXdxUrqkRk9Sy1bEFJzrMTBE/4Ldb3/m7r3SzN1lQO0RhT2UBJz/WxaHkHGgNfG/FJuo5Jg0QYQIjI/T9bxJtXpCA4GP1tEdgJP5Ssl7fjjm5pJsLqwS2ZAif+fnR1gqcgDmVp/BH0wAAAMdBm7NJ4QpSZTAhX/4LmWaO0lWISaxrmLcUAAg0Q/e0WcPfbq7fC4ci/FM0pOoiTZP0yvPmgOpjaOHmMFVnY9g+I7YvfxRO4j96hOzeukY4t7NWtT4uQzGMZjmvx0y0k/9/T5u/90f/6HIaC1oZq1oh+6Z+ZWRRu2z71dXPcr5ZCeW840L9Tl3ouBV4b9NXIB9zt/D1e0+IlormYj6ok2uLk6kS9kzTVtkLn+NuyDCztefk/hdrIPkUN6DgB/1f8OJyEO+qq61AAAAFam1vb3YAAABsbXZoZAAAAAAAAAAAAAAAAAAAA+gAAAh3AAEAAAEAAAAAAAAAAAAAAAABAAAAAAAAAAAAAAAAAAAAAQAAAAAAAAAAAAAAAAAAQAAAAAAAAAAAAAAAAAAAAAAAAAAAAAAAAAAAAAAAAAIAAASUdHJhawAAAFx0a2hkAAAAAwAAAAAAAAAAAAAAAQAAAAAAAAh3AAAAAAAAAAAAAAAAAAAAAAABAAAAAAAAAAAAAAAAAAAAAQAAAAAAAAAAAAAAAAAAQAAAAAEgAAACAAAAAAAAJGVkdHMAAAAcZWxzdAAAAAAAAAABAAAIdwAABAAAAQAAAAAEDG1kaWEAAAAgbWRoZAAAAAAAAAAAAAAAAAAAMAAAAGgAVcQAAAAAAC1oZGxyAAAAAAAAAAB2aWRlAAAAAAAAAAAAAAAAVmlkZW9IYW5kbGVyAAAAA7dtaW5mAAAAFHZtaGQAAAABAAAAAAAAAAAAAAAkZGluZgAAABxkcmVmAAAAAAAAAAEAAAAMdXJsIAAAAAEAAAN3c3RibAAAAJdzdHNkAAAAAAAAAAEAAACHYXZjMQAAAAAAAAABAAAAAAAAAAAAAAAAAAAAAAEgAgAASAAAAEgAAAAAAAAAAQAAAAAAAAAAAAAAAAAAAAAAAAAAAAAAAAAAAAAAAAAAABj//wAAADFhdmNDAWQAFf/hABhnZAAVrNlBIEGhAAADAAEAAAMAMA8WLZYBAAZo6+PLIsAAAAAYc3R0cwAAAAAAAAABAAAANAAAAgAAAAAUc3RzcwAAAAAAAAABAAAAAQAAAZhjdHRzAAAAAAAAADEAAAACAAAEAAAAAAEAAAoAAAAAAQAABAAAAAABAAAAAAAAAAEAAAIAAAAAAQAACgAAAAABAAAEAAAAAAEAAAAAAAAAAQAAAgAAAAABAAAEAAAAAAEAAAYAAAAAAQAAAgAAAAABAAAGAAAAAAEAAAIAAAAAAQAABgAAAAABAAACAAAAAAEAAAYAAAAAAQAAAgAAAAABAAAGAAAAAAEAAAIAAAAAAQAABgAAAAABAAACAAAAAAEAAAYAAAAAAQAAAgAAAAABAAAGAAAAAAEAAAIAAAAAAQAABgAAAAABAAACAAAAAAEAAAYAAAAAAQAAAgAAAAABAAAEAAAAAAEAAAYAAAAAAQAAAgAAAAABAAAEAAAAAAEAAAYAAAAAAQAAAgAAAAABAAAGAAAAAAEAAAIAAAAAAQAABgAAAAABAAACAAAAAAEAAAYAAAAAAQAAAgAAAAABAAAGAAAAAAEAAAIAAAAAAQAABgAAAAABAAACAAAAAAEAAAgAAAAAAgAAAgAAAAACAAAEAAAAABxzdHNjAAAAAAAAAAEAAAABAAAANAAAAAEAAADkc3RzegAAAAAAAAAAAAAANAAAGHAAAACRAAAAiAAAAGMAAAAzAAAANwAAAc4AAAB0AAAAQgAAADwAAADfAAABOwAAAFgAAAH2AAAAZgAAASUAAABdAAABPwAAAFgAAAHUAAAAZgAAAhUAAABpAAABLAAAAGYAAAFKAAAAbgAAAWMAAABuAAABgAAAAHQAAAC4AAAA1AAAAFgAAADrAAAA4wAAAH4AAAFAAAAAaAAAAMkAAABqAAABDgAAAGIAAAJ/AAAAjgAAAXoAAACAAAABrgAAAJMAAAB2AAABJQAAAMsAAAAUc3RjbwAAAAAAAAABAAAAMAAAAGJ1ZHRhAAAAWm1ldGEAAAAAAAAAIWhkbHIAAAAAAAAAAG1kaXJhcHBsAAAAAAAAAAAAAAAALWlsc3QAAAAlqXRvbwAAAB1kYXRhAAAAAQAAAABMYXZmNTguMjkuMTAw\" type=\"video/mp4\">\n",
              "  Your browser does not support the video tag.\n",
              "  </video>"
            ]
          },
          "metadata": {},
          "execution_count": 78
        }
      ]
    },
    {
      "cell_type": "markdown",
      "source": [
        "## Validation"
      ],
      "metadata": {
        "id": "Vk9cklTikbu_"
      }
    },
    {
      "cell_type": "markdown",
      "source": [
        "#### Validation Section\n",
        "\n",
        "In this section, you will validate your agent’s performance using the best-performing configuration identified in the experimentation phase. This validation step should be less exhaustive than the experimentation section but should provide sufficient evidence of your agent's consistency and stability.\n",
        "\n",
        "1. **Run Validation Trials**:\n",
        "   - Using the chosen configuration, run the agent in the environment for **multiple trials** (e.g., 5-10 episodes) to test its reliability.\n",
        "   - Observe the agent's performance across these trials to confirm whether it consistently achieves or exceeds the target score of 10.\n",
        "\n",
        "2. **Provide Key Summaries**:\n",
        "   - **Performance Metrics**: Summarize the agent’s performance with key metrics such as average score, highest score, and variance across trials.\n",
        "   - **Graphs** (Optional): Include basic graphs showing score progression or any other relevant metric, if they provide additional insight into the agent's stability.\n",
        "\n",
        "3. **Brief Analysis**:\n",
        "   - Reflect on the agent's performance in validation. Note any patterns or inconsistencies and provide a short explanation of how these results align (or differ) from your expectations based on the experimentation phase.\n",
        "\n",
        "*Note*: This validation section should confirm and strengthen the results of your experimentation, focusing on reliability and consistency rather than extensive analysis.\n",
        "\n",
        "*Note*: Store the agent's policy to files since you asked to provide aditional notbook that loads the agent policy\n"
      ],
      "metadata": {
        "id": "-4Z_jvJErVsQ"
      }
    },
    {
      "cell_type": "code",
      "source": [
        "\"\"\"\n",
        "Insert you validation code here\n",
        "\"\"\""
      ],
      "metadata": {
        "id": "65TXpKkgkeic",
        "colab": {
          "base_uri": "https://localhost:8080/"
        },
        "outputId": "31d46a28-f289-4531-e738-e0aad79e90eb"
      },
      "execution_count": null,
      "outputs": [
        {
          "output_type": "execute_result",
          "data": {
            "text/plain": [
              "'\\nInsert you validation code here\\n'"
            ],
            "application/vnd.google.colaboratory.intrinsic+json": {
              "type": "string"
            }
          },
          "metadata": {},
          "execution_count": 50
        }
      ]
    }
  ]
}